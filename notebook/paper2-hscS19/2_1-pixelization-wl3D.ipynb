{
 "cells": [
  {
   "cell_type": "markdown",
   "metadata": {},
   "source": [
    "+ Pixelized shear measurements (smoothing -> pixelize/ pixelize -> smoothing)\n",
    "+ Get the variance map (mock/analytical)"
   ]
  },
  {
   "cell_type": "code",
   "execution_count": 2,
   "metadata": {},
   "outputs": [
    {
     "name": "stdout",
     "output_type": "stream",
     "text": [
      "Populating the interactive namespace from numpy and matplotlib\n"
     ]
    }
   ],
   "source": [
    "%pylab inline\n",
    "import os\n",
    "import gc\n",
    "import glob\n",
    "import numpy as np\n",
    "import astropy.io.fits as pyfits\n",
    "import maputil as mapUtil\n",
    "from configparser import ConfigParser\n",
    "from pixel3D import cartesianGrid3D"
   ]
  },
  {
   "cell_type": "code",
   "execution_count": 3,
   "metadata": {},
   "outputs": [],
   "source": [
    "key='dempz'\n",
    "configName  =   'wrkDir/config-nl15.ini'\n",
    "parser      =   ConfigParser()\n",
    "parser.read(configName)\n",
    "\n",
    "configName  =   'wrkDir/config-nl15.ini'\n",
    "pDict={'dempz': 'demp',\\\n",
    "       'dnnz': 'dnn',\\\n",
    "       'mizuki': 'mizuki'}"
   ]
  },
  {
   "cell_type": "code",
   "execution_count": 12,
   "metadata": {},
   "outputs": [],
   "source": [
    "colname=pDict[key]\n",
    "for fieldname in mapUtil.field_names:\n",
    "    inDir  =   'wrkDir/reGaus_catalog/%s_groups/' %fieldname\n",
    "    outDir =   'wrkDir/reGaus_pixel3D/%s_groups/' %fieldname\n",
    "    if not os.path.isdir(outDir):\n",
    "        os.mkdir(outDir)\n",
    "    fnames=glob.glob(os.path.join(inDir,'src-group-*.fits'))\n",
    "    for fname in fnames:\n",
    "        gn=fname.split('-')[-1].split('.')[0]\n",
    "        # update zbounds\n",
    "        bname=os.path.join(outDir,'group-%s-%s-10bins.fits' %(gn,key))\n",
    "        bounds=pyfits.getdata(bname,ext=1)['zbounds']\n",
    "        parser.set('sourceZ','zbound','[%s]' %(','.join([str(bb) for bb in bounds])))\n",
    "        gridInfo    =   cartesianGrid3D(parser)\n",
    "        glab=fieldname+\"-%s\"%gn\n",
    "        # poz average\n",
    "        data=pyfits.getdata(fname)\n",
    "        mask=(~np.isnan(data['%s_zbest' %colname]))\\\n",
    "            &(data['%s_zbest_std'%colname]<1.0)\\\n",
    "            &(data['%s_zbest'%colname]<3.0)\\\n",
    "            &(data['%s_zbest'%colname]>0.05)\n",
    "        data=data[mask]\n",
    "        wsAve=np.average(data['weight'])\n",
    "        ws=data['weight']/wsAve\n",
    "        z=data['%s_zbest'%colname]\n",
    "        x,y=gridInfo.setupTanPlane(data['ra'],data['dec'])\n",
    "        out1=gridInfo.pixelize_data(x,y,z,data['g1'],ws=ws)\n",
    "        out2=gridInfo.pixelize_data(x,y,z,data['g2'],ws=ws)\n",
    "        outname1=os.path.join(outDir,'group-%s-%s-g1Map.fits' %(gn,key))\n",
    "        outname2=os.path.join(outDir,'group-%s-%s-g2Map.fits' %(gn,key))\n",
    "        pyfits.writeto(outname1,out1,overwrite=True)\n",
    "        pyfits.writeto(outname2,out2,overwrite=True)\n",
    "        outname3=os.path.join(outDir,'group-%s-%s-g1Hist.png' %(gn,key))\n",
    "        mapUtil.plotHist(glab,data['g1'],out1[out1!=0],outname3)\n",
    "        del out1,out2,data,bounds,x,y,z,ws\n",
    "        gc.collect()"
   ]
  },
  {
   "cell_type": "markdown",
   "metadata": {},
   "source": [
    "# Mock"
   ]
  },
  {
   "cell_type": "code",
   "execution_count": 9,
   "metadata": {},
   "outputs": [],
   "source": [
    "nsim=100\n",
    "colname=pDict[key]\n",
    "for fieldname in mapUtil.field_names:\n",
    "    inDir  =   'wrkDir/reGaus_catalog/%s_groups/' %fieldname\n",
    "    outDir =   'wrkDir/reGaus_pixel3D/%s_groups/' %fieldname\n",
    "    fnames=glob.glob(os.path.join(inDir,'src-group-*.fits'))\n",
    "    for fname in fnames:\n",
    "        gn=fname.split('-')[-1].split('.')[0]\n",
    "        outDir2=os.path.join(outDir,'mock-group-%s'%gn)\n",
    "        if not os.path.isdir(outDir2):\n",
    "            os.mkdir(outDir2)\n",
    "        # update zbounds\n",
    "        bname=os.path.join(outDir,'group-%s-%s-10bins.fits' %(gn,key))\n",
    "        bounds=pyfits.getdata(bname,ext=1)['zbounds']\n",
    "        parser.set('sourceZ','zbound','[%s]' %(','.join([str(bb) for bb in bounds])))\n",
    "        gridInfo    =   cartesianGrid3D(parser)\n",
    "        data=pyfits.getdata(fname)\n",
    "        mask=(~np.isnan(data['%s_zbest' %colname]))\\\n",
    "            &(data['%s_zbest_std'%colname]<1.0)\\\n",
    "            &(data['%s_zbest'%colname]<3.0)\\\n",
    "            &(data['%s_zbest'%colname]>0.05)\n",
    "        data=data[mask]\n",
    "        wsAve=np.average(data['weight'])\n",
    "        ws=data['weight']/wsAve\n",
    "        z=data['%s_zbest'%colname]\n",
    "        x,y=gridInfo.setupTanPlane(data['ra'],data['dec'])\n",
    "        del data,bounds\n",
    "        gc.collect()\n",
    "        for i in range(nsim):\n",
    "            # poz average\n",
    "            fname2=os.path.join(inDir,'mock-group-%s'%gn,'sim-%d.fits'%i)\n",
    "            data=pyfits.getdata(fname2)[mask]\n",
    "            out1=gridInfo.pixelize_data(x,y,z,data['g1'],ws=ws)\n",
    "            out2=gridInfo.pixelize_data(x,y,z,data['g2'],ws=ws)\n",
    "            outname1=os.path.join(outDir2,'sim-%s-%s-g1Map.fits' %(i,key))\n",
    "            outname2=os.path.join(outDir2,'sim-%s-%s-g2Map.fits' %(i,key))\n",
    "            pyfits.writeto(outname1,out1,overwrite=True)\n",
    "            pyfits.writeto(outname2,out2,overwrite=True)\n",
    "            del out1,out2,data\n",
    "            gc.collect()\n",
    "        break\n",
    "    break"
   ]
  },
  {
   "cell_type": "code",
   "execution_count": 5,
   "metadata": {},
   "outputs": [],
   "source": [
    "nsim=100\n",
    "for fieldname in mapUtil.field_names:\n",
    "    inDir  =   'wrkDir/reGaus_catalog/%s_groups/' %fieldname\n",
    "    outDir =   'wrkDir/reGaus_pixel3D/%s_groups/' %fieldname\n",
    "    fnames=glob.glob(os.path.join(inDir,'src-group-*.fits'))\n",
    "    for fname in fnames:\n",
    "        gn=fname.split('-')[-1].split('.')[0]\n",
    "        outDir2=os.path.join(outDir,'mock-group-%s'%gn)\n",
    "        gStd=np.zeros(pyfits.getdata(os.path.join(outDir2,'sim-0-%s-g1Map.fits' %key)).shape)\n",
    "        for i in range(nsim):\n",
    "            gStd+=(pyfits.getdata(os.path.join(outDir2,'sim-%s-%s-g1Map.fits' %(i,key))))**2.\n",
    "            gStd+=(pyfits.getdata(os.path.join(outDir2,'sim-%s-%s-g2Map.fits' %(i,key))))**2.\n",
    "        gStd/=nsim\n",
    "        gStd=np.sqrt(gStd)\n",
    "        pyfits.writeto(os.path.join(outDir,'group-%s-%s-stdMap.fits' %(gn,key)),gStd,overwrite=True)\n",
    "        break\n",
    "    break"
   ]
  }
 ],
 "metadata": {
  "kernelspec": {
   "display_name": "Python 3",
   "language": "python",
   "name": "python3"
  },
  "language_info": {
   "codemirror_mode": {
    "name": "ipython",
    "version": 3
   },
   "file_extension": ".py",
   "mimetype": "text/x-python",
   "name": "python",
   "nbconvert_exporter": "python",
   "pygments_lexer": "ipython3",
   "version": "3.7.6"
  },
  "widgets": {
   "application/vnd.jupyter.widget-state+json": {
    "state": {},
    "version_major": 2,
    "version_minor": 0
   }
  }
 },
 "nbformat": 4,
 "nbformat_minor": 4
}
