{
 "cells": [
  {
   "cell_type": "code",
   "execution_count": 40,
   "metadata": {},
   "outputs": [
    {
     "name": "stdout",
     "output_type": "stream",
     "text": [
      "Populating the interactive namespace from numpy and matplotlib\n"
     ]
    }
   ],
   "source": [
    "%pylab inline\n",
    "import os\n",
    "import gc\n",
    "import glob\n",
    "import numpy as np\n",
    "import astropy.io.fits as pyfits\n",
    "import astropy.table as astTab\n",
    "import maputil as mapUtil"
   ]
  },
  {
   "cell_type": "markdown",
   "metadata": {},
   "source": [
    "# Prepare small catalogs"
   ]
  },
  {
   "cell_type": "code",
   "execution_count": 8,
   "metadata": {},
   "outputs": [
    {
     "name": "stdout",
     "output_type": "stream",
     "text": [
      "XMM\n",
      "0\n",
      "response: 0.8468188729925158\n",
      "multiplicative bias: 0.0\n",
      "GAMA09H\n",
      "0\n",
      "response: 0.8442931499596258\n",
      "multiplicative bias: 0.0\n",
      "WIDE12H\n",
      "0\n",
      "response: 0.8447782679393657\n",
      "multiplicative bias: 0.0\n",
      "GAMA15H\n",
      "0\n",
      "response: 0.8432363259597689\n",
      "multiplicative bias: 0.0\n",
      "VVDS\n",
      "0\n",
      "response: 0.8418525728419027\n",
      "multiplicative bias: 0.0\n",
      "HECTOMAP\n",
      "0\n",
      "response: 0.8422453076863876\n",
      "multiplicative bias: 0.0\n"
     ]
    }
   ],
   "source": [
    "colnames=['tract','Id','ra','dec','g1','g2','weight','bias_m','dnn_zbest','dnn_zbest_std','demp_zbest','demp_zbest_std','mizuki_zbest','mizuki_zbest_std']\n",
    "for fieldname in mapUtil.field_names:\n",
    "    print(fieldname)\n",
    "    data=pyfits.getdata('datDir/catalog_obs_reGaus_no_m/%s_no_m.fits' %fieldname)\n",
    "    zata=pyfits.getdata('datDir/catalog_others/%s_pz_2.fits' %fieldname)\n",
    "    ra=data['i_ra']\n",
    "    dec=data['i_dec']\n",
    "    e1      =   data['i_hsmshaperegauss_e1']\n",
    "    e2      =   data['i_hsmshaperegauss_e2']\n",
    "    m_b     =   np.zeros(len(data))\n",
    "    Id      =   data['object_id']\n",
    "    tract   =   data['tract']\n",
    "    c1_b    =   data['i_hsmshaperegauss_derived_shear_bias_c1']\n",
    "    c2_b    =   data['i_hsmshaperegauss_derived_shear_bias_c2']\n",
    "    weight  =   data['i_hsmshaperegauss_derived_weight']\n",
    "    dnnzBest=   zata['dnnz_photoz_best']\n",
    "    dnnzStd =   zata['dnnz_photoz_std_best']\n",
    "    dempzBest=   zata['demp_photoz_best']\n",
    "    dempzStd =   zata['demp_photoz_std_best']\n",
    "    mizukizBest=   zata['mizuki_photoz_best']\n",
    "    mizukizStd =   zata['mizuki_photoz_std_best']\n",
    "    print(np.sum(np.isnan(zata['mizuki_photoz_best'])))\n",
    "    w_A     =   np.sum(weight)\n",
    "    m_bA    =   np.sum(m_b*weight)/w_A\n",
    "    Res_A   =   1.-np.sum(data['i_hsmshaperegauss_derived_rms_e']**2.*weight)/w_A\n",
    "    print('response: %s' %Res_A)\n",
    "    print('multiplicative bias: %s' %m_bA)\n",
    "    g1      =   1./(1.+m_bA)*(e1/2./Res_A-c1_b)\n",
    "    g2      =   1./(1.+m_bA)*(e2/2./Res_A-c2_b)\n",
    "    dataOut=astTab.Table(names=colnames,data=[tract,Id,ra,dec,g1,g2,weight,m_b,dnnzBest,dnnzStd,dempzBest,dempzStd,mizukizBest,mizukizStd])\n",
    "    dataOut.meta.update({'ra_min':np.min(ra)})\n",
    "    dataOut.meta.update({'dec_min':np.min(dec)})\n",
    "    dataOut.meta.update({'ra_max':np.max(ra)})\n",
    "    dataOut.meta.update({'dec_max':np.max(dec)})\n",
    "    dataOut.write('wrkDir/reGaus_catalog/%s.fits' %fieldname,overwrite=True)\n",
    "    if False:\n",
    "        break\n",
    "    else:\n",
    "        del g1,g2,data,m_b,c1_b,c2_b,dnnzBest,dnnzStd,dempzBest,dempzStd,mizukizBest,mizukizStd,dataOut\n",
    "        gc.collect()"
   ]
  },
  {
   "cell_type": "markdown",
   "metadata": {},
   "source": [
    "# Divide into groups"
   ]
  },
  {
   "cell_type": "code",
   "execution_count": 33,
   "metadata": {},
   "outputs": [],
   "source": [
    "pad=1.\n",
    "for fieldname in mapUtil.field_names:\n",
    "    outDir='wrkDir/reGaus_catalog/%s_groups/' %fieldname\n",
    "    if not os.path.isdir(outDir):\n",
    "        os.mkdir(outDir)\n",
    "    \n",
    "    data=pyfits.getdata('wrkDir/reGaus_catalog/%s.fits' %fieldname)\n",
    "    if fieldname=='VVDS':\n",
    "        addR=(data['ra']<300.).astype(int)*360\n",
    "        data['ra']+=addR\n",
    "    ymin=np.min(data['dec'])\n",
    "    ymax=np.max(data['dec'])\n",
    "    ny=mapUtil.field_ny[fieldname]\n",
    "    ybound=np.linspace(ymin,ymax,ny+1)\n",
    "    ylow=ybound[:-1];yhigh=ybound[1:]\n",
    "    ylow=ylow-pad;yhigh=yhigh+pad\n",
    "    for iy in range(ny):\n",
    "        ymean= (ybound[iy]+ybound[iy+1])/2.\n",
    "        mask0= (data['dec']>ymean+iy*1.-1.)&(data['dec']<=ymean+iy*1.)\n",
    "        dataT= data[mask0]\n",
    "        xmin=  np.min(dataT['ra'])\n",
    "        xmax=  np.max(dataT['ra'])\n",
    "        del dataT\n",
    "        gc.collect()\n",
    "        nx  =  int((xmax-xmin)/6.)+1\n",
    "        xbound=np.linspace(xmin,xmax,nx+1)\n",
    "        xlow=xbound[:-1];xhigh=xbound[1:]\n",
    "        xlow=xlow-pad;xhigh=xhigh+pad\n",
    "        for ix in range(nx):\n",
    "            mask=(data['ra']>xlow[ix])&(data['ra']<xhigh[ix]) \\\n",
    "                &(data['dec']>ylow[iy])&(data['dec']<yhigh[iy])\n",
    "            dataU=data[mask]\n",
    "            if np.sum(mask)>100. and np.max(dataU['dec'])>ylow[iy]+pad*2. and np.min(dataU['dec'])<yhigh[iy]-pad*2.:\n",
    "                pyfits.writeto(os.path.join(outDir,'src-group-%d%d.fits' %(iy,ix)),dataU)\n",
    "        del mask0,dataU\n",
    "        gc.collect()\n",
    "    del data\n",
    "    gc.collect()"
   ]
  },
  {
   "cell_type": "markdown",
   "metadata": {},
   "source": [
    "# Pixelization"
   ]
  },
  {
   "cell_type": "code",
   "execution_count": 107,
   "metadata": {},
   "outputs": [
    {
     "name": "stdout",
     "output_type": "stream",
     "text": [
      "['wrkDir/reGaus_catalog/XMM_groups/src-group-00.fits', 'wrkDir/reGaus_catalog/XMM_groups/src-group-10.fits', 'wrkDir/reGaus_catalog/XMM_groups/src-group-11.fits', 'wrkDir/reGaus_catalog/XMM_groups/src-group-01.fits']\n"
     ]
    }
   ],
   "source": [
    "for fieldname in mapUtil.field_names:\n",
    "    outDir='wrkDir/reGaus_catalog/%s_groups/' %fieldname\n",
    "    assert os.path.isdir(outDir)\n",
    "    fnames=glob.glob(os.path.join(outDir,'src-group-*.fits'))\n",
    "    print(fnames)\n",
    "    for fname in fnames:\n",
    "        assert os.path.isfile(fname)\n",
    "        data=pyfits.getdata(fname)\n",
    "        break\n",
    "    break"
   ]
  },
  {
   "cell_type": "code",
   "execution_count": 108,
   "metadata": {},
   "outputs": [
    {
     "data": {
      "text/plain": [
       "['tract',\n",
       " 'Id',\n",
       " 'ra',\n",
       " 'dec',\n",
       " 'g1',\n",
       " 'g2',\n",
       " 'weight',\n",
       " 'bias_m',\n",
       " 'dnn_zbest',\n",
       " 'dnn_zbest_std',\n",
       " 'demp_zbest',\n",
       " 'demp_zbest_std',\n",
       " 'mizuki_zbest',\n",
       " 'mizuki_zbest_std']"
      ]
     },
     "execution_count": 108,
     "metadata": {},
     "output_type": "execute_result"
    }
   ],
   "source": [
    "data.names"
   ]
  },
  {
   "cell_type": "code",
   "execution_count": 111,
   "metadata": {},
   "outputs": [
    {
     "name": "stdout",
     "output_type": "stream",
     "text": [
      "0.9291141179359076\n"
     ]
    }
   ],
   "source": [
    "mask=(~np.isnan(data['dnn_zbest']))\\\n",
    "    &(data['dnn_zbest_std']<1.0)\\\n",
    "    &(data['dnn_zbest']<3.0)\\\n",
    "    &(data['dnn_zbest']>0.05)\n",
    "print(np.sum(mask)/len(mask))\n",
    "data=data[mask]\n",
    "bins=np.percentile(data['dnn_zbest'],np.linspace(0,100,11))"
   ]
  },
  {
   "cell_type": "code",
   "execution_count": 103,
   "metadata": {},
   "outputs": [
    {
     "data": {
      "image/png": "[encoded data removed]",
      "text/plain": [
       "<Figure size 432x288 with 1 Axes>"
      ]
     },
     "metadata": {
      "needs_background": "light"
     },
     "output_type": "display_data"
    }
   ],
   "source": [
    "down,_,_=plt.hist(data['dnn_zbest'],bins=50)"
   ]
  },
  {
   "cell_type": "code",
   "execution_count": 104,
   "metadata": {},
   "outputs": [
    {
     "data": {
      "image/png": "[encoded data removed]",
      "text/plain": [
       "<Figure size 432x288 with 1 Axes>"
      ]
     },
     "metadata": {
      "needs_background": "light"
     },
     "output_type": "display_data"
    }
   ],
   "source": [
    "up,x,_=plt.hist(data['dnn_zbest'],weights=data['dnn_zbest_std'],bins=50)"
   ]
  },
  {
   "cell_type": "code",
   "execution_count": 105,
   "metadata": {},
   "outputs": [
    {
     "data": {
      "text/plain": [
       "[<matplotlib.lines.Line2D at 0x7f51fa74d0d0>]"
      ]
     },
     "execution_count": 105,
     "metadata": {},
     "output_type": "execute_result"
    },
    {
     "data": {
      "image/png": "[encoded data removed]",
      "text/plain": [
       "<Figure size 432x288 with 1 Axes>"
      ]
     },
     "metadata": {
      "needs_background": "light"
     },
     "output_type": "display_data"
    }
   ],
   "source": [
    "plt.plot(x[:-1],up/down)"
   ]
  },
  {
   "cell_type": "code",
   "execution_count": 106,
   "metadata": {},
   "outputs": [
    {
     "data": {
      "text/plain": [
       "array([0.06      , 0.36000001, 0.5       , 0.62      , 0.73000002,\n",
       "       0.85000002, 0.94999999, 1.10000002, 1.24000001, 1.5       ,\n",
       "       2.99000001])"
      ]
     },
     "execution_count": 106,
     "metadata": {},
     "output_type": "execute_result"
    }
   ],
   "source": [
    "bins"
   ]
  },
  {
   "cell_type": "code",
   "execution_count": null,
   "metadata": {},
   "outputs": [],
   "source": []
  }
 ],
 "metadata": {
  "kernelspec": {
   "display_name": "Python 3",
   "language": "python",
   "name": "python3"
  },
  "language_info": {
   "codemirror_mode": {
    "name": "ipython",
    "version": 3
   },
   "file_extension": ".py",
   "mimetype": "text/x-python",
   "name": "python",
   "nbconvert_exporter": "python",
   "pygments_lexer": "ipython3",
   "version": "3.7.6"
  },
  "widgets": {
   "application/vnd.jupyter.widget-state+json": {
    "state": {},
    "version_major": 2,
    "version_minor": 0
   }
  }
 },
 "nbformat": 4,
 "nbformat_minor": 4
}
