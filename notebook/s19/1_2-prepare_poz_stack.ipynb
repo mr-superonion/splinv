{
 "cells": [
  {
   "cell_type": "code",
   "execution_count": 1,
   "metadata": {},
   "outputs": [
    {
     "name": "stdout",
     "output_type": "stream",
     "text": [
      "Populating the interactive namespace from numpy and matplotlib\n"
     ]
    }
   ],
   "source": [
    "%pylab inline\n",
    "import os\n",
    "import gc\n",
    "import glob\n",
    "import numpy as np\n",
    "import astropy.io.fits as pyfits\n",
    "import maputil as mapUtil\n",
    "from configparser import ConfigParser\n",
    "from pixel3D import cartesianGrid3D"
   ]
  },
  {
   "cell_type": "markdown",
   "metadata": {},
   "source": [
    "# Estimate average poz and lensing kernel"
   ]
  },
  {
   "cell_type": "code",
   "execution_count": 103,
   "metadata": {},
   "outputs": [],
   "source": [
    "configName  =   'wrkDir/config-nl15.ini'\n",
    "pDict={'dempz': 'demp',\\\n",
    "       'dnnz': 'dnn',\\\n",
    "       'mizuki': 'mizuki'}\n",
    "\n",
    "def plotPozAve(fieldname,pozBin,pozAve,oname):\n",
    "    plt.close()\n",
    "    for i in range(0,10):\n",
    "        plt.plot(pozBin,pozAve[i],label=r'zbin:%d' %(i+1))\n",
    "    plt.xlim(-0.1,3)\n",
    "    plt.ylim(0.,0.082)\n",
    "    plt.legend()\n",
    "    plt.xlabel('z',fontsize=15)\n",
    "    plt.ylabel('PDF',fontsize=15)\n",
    "    plt.title(fieldname)\n",
    "    plt.grid()\n",
    "    plt.tight_layout()\n",
    "    plt.savefig(oname)\n",
    "    plt.close()\n",
    "    return\n",
    "\n",
    "def plotLensKernel(fieldname,zcgrid,lensKernel1,lensKernel2,oname):\n",
    "    plt.close()\n",
    "    cmap=plt.get_cmap('tab20')\n",
    "    for i in range(0,15,2):\n",
    "        norm1=np.sqrt(np.sum(lensKernel1[:,i]**2.))\n",
    "        norm2=np.sqrt(np.sum(lensKernel2[:,i]**2.))\n",
    "        plt.plot(zcgrid,lensKernel1[:,i]/norm1,'-',c=cmap(i))\n",
    "        plt.plot(zcgrid,lensKernel2[:,i]/norm2,'--',c=cmap(i))\n",
    "    plt.xlabel(r'$z_s$',fontsize=15)\n",
    "    plt.ylabel('lensing kernel',fontsize=15)\n",
    "    plt.grid()\n",
    "    plt.title(fieldname)\n",
    "    plt.tight_layout()\n",
    "    plt.savefig(oname)\n",
    "    plt.close()\n",
    "    return"
   ]
  },
  {
   "cell_type": "code",
   "execution_count": 104,
   "metadata": {},
   "outputs": [],
   "source": [
    "nz=10\n",
    "key='dempz'\n",
    "colname=pDict[key]\n",
    "pzDir=os.path.join('datDir/catalog_tracts/','XMM_tracts/')\n",
    "pbins= pyfits.getdata(os.path.join(pzDir,'8522_pz_pdf_%s.fits' %key),ext=2)['BINS']\n",
    "nbin=len(pbins)\n",
    "for fieldname in mapUtil.field_names:\n",
    "    inDir  =   'wrkDir/reGaus_catalog/%s_groups/' %fieldname\n",
    "    outDir =   'wrkDir/reGaus_pixel3D/%s_groups/' %fieldname\n",
    "    if not os.path.isdir(outDir):\n",
    "        os.mkdir(outDir)\n",
    "    fnames=glob.glob(os.path.join(inDir,'src-group-*.fits'))\n",
    "    for fname in fnames:\n",
    "        gn=fname.split('-')[-1].split('.')[0]\n",
    "        glab=fieldname+\"-%s\"%gn\n",
    "        # poz average\n",
    "        outname1=os.path.join(outDir,'group-%s-%s-10bins.fits' %(gn,key))\n",
    "        if os.path.isfile(outname1):\n",
    "            poz_ave=pyfits.getdata(outname1,ext=0)\n",
    "            bounds=pyfits.getdata(outname1,ext=1)['zbounds']\n",
    "        else:\n",
    "            data=pyfits.getdata(fname)\n",
    "            mask=(~np.isnan(data['%s_zbest' %colname]))\\\n",
    "                &(data['%s_zbest_std'%colname]<1.0)\\\n",
    "                &(data['%s_zbest'%colname]<3.0)\\\n",
    "                &(data['%s_zbest'%colname]>0.05)\n",
    "            poz_best=data['%s_zbest'%colname]\n",
    "            poz_best=poz_best[mask]\n",
    "            bounds=np.percentile(poz_best,np.linspace(0,100,nz+1))\n",
    "            pfname=os.path.join(inDir,'poz-%s-group-%s.fits' %(key,gn))\n",
    "            pata=pyfits.getdata(pfname)\n",
    "            pata=pata[mask]\n",
    "            poz_ave=np.zeros((nz,nbin))\n",
    "            for iz in range(nz):\n",
    "                tmp_msk=(poz_best>=bounds[iz])&(poz_best<bounds[iz+1])\n",
    "                poz_ave[iz]=np.average(pata['PDF'][tmp_msk],axis=0)\n",
    "            out=pyfits.HDUList([pyfits.PrimaryHDU(poz_ave),\\\n",
    "            pyfits.BinTableHDU.from_columns([pyfits.Column(name='zbounds',array=bounds,format='D')])])\n",
    "            out.writeto(outname1,overwrite=True)\n",
    "            del data,pata,out\n",
    "            gc.collect()\n",
    "        outname2=os.path.join(outDir,'group-%s-%s-10bins-pozave.png' %(gn,key))\n",
    "        plotPozAve(glab,pbins,poz_ave,outname2)\n",
    "        \n",
    "        # configuration\n",
    "        parser      =   ConfigParser()\n",
    "        parser.read(configName)\n",
    "        parser.set('sourceZ','zbound','[%s]' %(','.join([str(bb) for bb in bounds])))\n",
    "        gridInfo    =   cartesianGrid3D(parser)\n",
    "        # lensing kernel\n",
    "        outname3=os.path.join(outDir,'group-%s-%s-10bins-lensker.fits' %(gn,key))\n",
    "        if os.path.isfile(outname3):\n",
    "            lensKer1=pyfits.getdata(outname3,ext=0)\n",
    "            lensKer2=pyfits.getdata(outname3,ext=1)\n",
    "        else:\n",
    "            lensKer1= gridInfo.lensing_kernel()\n",
    "            lensKer2= gridInfo.lensing_kernel(poz_grids=pbins,poz_ave=poz_ave)\n",
    "            out=pyfits.HDUList([pyfits.PrimaryHDU(lensKer1),pyfits.ImageHDU(lensKer2)])\n",
    "            out.writeto(outname3,overwrite=True)\n",
    "        outname4=os.path.join(outDir,'group-%s-%s-10bins-lensker.png' %(gn,key))\n",
    "        plotLensKernel(glab,gridInfo.zcgrid,lensKer1,lensKer2,outname4)"
   ]
  }
 ],
 "metadata": {
  "kernelspec": {
   "display_name": "Python 3",
   "language": "python",
   "name": "python3"
  },
  "language_info": {
   "codemirror_mode": {
    "name": "ipython",
    "version": 3
   },
   "file_extension": ".py",
   "mimetype": "text/x-python",
   "name": "python",
   "nbconvert_exporter": "python",
   "pygments_lexer": "ipython3",
   "version": "3.7.6"
  },
  "widgets": {
   "application/vnd.jupyter.widget-state+json": {
    "state": {},
    "version_major": 2,
    "version_minor": 0
   }
  }
 },
 "nbformat": 4,
 "nbformat_minor": 4
}
