{
 "cells": [
  {
   "cell_type": "code",
   "execution_count": 1,
   "metadata": {},
   "outputs": [
    {
     "name": "stdout",
     "output_type": "stream",
     "text": [
      "Populating the interactive namespace from numpy and matplotlib\n"
     ]
    }
   ],
   "source": [
    "%pylab inline\n",
    "import astropy.io.fits as pyfits\n",
    "from mayavi import mlab\n",
    "from configparser import ConfigParser\n",
    "configName  =   'wrkDir/config-nl20.ini'\n",
    "parser      =   ConfigParser()\n",
    "parser.read(configName)\n",
    "raMin=31.;raMax=34.\n",
    "decMin=-5.5;decMax=-2.5"
   ]
  },
  {
   "cell_type": "code",
   "execution_count": 2,
   "metadata": {},
   "outputs": [],
   "source": [
    "fieldname='XMM'\n",
    "outfname4   =  'wrkDir/dnn_photoz/%s_dnnz_10_bins_lensKer.fits' %fieldname\n",
    "lensKer=pyfits.getdata(outfname4)\n",
    "weight=np.sqrt(np.sum(lensKer**2.,axis=0))"
   ]
  },
  {
   "cell_type": "code",
   "execution_count": 3,
   "metadata": {},
   "outputs": [],
   "source": [
    "data1=pyfits.getdata('ccc.fits')\n",
    "data1=data1*weight[:,None,None]\n",
    "pyfits.writeto('sdfas.fits',data1,overwrite=True)"
   ]
  },
  {
   "cell_type": "code",
   "execution_count": 4,
   "metadata": {},
   "outputs": [],
   "source": [
    "data2=pyfits.getdata('./camira_clsmap.fits')\n",
    "data3=pyfits.getdata('./WHL_clsmap.fits')\n",
    "data2=np.bitwise_or(data2.astype(bool),data3.astype(bool)).astype(float)"
   ]
  },
  {
   "cell_type": "code",
   "execution_count": null,
   "metadata": {},
   "outputs": [],
   "source": [
    "mlab.contour3d(data1+0.0000001,contours=6, transparent=True)\n",
    "#mlab.contour3d(data2,contours=1, transparent=True)\n",
    "mlab.outline(extent=[0,20,0,300,0,300])\n",
    "mlab.show()"
   ]
  },
  {
   "cell_type": "code",
   "execution_count": null,
   "metadata": {},
   "outputs": [],
   "source": []
  }
 ],
 "metadata": {
  "kernelspec": {
   "display_name": "Python 3",
   "language": "python",
   "name": "python3"
  },
  "language_info": {
   "codemirror_mode": {
    "name": "ipython",
    "version": 3
   },
   "file_extension": ".py",
   "mimetype": "text/x-python",
   "name": "python",
   "nbconvert_exporter": "python",
   "pygments_lexer": "ipython3",
   "version": "3.7.6"
  }
 },
 "nbformat": 4,
 "nbformat_minor": 4
}
