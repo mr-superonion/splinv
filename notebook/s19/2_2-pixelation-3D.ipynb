{
 "cells": [
  {
   "cell_type": "markdown",
   "metadata": {},
   "source": [
    "+ Pixelized shear measurements (smoothing -> pixelize/ pixelize -> smoothing)\n",
    "+ Get the variance map (mock/analytical)"
   ]
  },
  {
   "cell_type": "code",
   "execution_count": 1,
   "metadata": {},
   "outputs": [
    {
     "name": "stdout",
     "output_type": "stream",
     "text": [
      "Populating the interactive namespace from numpy and matplotlib\n"
     ]
    }
   ],
   "source": [
    "%pylab inline\n",
    "import os\n",
    "import gc\n",
    "import glob\n",
    "import numpy as np\n",
    "import astropy.io.fits as pyfits\n",
    "import maputil as mapUtil\n",
    "from configparser import ConfigParser\n",
    "from pixel3D import cartesianGrid3D\n",
    "from scipy.stats import norm as statnorm"
   ]
  },
  {
   "cell_type": "code",
   "execution_count": 11,
   "metadata": {},
   "outputs": [],
   "source": [
    "configName  =   'wrkDir/config-nl15.ini'\n",
    "parser      =   ConfigParser()\n",
    "parser.read(configName)\n",
    "\n",
    "configName  =   'wrkDir/config-nl15.ini'\n",
    "pDict={'dempz': 'demp',\\\n",
    "       'dnnz': 'dnn',\\\n",
    "       'mizuki': 'mizuki'}\n",
    "\n",
    "def plotHist(fieldname,array,pixels,oname):\n",
    "    cmap=plt.get_cmap('tab20')\n",
    "\n",
    "    plt.figure(figsize=(8,6))\n",
    "\n",
    "    gbin=plt.hist(array,bins=100,density=True,range=(-1.2,1.2),histtype='step',label='galaxy',color=cmap(0))[1]\n",
    "    gbinGal=(gbin-np.average(array))/np.std(array)\n",
    "    a=statnorm.pdf(gbinGal)\n",
    "    plt.plot(gbin,a/np.sum(a)/(gbin[1]-gbin[0]),color=cmap(0),ls='--')\n",
    "\n",
    "    gbin=plt.hist(pixels,bins=100,density=True,range=(-1.2,1.2),histtype='step',label='pixel',color=cmap(2))[1]\n",
    "\n",
    "    gbinPix=(gbin-np.average(pixels))/np.std(pixels)\n",
    "    a=statnorm.pdf(gbinPix)\n",
    "    plt.plot(gbin,a/np.sum(a)/(gbin[1]-gbin[0]),color=cmap(2),ls='--')\n",
    "    plt.title('%s' %fieldname,fontsize=20)\n",
    "    plt.xlabel(r'$\\delta g_1$',fontsize=20)\n",
    "    plt.ylabel(r'$P(\\delta g_1)$',fontsize=20)\n",
    "    plt.legend(fontsize=20)\n",
    "    plt.yscale('log')\n",
    "    plt.ylim(1e-4,15)\n",
    "    plt.grid()\n",
    "    plt.tight_layout()\n",
    "    plt.savefig(oname)\n",
    "    plt.close()\n",
    "    return"
   ]
  },
  {
   "cell_type": "code",
   "execution_count": 12,
   "metadata": {},
   "outputs": [],
   "source": [
    "key='dempz'\n",
    "colname=pDict[key]\n",
    "for fieldname in mapUtil.field_names:\n",
    "    inDir  =   'wrkDir/reGaus_catalog/%s_groups/' %fieldname\n",
    "    outDir =   'wrkDir/reGaus_pixel3D/%s_groups/' %fieldname\n",
    "    if not os.path.isdir(outDir):\n",
    "        os.mkdir(outDir)\n",
    "    fnames=glob.glob(os.path.join(inDir,'src-group-*.fits'))\n",
    "    for fname in fnames:\n",
    "        gn=fname.split('-')[-1].split('.')[0]\n",
    "        # update zbounds\n",
    "        bname=os.path.join(outDir,'group-%s-%s-10bins.fits' %(gn,key))\n",
    "        bounds=pyfits.getdata(bname,ext=1)['zbounds']\n",
    "        parser.set('sourceZ','zbound','[%s]' %(','.join([str(bb) for bb in bounds])))\n",
    "        gridInfo    =   cartesianGrid3D(parser)\n",
    "        glab=fieldname+\"-%s\"%gn\n",
    "        # poz average\n",
    "        data=pyfits.getdata(fname)\n",
    "        mask=(~np.isnan(data['%s_zbest' %colname]))\\\n",
    "            &(data['%s_zbest_std'%colname]<1.0)\\\n",
    "            &(data['%s_zbest'%colname]<3.0)\\\n",
    "            &(data['%s_zbest'%colname]>0.05)\n",
    "        data=data[mask]\n",
    "        wsAve=np.average(data['weight'])\n",
    "        ws=data['weight']/wsAve\n",
    "        z=data['%s_zbest'%colname]\n",
    "        x,y=gridInfo.setupTanPlane(data['ra'],data['dec'])\n",
    "        out1=gridInfo.pixelize_data(x,y,z,data['g1'],ws=ws)\n",
    "        out2=gridInfo.pixelize_data(x,y,z,data['g2'],ws=ws)\n",
    "        outname1=os.path.join(outDir,'group-%s-%s-g1Map.fits' %(gn,key))\n",
    "        outname2=os.path.join(outDir,'group-%s-%s-g2Map.fits' %(gn,key))\n",
    "        pyfits.writeto(outname1,out1,overwrite=True)\n",
    "        pyfits.writeto(outname2,out2,overwrite=True)\n",
    "        outname3=os.path.join(outDir,'group-%s-%s-g1Hist.png' %(gn,key))\n",
    "        plotHist(glab,data['g1'],out1[out1!=0],outname3)\n",
    "        del out1,out2,data,bounds,x,y,z,ws\n",
    "        gc.collect()"
   ]
  },
  {
   "cell_type": "code",
   "execution_count": 3,
   "metadata": {},
   "outputs": [
    {
     "name": "stdout",
     "output_type": "stream",
     "text": [
      "1565.6270882643867 -563.4529855801278\n"
     ]
    },
    {
     "name": "stderr",
     "output_type": "stream",
     "text": [
      "/home/xiangchong/work/ana/lsstsw/miniconda/envs/lsst-scipipe-cb4e2dc/lib/python3.7/site-packages/ipykernel_launcher.py:25: MatplotlibDeprecationWarning: savefig() got unexpected keyword argument \"overwrite\" which is no longer supported as of 3.3 and will become an error two minor releases later\n"
     ]
    },
    {
     "name": "stdout",
     "output_type": "stream",
     "text": [
      "7511.884040200001 -293.94776607479395\n"
     ]
    },
    {
     "name": "stderr",
     "output_type": "stream",
     "text": [
      "/home/xiangchong/work/ana/lsstsw/miniconda/envs/lsst-scipipe-cb4e2dc/lib/python3.7/site-packages/ipykernel_launcher.py:25: MatplotlibDeprecationWarning: savefig() got unexpected keyword argument \"overwrite\" which is no longer supported as of 3.3 and will become an error two minor releases later\n"
     ]
    },
    {
     "name": "stdout",
     "output_type": "stream",
     "text": [
      "9056.585232079698 -280.5903829327962\n"
     ]
    },
    {
     "name": "stderr",
     "output_type": "stream",
     "text": [
      "/home/xiangchong/work/ana/lsstsw/miniconda/envs/lsst-scipipe-cb4e2dc/lib/python3.7/site-packages/ipykernel_launcher.py:25: MatplotlibDeprecationWarning: savefig() got unexpected keyword argument \"overwrite\" which is no longer supported as of 3.3 and will become an error two minor releases later\n"
     ]
    },
    {
     "name": "stdout",
     "output_type": "stream",
     "text": [
      "12186.362086594861 -282.723704951773\n"
     ]
    },
    {
     "name": "stderr",
     "output_type": "stream",
     "text": [
      "/home/xiangchong/work/ana/lsstsw/miniconda/envs/lsst-scipipe-cb4e2dc/lib/python3.7/site-packages/ipykernel_launcher.py:25: MatplotlibDeprecationWarning: savefig() got unexpected keyword argument \"overwrite\" which is no longer supported as of 3.3 and will become an error two minor releases later\n"
     ]
    },
    {
     "name": "stdout",
     "output_type": "stream",
     "text": [
      "19648.172504524035 -240.3134553150722\n"
     ]
    },
    {
     "name": "stderr",
     "output_type": "stream",
     "text": [
      "/home/xiangchong/work/ana/lsstsw/miniconda/envs/lsst-scipipe-cb4e2dc/lib/python3.7/site-packages/ipykernel_launcher.py:25: MatplotlibDeprecationWarning: savefig() got unexpected keyword argument \"overwrite\" which is no longer supported as of 3.3 and will become an error two minor releases later\n"
     ]
    },
    {
     "name": "stdout",
     "output_type": "stream",
     "text": [
      "12574.431102030565 2352.7539675342996\n"
     ]
    },
    {
     "name": "stderr",
     "output_type": "stream",
     "text": [
      "/home/xiangchong/work/ana/lsstsw/miniconda/envs/lsst-scipipe-cb4e2dc/lib/python3.7/site-packages/ipykernel_launcher.py:25: MatplotlibDeprecationWarning: savefig() got unexpected keyword argument \"overwrite\" which is no longer supported as of 3.3 and will become an error two minor releases later\n"
     ]
    }
   ],
   "source": [
    "    # w*g1,w*g2,w for each pixel\n",
    "    g1OutTmp=numpy.histogramdd((z,y,x),bins=(gridInfo.zbound,gridInfo.ybound,gridInfo.xbound), weights=v.real*ws)[0]\n",
    "    g2OutTmp=numpy.histogramdd((z,y,x),bins=(gridInfo.zbound,gridInfo.ybound,gridInfo.xbound), weights=v.imag*ws)[0]\n",
    "    weightOutTmp=numpy.histogramdd((z,y,x),bins=(gridInfo.zbound,gridInfo.ybound,gridInfo.xbound), weights=ws)[0]\n",
    "    mask0=weightOutTmp>0. # the mask before smoothing\n",
    "    assert weightOutTmp.shape==gridInfo.shape,'the output shape is different from expectation?'\n",
    "    # variance\n",
    "    sigma2=np.zeros(gridInfo.shape)\n",
    "    sigma2[mask0]=1./weightOutTmp[mask0]\n",
    "    if gridInfo.sigma>0:\n",
    "        # Gaussian Kernel in Fourier space (normalized in configuration space)\n",
    "        gausKer=haloSim.GausAtom(ny=ny,nx=nx,sigma=gridInfo.sigma/gridInfo.delta,fou=True,lnorm=2.)\n",
    "        norm=gausKer[0,0]\n",
    "        gausKer/=norm\n",
    "        \n",
    "        # Gaus**2. in Fourier space\n",
    "        gausKer2=haloSim.GausAtom(ny=ny,nx=nx,sigma=gridInfo.sigma/gridInfo.delta,fou=False,lnorm=1.)\n",
    "        gausKer2=gausKer2**2.\n",
    "        gausKer2=np.fft.fft2(gausKer2)\n",
    "        \n",
    "        # smothing with Gausian Kernel\n",
    "        g1OutTmp=np.fft.ifft2(np.fft.fft2(g1OutTmp)*gausKer).real\n",
    "        g2OutTmp=np.fft.ifft2(np.fft.fft2(g2OutTmp)*gausKer).real\n",
    "        weightOut=np.fft.ifft2(np.fft.fft2(weightOutTmp)*gausKer).real\n",
    "        sigma2Out=np.fft.ifft2(np.fft.fft2(sigma2)*gausKer2).real\n",
    "        gausKerCon=np.fft.ifft2(np.fft.fft2(mask0.astype(float))*gausKer).real\n",
    "    \n",
    "    g1OutTmp/=aveWeight\n",
    "    g2OutTmp/=aveWeight\n",
    "    weightOut/=aveWeight\n",
    "    mask=weightOut>0.5\n",
    "    sigma2Out[~mask]=0.\n",
    "    sigma2Out[mask]=sigma2Out[mask]/gausKerCon[mask]**2.\n",
    "    g1Out=np.zeros(gridInfo.shape)\n",
    "    g1Out[mask]=g1OutTmp[mask]/weightOut[mask]\n",
    "    g2Out=np.zeros(gridInfo.shape)\n",
    "    g2Out[mask]=g2OutTmp[mask]/weightOut[mask]\n",
    "    pyfits.writeto(os.path.join(outDir,'%s_dnnz_10_bins_g1Map.fits' %fieldname),g1Out,overwrite=True)\n",
    "    pyfits.writeto(os.path.join(outDir,'%s_dnnz_10_bins_g2Map.fits' %fieldname),g2Out,overwrite=True)\n",
    "    pyfits.writeto(os.path.join(outDir,'%s_dnnz_10_bins_weightMap.fits' %fieldname),weightOut,overwrite=True)\n",
    "    pyfits.writeto(os.path.join(outDir,'%s_dnnz_10_bins_std.fits' %fieldname),np.sqrt(sigma2Out),overwrite=True)\n",
    "    \n",
    "    varOut=np.zeros(gridInfo.shape,dtype=float)\n",
    "    del g1Out,g2Out,weightOut\n",
    "    gc.collect()"
   ]
  }
 ],
 "metadata": {
  "kernelspec": {
   "display_name": "Python 3",
   "language": "python",
   "name": "python3"
  },
  "language_info": {
   "codemirror_mode": {
    "name": "ipython",
    "version": 3
   },
   "file_extension": ".py",
   "mimetype": "text/x-python",
   "name": "python",
   "nbconvert_exporter": "python",
   "pygments_lexer": "ipython3",
   "version": "3.7.6"
  },
  "widgets": {
   "application/vnd.jupyter.widget-state+json": {
    "state": {},
    "version_major": 2,
    "version_minor": 0
   }
  }
 },
 "nbformat": 4,
 "nbformat_minor": 4
}
