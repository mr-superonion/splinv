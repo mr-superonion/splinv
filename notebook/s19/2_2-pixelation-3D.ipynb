{
 "cells": [
  {
   "cell_type": "markdown",
   "metadata": {},
   "source": [
    "+ Pixelized shear measurements (smoothing -> pixelize/ pixelize -> smoothing)\n",
    "+ Get the variance map (mock/analytical)"
   ]
  },
  {
   "cell_type": "code",
   "execution_count": 1,
   "metadata": {},
   "outputs": [
    {
     "name": "stdout",
     "output_type": "stream",
     "text": [
      "Populating the interactive namespace from numpy and matplotlib\n"
     ]
    }
   ],
   "source": [
    "%pylab inline\n",
    "import os\n",
    "import gc\n",
    "import glob\n",
    "import numpy as np\n",
    "import astropy.io.fits as pyfits\n",
    "import maputil as mapUtil\n",
    "from configparser import ConfigParser\n",
    "from pixel3D import cartesianGrid3D\n",
    "from scipy.stats import norm as statnorm"
   ]
  },
  {
   "cell_type": "code",
   "execution_count": 11,
   "metadata": {},
   "outputs": [],
   "source": [
    "configName  =   'wrkDir/config-nl15.ini'\n",
    "parser      =   ConfigParser()\n",
    "parser.read(configName)\n",
    "\n",
    "configName  =   'wrkDir/config-nl15.ini'\n",
    "pDict={'dempz': 'demp',\\\n",
    "       'dnnz': 'dnn',\\\n",
    "       'mizuki': 'mizuki'}\n",
    "\n",
    "def plotHist(fieldname,array,pixels,oname):\n",
    "    cmap=plt.get_cmap('tab20')\n",
    "\n",
    "    plt.figure(figsize=(8,6))\n",
    "\n",
    "    gbin=plt.hist(array,bins=100,density=True,range=(-1.2,1.2),histtype='step',label='galaxy',color=cmap(0))[1]\n",
    "    gbinGal=(gbin-np.average(array))/np.std(array)\n",
    "    a=statnorm.pdf(gbinGal)\n",
    "    plt.plot(gbin,a/np.sum(a)/(gbin[1]-gbin[0]),color=cmap(0),ls='--')\n",
    "\n",
    "    gbin=plt.hist(pixels,bins=100,density=True,range=(-1.2,1.2),histtype='step',label='pixel',color=cmap(2))[1]\n",
    "\n",
    "    gbinPix=(gbin-np.average(pixels))/np.std(pixels)\n",
    "    a=statnorm.pdf(gbinPix)\n",
    "    plt.plot(gbin,a/np.sum(a)/(gbin[1]-gbin[0]),color=cmap(2),ls='--')\n",
    "    plt.title('%s' %fieldname,fontsize=20)\n",
    "    plt.xlabel(r'$\\delta g_1$',fontsize=20)\n",
    "    plt.ylabel(r'$P(\\delta g_1)$',fontsize=20)\n",
    "    plt.legend(fontsize=20)\n",
    "    plt.yscale('log')\n",
    "    plt.ylim(1e-4,15)\n",
    "    plt.grid()\n",
    "    plt.tight_layout()\n",
    "    plt.savefig(oname)\n",
    "    plt.close()\n",
    "    return"
   ]
  },
  {
   "cell_type": "code",
   "execution_count": 12,
   "metadata": {},
   "outputs": [],
   "source": [
    "key='dempz'\n",
    "colname=pDict[key]\n",
    "for fieldname in mapUtil.field_names:\n",
    "    inDir  =   'wrkDir/reGaus_catalog/%s_groups/' %fieldname\n",
    "    outDir =   'wrkDir/reGaus_pixel3D/%s_groups/' %fieldname\n",
    "    if not os.path.isdir(outDir):\n",
    "        os.mkdir(outDir)\n",
    "    fnames=glob.glob(os.path.join(inDir,'src-group-*.fits'))\n",
    "    for fname in fnames:\n",
    "        gn=fname.split('-')[-1].split('.')[0]\n",
    "        # update zbounds\n",
    "        bname=os.path.join(outDir,'group-%s-%s-10bins.fits' %(gn,key))\n",
    "        bounds=pyfits.getdata(bname,ext=1)['zbounds']\n",
    "        parser.set('sourceZ','zbound','[%s]' %(','.join([str(bb) for bb in bounds])))\n",
    "        gridInfo    =   cartesianGrid3D(parser)\n",
    "        glab=fieldname+\"-%s\"%gn\n",
    "        # poz average\n",
    "        data=pyfits.getdata(fname)\n",
    "        mask=(~np.isnan(data['%s_zbest' %colname]))\\\n",
    "            &(data['%s_zbest_std'%colname]<1.0)\\\n",
    "            &(data['%s_zbest'%colname]<3.0)\\\n",
    "            &(data['%s_zbest'%colname]>0.05)\n",
    "        data=data[mask]\n",
    "        wsAve=np.average(data['weight'])\n",
    "        ws=data['weight']/wsAve\n",
    "        z=data['%s_zbest'%colname]\n",
    "        x,y=gridInfo.setupTanPlane(data['ra'],data['dec'])\n",
    "        out1=gridInfo.pixelize_data(x,y,z,data['g1'],ws=ws)\n",
    "        out2=gridInfo.pixelize_data(x,y,z,data['g2'],ws=ws)\n",
    "        outname1=os.path.join(outDir,'group-%s-%s-g1Map.fits' %(gn,key))\n",
    "        outname2=os.path.join(outDir,'group-%s-%s-g2Map.fits' %(gn,key))\n",
    "        pyfits.writeto(outname1,out1,overwrite=True)\n",
    "        pyfits.writeto(outname2,out2,overwrite=True)\n",
    "        outname3=os.path.join(outDir,'group-%s-%s-g1Hist.png' %(gn,key))\n",
    "        plotHist(glab,data['g1'],out1[out1!=0],outname3)\n",
    "        del out1,out2,data,bounds,x,y,z,ws\n",
    "        gc.collect()"
   ]
  }
 ],
 "metadata": {
  "kernelspec": {
   "display_name": "Python 3",
   "language": "python",
   "name": "python3"
  },
  "language_info": {
   "codemirror_mode": {
    "name": "ipython",
    "version": 3
   },
   "file_extension": ".py",
   "mimetype": "text/x-python",
   "name": "python",
   "nbconvert_exporter": "python",
   "pygments_lexer": "ipython3",
   "version": "3.8.6"
  },
  "widgets": {
   "application/vnd.jupyter.widget-state+json": {
    "state": {},
    "version_major": 2,
    "version_minor": 0
   }
  }
 },
 "nbformat": 4,
 "nbformat_minor": 4
}
