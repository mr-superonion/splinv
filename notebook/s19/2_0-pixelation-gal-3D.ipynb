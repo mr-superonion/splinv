{
 "cells": [
  {
   "cell_type": "markdown",
   "metadata": {},
   "source": [
    "+ Pixelized shear measurements (smoothing -> pixelize/ pixelize -> smoothing)\n",
    "+ Get the variance map (mock/analytical)"
   ]
  },
  {
   "cell_type": "code",
   "execution_count": 1,
   "metadata": {},
   "outputs": [
    {
     "name": "stdout",
     "output_type": "stream",
     "text": [
      "Populating the interactive namespace from numpy and matplotlib\n"
     ]
    }
   ],
   "source": [
    "%pylab inline\n",
    "import os\n",
    "import gc\n",
    "import numpy as np\n",
    "import astropy.io.fits as pyfits\n",
    "import maputil as mutilities\n",
    "from configparser import ConfigParser\n",
    "from pixel3D import cartesianGrid3D"
   ]
  },
  {
   "cell_type": "code",
   "execution_count": 2,
   "metadata": {},
   "outputs": [],
   "source": [
    "configName  =   'wrkDir/config-nl15.ini'\n",
    "parser      =   ConfigParser()\n",
    "parser.read(configName)\n",
    "outDir      =   'wrkDir/galmap3D/'"
   ]
  },
  {
   "cell_type": "code",
   "execution_count": 8,
   "metadata": {},
   "outputs": [
    {
     "name": "stdout",
     "output_type": "stream",
     "text": [
      "1685.6270882643867 -443.45298558012774\n",
      "7631.884040200001 -173.94776607479398\n",
      "9176.585232079698 -160.59038293279627\n",
      "12306.362086594861 -162.72370495177304\n",
      "19768.172504524035 -120.3134553150722\n",
      "12694.431102030565 2472.7539675342996\n"
     ]
    }
   ],
   "source": [
    "for fieldname in mutilities.field_names:\n",
    "    infname='wrkDir/reGaus_catalog/%s.fits' %(fieldname)\n",
    "    data=pyfits.getdata(infname)\n",
    "    if fieldname=='VVDS':\n",
    "        addR=(data['ra']<300.).astype(int)*360\n",
    "        data['ra']+=addR\n",
    "    raMin=(np.min(data['ra'])-1.)*60.\n",
    "    raMax=(np.max(data['ra'])+1.)*60.\n",
    "    decMin=(np.min(data['dec'])-1.)*60.\n",
    "    decMax=(np.max(data['dec'])+1.)*60.\n",
    "    nx=int((raMax-raMin+1)//2*2)\n",
    "    ny=int((decMax-decMin+1)//2*2)\n",
    "    print(raMin,decMin)\n",
    "    parser.set('transPlane','xmin','%s'%raMin)\n",
    "    parser.set('transPlane','ymin','%s'%decMin)\n",
    "    parser.set('transPlane','nx','%d'%nx)\n",
    "    parser.set('transPlane','ny','%d'%ny)\n",
    "    gridInfo    =   cartesianGrid3D(parser)\n",
    "    x,y,z=data['ra'],data['dec'],data['dnn_zbest']\n",
    "    ws=data['weight']\n",
    "    # w*g1,w*g2,w for each pixel\n",
    "    weightOutTmp=numpy.histogramdd((z,y,x),bins=(gridInfo.zlbound,gridInfo.ybound,gridInfo.xbound))[0]\n",
    "    mask0=weightOutTmp>0. # the mask before smoothing\n",
    "    pyfits.writeto(os.path.join(outDir,'%s_dnnz_10_bins_numMap.fits' %fieldname),weightOut,overwrite=True)\n",
    "    del weightOut\n",
    "    gc.collect()"
   ]
  }
 ],
 "metadata": {
  "kernelspec": {
   "display_name": "Python 3",
   "language": "python",
   "name": "python3"
  },
  "language_info": {
   "codemirror_mode": {
    "name": "ipython",
    "version": 3
   },
   "file_extension": ".py",
   "mimetype": "text/x-python",
   "name": "python",
   "nbconvert_exporter": "python",
   "pygments_lexer": "ipython3",
   "version": "3.7.6"
  },
  "widgets": {
   "application/vnd.jupyter.widget-state+json": {
    "state": {},
    "version_major": 2,
    "version_minor": 0
   }
  }
 },
 "nbformat": 4,
 "nbformat_minor": 4
}
