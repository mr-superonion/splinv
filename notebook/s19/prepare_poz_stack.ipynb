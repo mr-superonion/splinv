{
 "cells": [
  {
   "cell_type": "code",
   "execution_count": 1,
   "metadata": {},
   "outputs": [
    {
     "name": "stdout",
     "output_type": "stream",
     "text": [
      "Populating the interactive namespace from numpy and matplotlib\n"
     ]
    }
   ],
   "source": [
    "%pylab inline\n",
    "import os\n",
    "import gc\n",
    "import glob\n",
    "import matplotlib\n",
    "import numpy as np\n",
    "import astropy.io.fits as pyfits\n",
    "import astropy.table as astTab\n",
    "import massmap_utilities as mutilities\n",
    "from configparser import ConfigParser\n",
    "from pixel3D import cartesianGrid3D"
   ]
  },
  {
   "cell_type": "code",
   "execution_count": 17,
   "metadata": {},
   "outputs": [],
   "source": [
    "configName  =   'wrkDir/config-nl20.ini'\n",
    "parser      =   ConfigParser()\n",
    "parser.read(configName)\n",
    "gridInfo    =   cartesianGrid3D(parser)\n",
    "outDir      =   'wrkDir/dnn_photoz/'"
   ]
  },
  {
   "cell_type": "code",
   "execution_count": 20,
   "metadata": {},
   "outputs": [
    {
     "name": "stdout",
     "output_type": "stream",
     "text": [
      "XMM\n",
      "GAMA09H\n"
     ]
    },
    {
     "name": "stderr",
     "output_type": "stream",
     "text": [
      "/home/xiangchong/work/ana/lsstsw/miniconda/envs/lsst-scipipe-cb4e2dc/lib/python3.7/site-packages/ipykernel_launcher.py:12: MatplotlibDeprecationWarning: savefig() got unexpected keyword argument \"overwrite\" which is no longer supported as of 3.3 and will become an error two minor releases later\n",
      "  if sys.path[0] == '':\n",
      "/home/xiangchong/work/ana/lsstsw/miniconda/envs/lsst-scipipe-cb4e2dc/lib/python3.7/site-packages/ipykernel_launcher.py:12: MatplotlibDeprecationWarning: savefig() got unexpected keyword argument \"overwrite\" which is no longer supported as of 3.3 and will become an error two minor releases later\n",
      "  if sys.path[0] == '':\n"
     ]
    },
    {
     "name": "stdout",
     "output_type": "stream",
     "text": [
      "WIDE12H\n",
      "GAMA15H\n"
     ]
    },
    {
     "name": "stderr",
     "output_type": "stream",
     "text": [
      "/home/xiangchong/work/ana/lsstsw/miniconda/envs/lsst-scipipe-cb4e2dc/lib/python3.7/site-packages/ipykernel_launcher.py:12: MatplotlibDeprecationWarning: savefig() got unexpected keyword argument \"overwrite\" which is no longer supported as of 3.3 and will become an error two minor releases later\n",
      "  if sys.path[0] == '':\n",
      "/home/xiangchong/work/ana/lsstsw/miniconda/envs/lsst-scipipe-cb4e2dc/lib/python3.7/site-packages/ipykernel_launcher.py:12: MatplotlibDeprecationWarning: savefig() got unexpected keyword argument \"overwrite\" which is no longer supported as of 3.3 and will become an error two minor releases later\n",
      "  if sys.path[0] == '':\n",
      "/home/xiangchong/work/ana/lsstsw/miniconda/envs/lsst-scipipe-cb4e2dc/lib/python3.7/site-packages/ipykernel_launcher.py:12: MatplotlibDeprecationWarning: savefig() got unexpected keyword argument \"overwrite\" which is no longer supported as of 3.3 and will become an error two minor releases later\n",
      "  if sys.path[0] == '':\n"
     ]
    },
    {
     "name": "stdout",
     "output_type": "stream",
     "text": [
      "VVDS\n",
      "HECTOMAP\n"
     ]
    },
    {
     "name": "stderr",
     "output_type": "stream",
     "text": [
      "/home/xiangchong/work/ana/lsstsw/miniconda/envs/lsst-scipipe-cb4e2dc/lib/python3.7/site-packages/ipykernel_launcher.py:12: MatplotlibDeprecationWarning: savefig() got unexpected keyword argument \"overwrite\" which is no longer supported as of 3.3 and will become an error two minor releases later\n",
      "  if sys.path[0] == '':\n"
     ]
    }
   ],
   "source": [
    "def plotPozAve(fieldname,pozBin,pozAve,oname):\n",
    "    oname=os.path.join(outDir,oname)\n",
    "    for i in range(0,10,1):\n",
    "        plt.plot(pozBin,pozAve[i],label=r'zbin:%d' %(i+1))\n",
    "    plt.xlim(-0.1,3)\n",
    "    plt.legend()\n",
    "    plt.xlabel('z',fontsize=15)\n",
    "    plt.ylabel('PDF',fontsize=15)\n",
    "    plt.title(fieldname)\n",
    "    plt.grid()\n",
    "    plt.tight_layout()\n",
    "    plt.savefig(oname,overwrite=True)\n",
    "    plt.close()\n",
    "    return\n",
    "\n",
    "nbin=100\n",
    "for fieldname in mutilities.field_names:\n",
    "    print(fieldname)\n",
    "    fitsFname=os.path.join(outDir,'%s_dnnz_10_bins.fits' %fieldname)\n",
    "    if not os.path.isfile(fitsFname):\n",
    "        num=np.zeros(gridInfo.nz)\n",
    "        poz_ave=np.zeros((gridInfo.nz,nbin))\n",
    "        fnameL=glob.glob('datDir/catalog_tracts/%s_tracts/*_pz_pdf_dnnz.fits' %fieldname)\n",
    "        for fname in fnameL:\n",
    "            tract=fname.split('_pz')[0].split('/')[-1]\n",
    "            pdfA=pyfits.getdata(fname)['PDF']\n",
    "            catA=pyfits.getdata('datDir/catalog_tracts/%s_tracts/%s_pz.fits' %(fieldname,tract))\n",
    "            mask=~np.any(np.isnan(pdfA),axis=1)\n",
    "            pdfA=pdfA[mask]\n",
    "            catA=catA[mask]\n",
    "            poz_best=catA['dnnz_photoz_best']\n",
    "            #print(tract,np.sum(~mask))\n",
    "            # determine the average photo-z uncertainty\n",
    "            for iz in range(gridInfo.nz):\n",
    "                tmp_msk=(poz_best>=gridInfo.zbound[iz])&(poz_best<gridInfo.zbound[iz+1])\n",
    "                poz_ave[iz,:]+=np.sum(pdfA[tmp_msk],axis=0)\n",
    "                num[iz]+=np.sum(tmp_msk)\n",
    "            if False:\n",
    "                break\n",
    "            else:\n",
    "                del pdfA,mask\n",
    "                gc.collect()\n",
    "        poz_ave/=num[:,None]\n",
    "        poz_ave/=np.sum(poz_ave,axis=1)[:,None]\n",
    "        pyfits.writeto(fitsFname,poz_ave,overwrite=True)\n",
    "    else:\n",
    "        pozB=pyfits.getdata('datDir/catalog_tracts/GAMA09H_tracts/10040_pz_pdf_dnnz.fits',ext=2)['BINS']\n",
    "        poz_ave=pyfits.getdata(fitsFname)\n",
    "    plotPozAve(fieldname,pozB,poz_ave,'%s_dnnz_10_bins.png' %fieldname)\n",
    "    if False:\n",
    "        break"
   ]
  },
  {
   "cell_type": "code",
   "execution_count": 21,
   "metadata": {},
   "outputs": [
    {
     "name": "stdout",
     "output_type": "stream",
     "text": [
      "XMM\n",
      "GAMA09H\n",
      "WIDE12H\n"
     ]
    },
    {
     "name": "stderr",
     "output_type": "stream",
     "text": [
      "/home/xiangchong/work/ana/lsstsw/miniconda/envs/lsst-scipipe-cb4e2dc/lib/python3.7/site-packages/ipykernel_launcher.py:14: MatplotlibDeprecationWarning: savefig() got unexpected keyword argument \"overwrite\" which is no longer supported as of 3.3 and will become an error two minor releases later\n",
      "  \n",
      "/home/xiangchong/work/ana/lsstsw/miniconda/envs/lsst-scipipe-cb4e2dc/lib/python3.7/site-packages/ipykernel_launcher.py:14: MatplotlibDeprecationWarning: savefig() got unexpected keyword argument \"overwrite\" which is no longer supported as of 3.3 and will become an error two minor releases later\n",
      "  \n",
      "/home/xiangchong/work/ana/lsstsw/miniconda/envs/lsst-scipipe-cb4e2dc/lib/python3.7/site-packages/ipykernel_launcher.py:14: MatplotlibDeprecationWarning: savefig() got unexpected keyword argument \"overwrite\" which is no longer supported as of 3.3 and will become an error two minor releases later\n",
      "  \n"
     ]
    },
    {
     "name": "stdout",
     "output_type": "stream",
     "text": [
      "GAMA15H\n",
      "VVDS\n",
      "HECTOMAP\n"
     ]
    },
    {
     "name": "stderr",
     "output_type": "stream",
     "text": [
      "/home/xiangchong/work/ana/lsstsw/miniconda/envs/lsst-scipipe-cb4e2dc/lib/python3.7/site-packages/ipykernel_launcher.py:14: MatplotlibDeprecationWarning: savefig() got unexpected keyword argument \"overwrite\" which is no longer supported as of 3.3 and will become an error two minor releases later\n",
      "  \n",
      "/home/xiangchong/work/ana/lsstsw/miniconda/envs/lsst-scipipe-cb4e2dc/lib/python3.7/site-packages/ipykernel_launcher.py:14: MatplotlibDeprecationWarning: savefig() got unexpected keyword argument \"overwrite\" which is no longer supported as of 3.3 and will become an error two minor releases later\n",
      "  \n",
      "/home/xiangchong/work/ana/lsstsw/miniconda/envs/lsst-scipipe-cb4e2dc/lib/python3.7/site-packages/ipykernel_launcher.py:14: MatplotlibDeprecationWarning: savefig() got unexpected keyword argument \"overwrite\" which is no longer supported as of 3.3 and will become an error two minor releases later\n",
      "  \n"
     ]
    }
   ],
   "source": [
    "def plotLensKernel(fieldname,zcgrid,lensKernel1,lensKernel2,oname):\n",
    "    oname=os.path.join(outDir,oname)\n",
    "    cmap=plt.get_cmap('tab20')\n",
    "    for i in range(0,20,2):\n",
    "        norm1=np.sqrt(np.sum(lensKernel1[:,i]**2.))\n",
    "        norm2=np.sqrt(np.sum(lensKernel2[:,i]**2.))\n",
    "        plt.plot(zcgrid,lensKernel1[:,i]/norm1,'-',c=cmap(i))\n",
    "        plt.plot(zcgrid,lensKernel2[:,i]/norm2,'--',c=cmap(i))\n",
    "    plt.xlabel(r'$z_s$',fontsize=15)\n",
    "    plt.ylabel('lensing kernel',fontsize=15)\n",
    "    plt.grid()\n",
    "    plt.title(fieldname)\n",
    "    plt.tight_layout()\n",
    "    plt.savefig(oname,overwrite=True)\n",
    "    plt.close()\n",
    "    return\n",
    "\n",
    "pozB=pyfits.getdata('datDir/catalog_tracts/GAMA09H_tracts/10040_pz_pdf_dnnz.fits',ext=2)['BINS']\n",
    "nbin=100\n",
    "for fieldname in mutilities.field_names:\n",
    "    print(fieldname)\n",
    "    poz_ave=pyfits.getdata('%s_dnnz_10_bins.fits' %fieldname)\n",
    "    lensKernel1= gridInfo.lensing_kernel()\n",
    "    lensKernel2= gridInfo.lensing_kernel(poz_grids=pozB,poz_ave=poz_ave)\n",
    "    plotLensKernel(fieldname,gridInfo.zcgrid,lensKernel1,lensKernel2,'%s_dnnz_10_bins_lensKer.png' %fieldname)"
   ]
  },
  {
   "cell_type": "code",
   "execution_count": 40,
   "metadata": {},
   "outputs": [],
   "source": [
    "pdfA=pyfits.getdata('datDir/catalog_tracts/GAMA09H_tracts/10040_pz_pdf_dnnz.fits')['PDF']"
   ]
  },
  {
   "cell_type": "code",
   "execution_count": 41,
   "metadata": {},
   "outputs": [
    {
     "data": {
      "text/plain": [
       "0.9951514"
      ]
     },
     "execution_count": 41,
     "metadata": {},
     "output_type": "execute_result"
    }
   ],
   "source": [
    "np.sum(pdfA[0])"
   ]
  },
  {
   "cell_type": "code",
   "execution_count": 11,
   "metadata": {},
   "outputs": [
    {
     "data": {
      "text/plain": [
       "[<matplotlib.lines.Line2D at 0x7f1dc9a40050>]"
      ]
     },
     "execution_count": 11,
     "metadata": {},
     "output_type": "execute_result"
    },
    {
     "data": {
      "image/png": "[encoded data removed]",
      "text/plain": [
       "<Figure size 432x288 with 1 Axes>"
      ]
     },
     "metadata": {
      "needs_background": "light"
     },
     "output_type": "display_data"
    }
   ],
   "source": [
    "plt.plot(poz_ave[0])\n",
    "plt.plot(poz_ave[1])"
   ]
  },
  {
   "cell_type": "code",
   "execution_count": 12,
   "metadata": {},
   "outputs": [
    {
     "data": {
      "text/plain": [
       "[<matplotlib.lines.Line2D at 0x7f1dc99f6d50>]"
      ]
     },
     "execution_count": 12,
     "metadata": {},
     "output_type": "execute_result"
    },
    {
     "data": {
      "image/png": "[encoded data removed]",
      "text/plain": [
       "<Figure size 432x288 with 1 Axes>"
      ]
     },
     "metadata": {
      "needs_background": "light"
     },
     "output_type": "display_data"
    }
   ],
   "source": [
    "plt.plot(poz_ave[2])\n",
    "plt.plot(poz_ave[3])"
   ]
  },
  {
   "cell_type": "code",
   "execution_count": 14,
   "metadata": {},
   "outputs": [],
   "source": [
    "import cupy as cp\n",
    "import cupyx.scipy.ndimage as ndimage"
   ]
  },
  {
   "cell_type": "code",
   "execution_count": null,
   "metadata": {},
   "outputs": [],
   "source": [
    "a=cp.random.rand(5)\n",
    "b=cp.random.rand(3)\n",
    "ndimage.convolve1d(a, b, mode='constant')"
   ]
  }
 ],
 "metadata": {
  "kernelspec": {
   "display_name": "Python 3",
   "language": "python",
   "name": "python3"
  },
  "language_info": {
   "codemirror_mode": {
    "name": "ipython",
    "version": 3
   },
   "file_extension": ".py",
   "mimetype": "text/x-python",
   "name": "python",
   "nbconvert_exporter": "python",
   "pygments_lexer": "ipython3",
   "version": "3.7.6"
  },
  "widgets": {
   "application/vnd.jupyter.widget-state+json": {
    "state": {},
    "version_major": 2,
    "version_minor": 0
   }
  }
 },
 "nbformat": 4,
 "nbformat_minor": 4
}
