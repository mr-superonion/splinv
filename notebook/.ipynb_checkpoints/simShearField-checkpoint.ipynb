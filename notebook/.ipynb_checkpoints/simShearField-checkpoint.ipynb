{
 "cells": [
  {
   "cell_type": "code",
   "execution_count": 5,
   "metadata": {},
   "outputs": [
    {
     "name": "stdout",
     "output_type": "stream",
     "text": [
      "Populating the interactive namespace from numpy and matplotlib\n"
     ]
    }
   ],
   "source": [
    "%pylab inline\n",
    "import galsim\n",
    "import astropy.table as astTab\n",
    "from configparser import ConfigParser"
   ]
  },
  {
   "cell_type": "markdown",
   "metadata": {},
   "source": [
    "# run on Gw@ipmu"
   ]
  },
  {
   "cell_type": "code",
   "execution_count": 11,
   "metadata": {},
   "outputs": [],
   "source": [
    "# information for the VVDS area\n",
    "def zMeanBin(zMin,dz,nz):\n",
    "    return np.arange(zMin,zMin+dz*nz,dz)+dz/2.\n",
    "\n",
    "parser =   ConfigParser()\n",
    "configName='../config/config_lbd2.5_GAMA09H.ini'\n",
    "parser.read(configName)\n",
    "scale  =   parser.getfloat('transPlane','scale')\n",
    "ny     =   parser.getint('transPlane'  ,'ny')\n",
    "nx     =   parser.getint('transPlane'  ,'nx')\n",
    "xMin   =   parser.getfloat('transPlane','xMin')\n",
    "yMin   =   parser.getfloat('transPlane','yMin')\n",
    "xMax   =   xMin+nx*scale\n",
    "yMax   =   yMin+ny*scale\n",
    "nz     =   parser.getint('sourceZ','nz')\n",
    "zMin   =   parser.getfloat('sourceZ','zMin')\n",
    "zscale =   parser.getfloat('sourceZ','zscale')\n",
    "zsBin  =   zMeanBin(self.zMin,self.zscale,self.nz)"
   ]
  },
  {
   "cell_type": "code",
   "execution_count": 10,
   "metadata": {},
   "outputs": [],
   "source": []
  },
  {
   "cell_type": "code",
   "execution_count": null,
   "metadata": {},
   "outputs": [],
   "source": []
  }
 ],
 "metadata": {
  "kernelspec": {
   "display_name": "Python 3",
   "language": "python",
   "name": "python3"
  },
  "language_info": {
   "codemirror_mode": {
    "name": "ipython",
    "version": 3
   },
   "file_extension": ".py",
   "mimetype": "text/x-python",
   "name": "python",
   "nbconvert_exporter": "python",
   "pygments_lexer": "ipython3",
   "version": "3.6.6"
  }
 },
 "nbformat": 4,
 "nbformat_minor": 4
}
