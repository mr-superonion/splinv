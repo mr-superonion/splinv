{
 "cells": [
  {
   "cell_type": "code",
   "execution_count": 62,
   "metadata": {},
   "outputs": [
    {
     "name": "stdout",
     "output_type": "stream",
     "text": [
      "Populating the interactive namespace from numpy and matplotlib\n"
     ]
    }
   ],
   "source": [
    "import cosmology\n",
    "%pylab inline"
   ]
  },
  {
   "cell_type": "markdown",
   "metadata": {},
   "source": [
    "A module to create NFW lens Surface Density ($\\Sigma$),\n",
    "\n",
    "density contrast ($\\delta$),\n",
    "\n",
    "and lensing kappa ($\\kappa$).\n",
    "\n",
    "Based on the integral functions of a spherical NFW profile: \n",
    "\n",
    "Wright & Brainerd(2000, ApJ, 534, 34)"
   ]
  },
  {
   "cell_type": "markdown",
   "metadata": {},
   "source": [
    "$$\\rho_M(z)=\\frac{\\rho_c(0)\\Omega_M(0)}{a^3}$$\n",
    "\n",
    "$$\\rho_c(z)=\\rho_c(0)*E(z)^2$$"
   ]
  },
  {
   "cell_type": "code",
   "execution_count": 51,
   "metadata": {},
   "outputs": [],
   "source": [
    "C_light=2.99792458e8      # m/s\n",
    "GNEWTON=6.67428e-11         # m^3/kg/s^2\n",
    "KG_PER_SUN=1.98892e30       # kg/M_solar\n",
    "M_PER_PARSEC=3.08568025e16  # m/pc\n",
    "def four_pi_G_over_c_squared():\n",
    "    # We want it return 4piG/c^2 in unit of Mpc/M_solar \n",
    "    # define constants\n",
    "    # in unit of m/kg\n",
    "    fourpiGoverc2 = 4.0*np.pi*GNEWTON/(C_light**2)\n",
    "    # in unit of pc/M_solar \n",
    "    fourpiGoverc2 *= KG_PER_SUN/M_PER_PARSEC\n",
    "    # in unit of Mpc/M_solar\n",
    "    fourpiGoverc2 /= 1.e6\n",
    "    return fourpiGoverc2   \n",
    "\n",
    "\n",
    "class nfw_lens():\n",
    "    \"\"\"   \n",
    "    Based on the integral functions of a spherical NFW profile: \n",
    "    Wright & Brainerd(2000, ApJ, 534, 34)\n",
    "    \n",
    "    @param mass         Mass defined using a spherical overdensity of 200 times the critical density\n",
    "                        of the universe, in units of M_solar/h.\n",
    "    @param conc         Concentration parameter, i.e., ratio of virial radius to NFW scale radius.\n",
    "    @param redshift     Redshift of the halo.\n",
    "    @param ra           ra of halo center (in arcsec).\n",
    "    @param dec          dec of halo center (in arcsec).\n",
    "    @param h            hubble parameter \n",
    "    @param omega_m      Omega_matter to pass to Cosmology constructor. [default: 0.3]\n",
    "                        omega_lam is set to 1-omega_matter\n",
    "    \"\"\"\n",
    "    def __init__(self,mass,conc,redshift,ra,dec,omega_m=0.3):\n",
    "        self.cosmo=cosmology.Cosmo(h=1,omega_m=omega_m)\n",
    "        self.M = float(mass)\n",
    "        self.c = float(conc)\n",
    "        #\\delta_c in equation (2)\n",
    "        self.delta_nfw  =200./3*self.c**3/(np.log(1+self.c)-(1.*self.c)/(1+self.c))\n",
    "        self.z = float(redshift)\n",
    "        #E(z)^{-1}\n",
    "        self.ezInv=self.cosmo.Ez_inverse(self.z)\n",
    "        # scale radius\n",
    "        self.a = 1./(1.+self.z)\n",
    "        \n",
    "        # First we get the virial radius, which is defined for some spherical overdensity as\n",
    "        # 3 M / [4 pi (r_vir)^3] = overdensity\n",
    "        # Here we have overdensity = 200 * rhocrit, to determine R200 (angular distance). \n",
    "        # The factor of 1.63e-5 comes from the following set of prefactors: \n",
    "        # (3 / (4 pi * 200 * rhocrit))^(1/3), where rhocrit = 2.8e11 h^2 M_solar / Mpc^3.  \n",
    "        # The mass in the equation below is in M_solar/h, \n",
    "        # which is how the final units are Mpc/h.\n",
    "        R200 = 1.63e-5*(self.M*self.ezInv**2)**(1./3.) # in Mpc/h\n",
    "        self.rs = R200/self.c\n",
    "\n",
    "        # convert scale radius in arcsec\n",
    "        dl = self.cosmo.Da(0.,self.z) # in Mpc/h\n",
    "        scale = self.rs / dl\n",
    "        arcsec2rad = np.pi/180./3600\n",
    "        self.rs_arcsec = scale/arcsec2rad\n",
    "        return\n",
    "    \n",
    "    \n",
    "    \n",
    "    def Sigma(self, x):\n",
    "        \"\"\"Calculate Surface Density (Sigma) of halo.\n",
    "        @param x        Radial coordinate in units of rs (scale radius of halo), \n",
    "        i.e., `x=r/rs`.\n",
    "        \"\"\"\n",
    "        # convenience: call with single number\n",
    "        if not isinstance(x, np.ndarray):\n",
    "            return self.Sigma(np.array([x], dtype='float'))[0]\n",
    "        out = np.zeros_like(x, dtype=float)\n",
    "\n",
    "        # 3 cases: x > 1, x < 1, and |x-1| < 0.001\n",
    "        mask = np.where(x < 0.999)[0]\n",
    "        a = ((1 - x[mask])/(x[mask] + 1))**0.5\n",
    "        out[mask] = 2/(x[mask]**2 - 1) * (1 - np.log((1+a)/(1-a)) / (1-x[mask]**2)**0.5)\n",
    "\n",
    "        mask = np.where(x > 1.001)[0]\n",
    "        a = ((x[mask] - 1)/(x[mask] + 1))**0.5\n",
    "        out[mask] = 2/(x[mask]**2 - 1) * (1 - 2*np.arctan(a)/(x[mask]**2 - 1)**0.5)\n",
    "\n",
    "        # the approximation below has a maximum fractional error of 7.4e-7\n",
    "        mask = np.where((x >= 0.999) & (x <= 1.001))[0]\n",
    "        out[mask] = (22./15. - 0.8*x[mask])\n",
    "        \n",
    "        # critical density \n",
    "        rho_c   =   2.7722e11  #in unit of M_solar / Mpc^3\n",
    "        # density of halo at redshift z\n",
    "        # \\delta_c \\times \\rho_c in equation (1)\n",
    "        rho_s   =   rho_c / self.ezInv**2 *self.delta_nfw\n",
    "        \n",
    "        return out* self.rs * rho_s\n",
    "        \n",
    "    def __lenskernal(self, z_s):\n",
    "        \"\"\"Lensing strength of halo as function of source redshift.\n",
    "        \"\"\"\n",
    "        # surface density\n",
    "        Sigma_c =   5.5444e14  \n",
    "\n",
    "        # lensing weights: the only thing that depends on z_s\n",
    "        # this does takes some time...\n",
    "        mask=   z_s>self.z\n",
    "        dl  =   self.cosmo.Da(z_s[mask], self.z) * self.cosmo.Da(self.z) / self.cosmo.Da(z_s[mask])\n",
    "        k_s =   np.zeros(len(z_s))\n",
    "        k_s[mask] = dl  / Sigma_c\n",
    "        return k_s\n",
    "    \n"
   ]
  },
  {
   "cell_type": "code",
   "execution_count": 49,
   "metadata": {},
   "outputs": [
    {
     "data": {
      "text/plain": [
       "0.6666666666666665"
      ]
     },
     "execution_count": 49,
     "metadata": {},
     "output_type": "execute_result"
    }
   ],
   "source": [
    "halo=nfw_lens(mass=1e15,conc=0.1,redshift=0.2,ra=0.,dec=0.)\n",
    "halo.Sigma(1.)"
   ]
  },
  {
   "cell_type": "code",
   "execution_count": 61,
   "metadata": {},
   "outputs": [
    {
     "data": {
      "text/plain": [
       "554165481858316.6"
      ]
     },
     "execution_count": 61,
     "metadata": {},
     "output_type": "execute_result"
    }
   ],
   "source": [
    "\n",
    "1./four_pi_G_over_c_squared()/3000"
   ]
  },
  {
   "cell_type": "code",
   "execution_count": null,
   "metadata": {},
   "outputs": [],
   "source": [
    "cosmoTest.Ez_inverse"
   ]
  },
  {
   "cell_type": "code",
   "execution_count": null,
   "metadata": {},
   "outputs": [],
   "source": []
  }
 ],
 "metadata": {
  "kernelspec": {
   "display_name": "Python 3",
   "language": "python",
   "name": "python3"
  },
  "language_info": {
   "codemirror_mode": {
    "name": "ipython",
    "version": 3
   },
   "file_extension": ".py",
   "mimetype": "text/x-python",
   "name": "python",
   "nbconvert_exporter": "python",
   "pygments_lexer": "ipython3",
   "version": "3.7.3"
  }
 },
 "nbformat": 4,
 "nbformat_minor": 4
}
