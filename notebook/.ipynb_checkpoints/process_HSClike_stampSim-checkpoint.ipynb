{
 "cells": [
  {
   "cell_type": "code",
   "execution_count": 1,
   "metadata": {},
   "outputs": [
    {
     "name": "stdout",
     "output_type": "stream",
     "text": [
      "Populating the interactive namespace from numpy and matplotlib\n"
     ]
    }
   ],
   "source": [
    "%pylab inline\n",
    "import os\n",
    "import fitsio\n",
    "import haloSim\n",
    "import matplotlib\n",
    "import numpy as np\n",
    "import astropy.table as astTab\n",
    "#important constant\n",
    "C_LIGHT=2.99792458e8        # m/s\n",
    "GNEWTON=6.67428e-11         # m^3/kg/s^2\n",
    "KG_PER_SUN=1.98892e30       # kg/M_solar\n",
    "M_PER_PARSEC=3.08568025e16  # m/pc\n",
    "from configparser import ConfigParser"
   ]
  },
  {
   "cell_type": "markdown",
   "metadata": {},
   "source": [
    "# Process Simulations\n",
    "sparseBase.py\n",
    "\n",
    "+ Pixelize shear into grids\n",
    "    + noise map $100$\n",
    "    + observed shear map $81 \\times 100$\n",
    "\n",
    "\n",
    "+ noise variance Estimation\n",
    "    + From 100 noise realization\n",
    "\n",
    "\n",
    "+ Lensing Kernel Estimation \n",
    "    + Without poz\n",
    "    + With poz\n",
    "\n",
    "\n",
    "\n",
    "\n",
    "## Pixelize Shear into Grids\n",
    "### Pixel size\n",
    "\n",
    "| Paper             | celestial pixel  | celestial Gaussian  |  line-of-sight   |\n",
    "|:-----------------:|:----------------:|:-------------------:|:----------------:|\n",
    "|HSC (Oguri)   2D KS|     0.5'         |         2'          |      Infi        |\n",
    "|HSC (Oguri)   3D WF|     1'           |        20'          |      0.1         |\n",
    "|DES (Chang)   2D KS|      5'          |        0'           |      Infi        |\n",
    "|DES (Jeffrey) 2D KS|    4.11'         |        0'           |      Infi        |\n",
    "|DES (Jeffrey) 2D GL|  3' (output)     |        0'           |      Infi        |\n",
    "|This Work          |  1'              |       1.5'          |      0.2         |\n",
    "\n",
    "The Glimpse in DES (Jeffrey) does not pixelize input shear map but the output density map is pixelized."
   ]
  },
  {
   "cell_type": "code",
   "execution_count": 15,
   "metadata": {},
   "outputs": [],
   "source": [
    "class cartesianGrid3D():\n",
    "    def __init__(self,parser):\n",
    "        # Transverse celestial plane\n",
    "        unit=parser.get('transPlane','unit')\n",
    "        if unit=='degree':\n",
    "            ratio=1.\n",
    "        elif unit=='arcmin':\n",
    "            ratio=1./60.\n",
    "        elif unit=='arcsec':\n",
    "            ratio=1./60./60.\n",
    "            \n",
    "        ## ra\n",
    "        delta=parser.getfloat('transPlane','scale')*ratio\n",
    "        xmin=parser.getfloat('transPlane','xmin')*ratio\n",
    "        nx=parser.getint('transPlane','nx')\n",
    "        xmax=xmin+delta*(nx+0.1)\n",
    "        xbound=np.arange(xmin,xmax,delta)-0.5*delta\n",
    "        xcgrid=(xbound[:-1]+xbound[1:])/2.\n",
    "        assert len(xcgrid)==nx\n",
    "        self.xbound=xbound\n",
    "        self.xcgrid=xcgrid\n",
    "        ## dec\n",
    "        ymin=parser.getfloat('transPlane','ymin')*ratio\n",
    "        ny=parser.getint('transPlane','ny')\n",
    "        ymax=ymin+delta*(ny+0.1)\n",
    "        ybound=np.arange(ymin,ymax,delta)-0.5*delta\n",
    "        ycgrid=(ybound[:-1]+ybound[1:])/2.\n",
    "        assert len(ycgrid)==ny\n",
    "        self.ybound=ybound\n",
    "        self.ycgrid=ycgrid\n",
    "        self.delta=delta\n",
    "        ## Gaussian smoothing\n",
    "        self.sigma=parser.getfloat('transPlane','smooth_scale')*ratio\n",
    "\n",
    "        # line-of-signt direction\n",
    "        zmin=parser.getfloat('sourceZ','zmin')\n",
    "        deltaz=parser.getfloat('sourceZ','zscale')\n",
    "        nz=parser.getint('sourceZ','nz')\n",
    "        zmax=zmin+deltaz*(nz+0.1)\n",
    "        zbound=np.arange(zmin,zmax,deltaz)-0.5*deltaz\n",
    "        zcgrid=(zbound[:-1]+zbound[1:])/2.\n",
    "        assert len(zcgrid)==nz\n",
    "        self.zbound=zbound\n",
    "        self.zcgrid=zcgrid\n",
    "        self.deltaz=deltaz\n",
    "        self.shape=(nz,ny,nx)\n",
    "        \n",
    "    def pixelize_data(self,x,y,z,v):\n",
    "        xbin=np.int_((x-self.xbound[0])/self.delta)\n",
    "        ybin=np.int_((y-self.ybound[0])/self.delta)\n",
    "        if z is None:\n",
    "            assert self.shape[0]==1\n",
    "            zbin=np.zeros(len(x),dtype=int)\n",
    "        else:\n",
    "            zbin=np.int_((z-self.zbound[0])/self.deltaz)\n",
    "        dataOut=np.zeros(self.shape)\n",
    "        rsig=int(self.sigma/self.delta*3+1)\n",
    "        for iz in range(self.shape[0]):\n",
    "            zc=self.zcgrid[iz]\n",
    "            mskz=(zbin==iz)\n",
    "            for iy in range(self.shape[1]):\n",
    "                yc=self.ycgrid[iy]\n",
    "                msky=mskz&(ybin>=iy-rsig)&(ybin<=iy+rsig)\n",
    "                for ix in range(self.shape[2]):\n",
    "                    xc=self.xcgrid[ix]\n",
    "                    mskx=msky&(xbin>=ix-rsig)&(xbin<=ix+rsig)\n",
    "                    rl2=(x[mskx]-xc)**2.+(y[mskx]-yc)**2.\n",
    "                    wl=1./np.sqrt(2.*np.pi)/self.sigma*np.exp(-rl2/self.sigma**2./2.)\n",
    "                    wsum=np.sum(wl)\n",
    "                    if wsum>0.1:\n",
    "                        dataOut[iz,iy,ix]=np.sum(wl*v[mskx])/wsum\n",
    "        return dataOut\n",
    "    def lensing_kernel(self,poz_bins,poz_data):\n",
    "        if poz_bins is None and poz_data is None:\n",
    "            pass\n",
    "        else:\n",
    "            pass\n",
    "        return"
   ]
  },
  {
   "cell_type": "markdown",
   "metadata": {},
   "source": [
    "## Test for spin-0 $2$-D $\\Sigma$ field"
   ]
  },
  {
   "cell_type": "code",
   "execution_count": 16,
   "metadata": {},
   "outputs": [],
   "source": [
    "iz  =  4\n",
    "im  =  4\n",
    "if dataU is None:\n",
    "    infname='wrkDir/stampSim/HSC-like/stampSim-HSC_like-TJ03-%d,%d-202004021856.fits' %(iz,im)\n",
    "    data=astTable.Table.read(infname)\n",
    "    ng=len(data)//100\n",
    "    dataU=data[:ng]\n",
    "\n",
    "haloCat=astTab.Table.read('wrkDir/stampSim/HSC-like/haloCat.csv')\n",
    "msk=(haloCat['im']==im)&(haloCat['iz']==iz)\n",
    "mass=10**(haloCat[msk]['log10_M200'])\n",
    "zh=haloCat[msk]['zh']\n",
    "conc=haloCat[msk]['conc']\n",
    "halo=haloSim.nfw_lensTJ03(mass=mass,conc=conc,redshift=zh,ra=0.,dec=0.)\n",
    "\n",
    "SigmaArray=halo.Sigma(dataU['raR']*3600.,dataU['decR']*3600.)\n",
    "configName  =   'wrkDir/stampSim/HSC-like/process/config_test_spin0_2D.ini'\n",
    "parser      =   ConfigParser()\n",
    "parser.read(configName)\n",
    "cg=cartesianGrid3D(parser)\n",
    "pixSigma=cg.pixelize_data(dataU['raR'],dataU['decR'],None,SigmaArray)\n",
    "norm=np.sum(pixSigma)\n",
    "pixSigma/=norm"
   ]
  },
  {
   "cell_type": "code",
   "execution_count": 44,
   "metadata": {},
   "outputs": [
    {
     "name": "stdout",
     "output_type": "stream",
     "text": [
      "The RMS of residuals is 5.497907886851893e-05\n"
     ]
    },
    {
     "data": {
      "image/png": "[encoded data removed]",
      "text/plain": [
       "<Figure size 1296x360 with 3 Axes>"
      ]
     },
     "metadata": {
      "needs_background": "light"
     },
     "output_type": "display_data"
    }
   ],
   "source": [
    "SigmaAtom=np.fft.fftshift(haloSim.haloCS02SigmaAtom(r_s=halo.rs_arcsec/3600./cg.delta,ngrid=cg.shape[1],c=halo.c,smooth_scale=cg.sigma/cg.delta,fou=False))\n",
    "norm=np.sum(SigmaAtom)\n",
    "SigmaAtom/=norm\n",
    "\n",
    "fig=plt.figure(figsize=(18,5))\n",
    "ax=fig.add_subplot(1,3,1)\n",
    "ax.imshow(pixSigma[0])\n",
    "ax.set_title(r'$\\Sigma$ Sampled',fontsize=15)\n",
    "\n",
    "ax=fig.add_subplot(1,3,2)\n",
    "ax.imshow(SigmaAtom)\n",
    "ax.set_title(r'$\\Sigma$ Atom',fontsize=15)\n",
    "\n",
    "ax=fig.add_subplot(1,3,3)\n",
    "ax.imshow(pixSigma[0]-SigmaAtom)\n",
    "ax.set_title('Residuals',fontsize=15)\n",
    "plt.tight_layout()\n",
    "print('The RMS of residuals is %s' %np.sqrt(np.average((pixSigma[0]-SigmaAtom)**2.)))"
   ]
  },
  {
   "cell_type": "code",
   "execution_count": 34,
   "metadata": {},
   "outputs": [
    {
     "data": {
      "text/plain": [
       "[<matplotlib.lines.Line2D at 0x7f9affcc9cc0>]"
      ]
     },
     "execution_count": 34,
     "metadata": {},
     "output_type": "execute_result"
    },
    {
     "data": {
      "image/png": "[encoded data removed]",
      "text/plain": [
       "<Figure size 432x288 with 1 Axes>"
      ]
     },
     "metadata": {
      "needs_background": "light"
     },
     "output_type": "display_data"
    }
   ],
   "source": [
    "yshow=35\n",
    "plt.plot(pixSigma[0,yshow])\n",
    "plt.plot(SigmaAtom[yshow],'--')"
   ]
  },
  {
   "cell_type": "markdown",
   "metadata": {},
   "source": [
    "## Pixelize noise field"
   ]
  },
  {
   "cell_type": "code",
   "execution_count": null,
   "metadata": {},
   "outputs": [
    {
     "name": "stderr",
     "output_type": "stream",
     "text": [
      "/data1b/work/xiangchong.li/superonionMaster/miniconda3/lib/python3.7/site-packages/ipykernel_launcher.py:71: ComplexWarning: Casting complex values to real discards the imaginary part\n"
     ]
    }
   ],
   "source": [
    "configName  =   'wrkDir/stampSim/HSC-like/process/config.ini'\n",
    "parser      =   ConfigParser()\n",
    "parser.read(configName)\n",
    "gridInfo    =   cartesianGrid3D(parser)\n",
    "\n",
    "infname='wrkDir/stampSim/HSC-like/stampSim_HSClike_mask_shapenoise_photoz-202003282257.fits'\n",
    "noiTab=astTab.Table.read(infname)\n",
    "ngroup=100\n",
    "ng=len(noiTab)//ngroup\n",
    "\n",
    "pixDatAll=np.zeros((ngroup,)+gridInfo.shape,dtype=np.complex128)\n",
    "\n",
    "for ig in range(ngroup):\n",
    "    noiU=noiTab[ig*ng:(ig+1)*ng]\n",
    "    val=noiU['g1n']+noiU['g2n']*1j\n",
    "    pixDatAll[ig]=gridInfo.pixelize_data(noiU['raR'],noiU['decR'],noiU['zbest'],val)"
   ]
  },
  {
   "cell_type": "code",
   "execution_count": 47,
   "metadata": {},
   "outputs": [],
   "source": []
  },
  {
   "cell_type": "markdown",
   "metadata": {},
   "source": [
    "## Pixelize shear field"
   ]
  },
  {
   "cell_type": "code",
   "execution_count": 3,
   "metadata": {},
   "outputs": [],
   "source": [
    "iz  =  4\n",
    "im  =  4\n",
    "if dataU is None:\n",
    "    infname='wrkDir/stampSim/HSC-like/stampSim-HSC_like-TJ03-%d,%d-202004021856.fits' %(iz,im)\n",
    "    data=astTable.Table.read(infname)\n",
    "    ng=len(data)//100\n",
    "    dataU=data[:ng]\n",
    "\n",
    "configName  =   'wrkDir/stampSim/HSC-like/process/config.ini'\n",
    "parser      =   ConfigParser()\n",
    "parser.read(configName)\n",
    "cg=cartesianGrid3D(parser)\n",
    "\n",
    "val=dataU['g1R']+dataU['g1n']+(dataU['g2R']+dataU['g2n'])*1j\n",
    "pixDat=cg.pixelize_data(dataU['raR'],dataU['decR'],dataU['zbest'],val)\n",
    "imshow(np.abs(pixDat[1]))"
   ]
  }
 ],
 "metadata": {
  "kernelspec": {
   "display_name": "Python 3",
   "language": "python",
   "name": "python3"
  },
  "language_info": {
   "codemirror_mode": {
    "name": "ipython",
    "version": 3
   },
   "file_extension": ".py",
   "mimetype": "text/x-python",
   "name": "python",
   "nbconvert_exporter": "python",
   "pygments_lexer": "ipython3",
   "version": "3.7.3"
  },
  "widgets": {
   "application/vnd.jupyter.widget-state+json": {
    "state": {},
    "version_major": 2,
    "version_minor": 0
   }
  }
 },
 "nbformat": 4,
 "nbformat_minor": 4
}
