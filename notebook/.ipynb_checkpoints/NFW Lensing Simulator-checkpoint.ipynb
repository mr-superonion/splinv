{
 "cells": [
  {
   "cell_type": "code",
   "execution_count": 3,
   "metadata": {
    "slideshow": {
     "slide_type": "skip"
    }
   },
   "outputs": [
    {
     "name": "stdout",
     "output_type": "stream",
     "text": [
      "Populating the interactive namespace from numpy and matplotlib\n"
     ]
    }
   ],
   "source": [
    "import cosmology\n",
    "%pylab inline"
   ]
  },
  {
   "cell_type": "markdown",
   "metadata": {
    "slideshow": {
     "slide_type": "slide"
    }
   },
   "source": [
    "# NFW Lensing Simulator\n",
    "A module to create NFW lens Surface Density ($\\Sigma$),\n",
    "\n",
    "density contrast ($\\delta$),\n",
    "\n",
    "and lensing kappa ($\\kappa$).\n",
    "\n",
    "Based on the integral functions of a spherical NFW profile: \n",
    "\n",
    "Wright & Brainerd(2000, ApJ, 534, 34)"
   ]
  },
  {
   "cell_type": "markdown",
   "metadata": {
    "slideshow": {
     "slide_type": "subslide"
    }
   },
   "source": [
    "## Evolution of average density\n",
    "$$\\rho_M(z)=\\frac{\\rho_c(0)\\Omega_M(0)}{a^3}$$\n",
    "\n",
    "$$H(z)=H_0 E(z)$$\n",
    "\n",
    "$$\\rho_c(z)=\\rho_c(0)*E(z)^2$$\n",
    "\n",
    "$$\\Omega_M(z)=\\frac{\\Omega_M(0)}{E(z)^{2} a^3}$$"
   ]
  },
  {
   "cell_type": "markdown",
   "metadata": {
    "slideshow": {
     "slide_type": "slide"
    }
   },
   "source": [
    "## Density Contrast to Kappa\n",
    "Equation (1) in Leonard et al. (2013, GLIMPSE)\n",
    "\n",
    "$$\\kappa(\\vec{\\theta},\\chi_s)=\\frac{3H_0^2\\Omega_M}{2 c^2} \\int_0^{\\chi_s} d\\chi_l \\frac{\\chi_l \\chi_{sl}}{\\chi_s} \\frac{\\delta(\\chi_l \\vec{\\theta},\\chi_l)}{a(\\chi_l)} $$\n",
    "\n",
    "Express with redshift (z)\n",
    "$$\\kappa(\\vec{\\theta},\\chi_s)=\\frac{3H_0\\Omega_M}{2 c} \\int_0^{z_s} dz_l \\frac{\\chi_l \\chi_{sl}}{\\chi_s} \\frac{\\delta(\\vec{\\theta},z_l) (1+z_l)}{E(z_l)} $$"
   ]
  },
  {
   "cell_type": "markdown",
   "metadata": {
    "slideshow": {
     "slide_type": "subslide"
    }
   },
   "source": [
    "## Geometric Equations\n",
    "$$dt = \\frac{da}{a H(a)}$$\n",
    "$$d\\chi = \\frac{c}{a} dt$$\n",
    "$$d \\chi   = \\frac{c da}{a^2 H(a)} $$\n",
    "$$d z   = -\\frac{ da}{a^2} $$\n",
    "$$d \\chi   = -\\frac{c dz}{H(a)} $$\n",
    "$$ \\chi_l = \\chi_0 - \\chi$$\n",
    "$$d \\chi_l   = \\frac{c dz}{H(z)} $$"
   ]
  },
  {
   "cell_type": "markdown",
   "metadata": {
    "slideshow": {
     "slide_type": "slide"
    }
   },
   "source": [
    "## Density Contrast to Kappa\n",
    "$$\\kappa(\\vec{\\theta},\\chi_s)=\\frac{3H_0\\Omega_M}{2 c} \\int_0^{z_s} dz_l \\frac{\\chi_l \\chi_{sl}}{\\chi_s} \\frac{\\delta(\\vec{\\theta},z_l) (1+z_l)}{E(z_l)} $$\n",
    "## Pixelization along line-of-sight\n",
    "$$\\kappa(\\vec{\\theta},\\chi_s)=\\frac{3H_0\\Omega_M}{2 c} \\sum_i  \\int_{z_i-\\Delta z/2}^{z_i+\\Delta z/2} dz_l \\frac{\\chi_l \\chi_{sl}}{\\chi_s} \\frac{\\delta(\\vec{\\theta},z_l) (1+z_l)}{E(z_l)} $$\n",
    "$$\\kappa(\\vec{\\theta},\\chi_s)=\\frac{3H_0\\Omega_M}{2 c} \\sum_i \\delta(\\vec{\\theta},z_i)  \n",
    " \\frac{\\chi_l \\chi_{sl}}{\\chi_s} \\frac{ (1+z_i)}{E(z_i)} \\Delta z $$"
   ]
  },
  {
   "cell_type": "code",
   "execution_count": 12,
   "metadata": {
    "slideshow": {
     "slide_type": "skip"
    }
   },
   "outputs": [],
   "source": [
    "#important constant\n",
    "C_LIGHT=2.99792458e8        # m/s\n",
    "GNEWTON=6.67428e-11         # m^3/kg/s^2\n",
    "KG_PER_SUN=1.98892e30       # kg/M_solar\n",
    "M_PER_PARSEC=3.08568025e16  # m/pc\n",
    "def four_pi_G_over_c_squared():\n",
    "    # We want it return 4piG/c^2 in unit of Mpc/M_solar \n",
    "    # in unit of m/kg\n",
    "    fourpiGoverc2 = 4.0*np.pi*GNEWTON/(C_LIGHT**2)\n",
    "    # in unit of pc/M_solar \n",
    "    fourpiGoverc2 *= KG_PER_SUN/M_PER_PARSEC\n",
    "    # in unit of Mpc/M_solar\n",
    "    fourpiGoverc2 /= 1.e6\n",
    "    return fourpiGoverc2   \n",
    "\n",
    "\n",
    "class nfw_lens():\n",
    "    \"\"\"   \n",
    "    Based on the integral functions of a spherical NFW profile: \n",
    "    Wright & Brainerd(2000, ApJ, 534, 34)\n",
    "    \n",
    "    @param mass         Mass defined using a spherical overdensity of 200 times the critical density\n",
    "                        of the universe, in units of M_solar/h.\n",
    "    @param conc         Concentration parameter, i.e., ratio of virial radius to NFW scale radius.\n",
    "    @param redshift     Redshift of the halo.\n",
    "    @param ra           ra of halo center  [arcsec].\n",
    "    @param dec          dec of halo center [arcsec].\n",
    "    @param omega_m      Omega_matter to pass to Cosmology constructor. [default: 0.3]\n",
    "                        omega_lam is set to 1-omega_matter.\n",
    "    \"\"\"\n",
    "    def __init__(self,mass,conc,redshift,ra,dec,omega_m=0.3):\n",
    "        self.cosmo=cosmology.Cosmo(h=1,omega_m=omega_m)\n",
    "        self.M = float(mass)\n",
    "        self.c = float(conc)\n",
    "        # \\delta_c in equation (2)\n",
    "        self.delta_nfw  =200./3*self.c**3/(np.log(1+self.c)-(1.*self.c)/(1+self.c))\n",
    "        self.z = float(redshift)\n",
    "        # E(z)^{-1}\n",
    "        self.ezInv=self.cosmo.Ez_inverse(self.z)\n",
    "        # critical density \n",
    "        # in unit of M_solar / Mpc^3\n",
    "        rho_cZ   = self.cosmo.rho0()/self.ezInv**2\n",
    "        # charateristic matter density within R200 at redshift z\n",
    "        # \\delta_c \\times \\rho_c in equation (1),(11)\n",
    "        self.rho_s=   rho_cZ*self.delta_nfw\n",
    "        # scale radius\n",
    "        self.a = 1./(1.+self.z)\n",
    "        self.DaLens=self.cosmo.Da(0.,self.z)\n",
    "        # ra_l,dec_l\n",
    "        self.ra=ra\n",
    "        self.dec=dec\n",
    "        \n",
    "        # First we get the virial radius, which is defined for some spherical overdensity as\n",
    "        # 3 M / [4 pi (r_vir)^3] = overdensity\n",
    "        # Here we have overdensity = 200 * rhocrit, to determine R200 (angular distance). \n",
    "        # The factor of 1.63e-5 comes from the following set of prefactors: \n",
    "        # (3 / (4 pi * 200 * rhocrit))^(1/3), where rhocrit = 2.8e11 h^2 M_solar / Mpc^3.  \n",
    "        # The mass in the equation below is in M_solar/h, \n",
    "        # which is how the final units are Mpc/h.\n",
    "        R200 = 1.63e-5*(self.M*self.ezInv**2)**(1./3.) # in Mpc/h\n",
    "        self.rs = R200/self.c\n",
    "\n",
    "        # convert scale radius in arcsec\n",
    "        dl = self.cosmo.Da(0.,self.z) # in Mpc/h\n",
    "        scale = self.rs / dl\n",
    "        arcsec2rad = np.pi/180./3600\n",
    "        self.rs_arcsec = scale/arcsec2rad\n",
    "        return\n",
    "    \n",
    "    \n",
    "    \n",
    "    def DdRs(self,ra_s,dec_s):\n",
    "        \"\"\"Calculate 'x' the radius r in units of the NFW scale\n",
    "        radius, r_s.\n",
    "        @param ra_s       ra of sources [arcsec].\n",
    "        @param dec_s      dec of sources [arcsec].\n",
    "        \"\"\"\n",
    "        \n",
    "        # convenience: call with single number\n",
    "        assert isinstance(ra_s,np.ndarray)==isinstance(dec_s,np.ndarray),\\\n",
    "            'ra_s and dec_s do not have same type'\n",
    "        if not isinstance(ra_s,np.ndarray):\n",
    "            ra_sA=np.array([ra_s], dtype='float')\n",
    "            dec_sA=np.array([dec_s], dtype='float')\n",
    "            return self.DdRs(ra_sA,dec_sA)[0]\n",
    "        assert len(ra_s)==len(dec_s),\\\n",
    "            'input ra and dec have different length '\n",
    "        x = ((ra_s - self.ra)**2 + (dec_s - self.dec)**2)**0.5/self.rs_arcsec\n",
    "        return x\n",
    "    \n",
    "    def sinCos2phi(self,ra_s,dec_s):\n",
    "        \"\"\"Calculate cos2phi and sin2phi with reference to the halo center\n",
    "        @param ra_s       ra of sources [arcsec].\n",
    "        @param dec_s      dec of sources [arcsec].\n",
    "        \"\"\"\n",
    "        \n",
    "        # convenience: call with single number\n",
    "        assert isinstance(ra_s,np.ndarray)==isinstance(dec_s,np.ndarray),\\\n",
    "            'ra_s and dec_s do not have same type'\n",
    "        if not isinstance(ra_s,np.ndarray):\n",
    "            ra_sA=np.array([ra_s], dtype='float')\n",
    "            dec_sA=np.array([dec_s], dtype='float')\n",
    "            return self.sinCos2phi(ra_sA,dec_sA)[0]\n",
    "        assert len(ra_s)==len(dec_s),\\\n",
    "            'input ra and dec have different length '\n",
    "\n",
    "        # pure tangential shear, no cross component\n",
    "        dx = ra_s - self.ra\n",
    "        dy = dec_s - self.dec\n",
    "        drsq = dx*dx+dy*dy\n",
    "        # Avoid division by 0\n",
    "        cos2phi = np.divide(dx*dx-dy*dy, drsq, where=(drsq != 0.))\n",
    "        sin2phi = np.divide(2*dx*dy, drsq, where=(drsq != 0.))\n",
    "        \n",
    "        return cos2phi,sin2phi\n",
    "    \n",
    "    \n",
    "    \n",
    "    \n",
    "    def Sigma(self,x):\n",
    "        \"\"\"Calculate Surface Density (Sigma) of halo.\n",
    "        Equation (11) in Wright & Brainerd (2000, ApJ, 534, 34).\n",
    "        @param x        Radial coordinate in units of rs \n",
    "                        (scale radius of halo), i.e., `x=r/rs`.\n",
    "        \"\"\"\n",
    "        \n",
    "        # convenience: call with single number\n",
    "        if not isinstance(x, np.ndarray):\n",
    "            return self.Sigma(np.array([x], dtype='float'))[0]\n",
    "        \n",
    "        out = np.zeros_like(x, dtype=float)\n",
    "\n",
    "        # 3 cases: x < 1, x > 1, and |x-1| < 0.001\n",
    "        mask = np.where(x < 0.999)[0]\n",
    "        a = ((1 - x[mask])/(x[mask] + 1))**0.5\n",
    "        out[mask] = 2/(x[mask]**2 - 1) * (1 - np.log((1+a)/(1-a)) / (1-x[mask]**2)**0.5)\n",
    "\n",
    "        mask = np.where(x > 1.001)[0]\n",
    "        a = ((x[mask] - 1)/(x[mask] + 1))**0.5\n",
    "        out[mask] = 2/(x[mask]**2 - 1) * (1 - 2*np.arctan(a)/(x[mask]**2 - 1)**0.5)\n",
    "\n",
    "        # the approximation below has a maximum fractional error of 7.4e-7\n",
    "        mask = np.where((x >= 0.999) & (x <= 1.001))[0]\n",
    "        out[mask] = (22./15. - 0.8*x[mask])\n",
    "        \n",
    "        return out* self.rs * self.rho_s\n",
    "        \n",
    "    \n",
    "    \n",
    "    \n",
    "    def DeltaSigma(self,x):\n",
    "        \"\"\"Calculate excess surface density of halo.\n",
    "        @param ra_s     @param x        Radial coordinate in units of rs \n",
    "                        (scale radius of halo), i.e., `x=r/rs`.\n",
    "        \"\"\"\n",
    "        \n",
    "        # convenience: call with single number\n",
    "        if not isinstance(x, np.ndarray):\n",
    "            return self.DeltaSigma(np.array([x], dtype='float'))[0]\n",
    "        \n",
    "        out = np.zeros_like(x, dtype=float)\n",
    "\n",
    "        # 4 cases:\n",
    "        # x > 1,0.01< x < 1,|x-1| < 0.001\n",
    "        # x<0.01\n",
    "\n",
    "        mask = np.where(x > 1.001)[0]\n",
    "        a = ((x[mask]-1.)/(x[mask]+1.))**0.5\n",
    "        out[mask] = (4.*np.log(x[mask]/2)+8.*np.arctan(a)/(x[mask]**2 - 1)**0.5)*self.rs * self.rho_s\\\n",
    "                    -self.Sigma(x[mask])\n",
    "        \n",
    "        mask = np.where(x < 0.999 and x> 0.01)[0]  # Equivalent but usually faster than `mask = (x < 0.999)`\n",
    "        a = ((1.-x[mask])/(x[mask]+1.))**0.5\n",
    "        out[mask] = (4.*np.log(x[mask]/2)+4.*np.log((1.+a)/(1.-a))/(1-x[mask]**2)**0.5)*self.rs * self.rho_s\\\n",
    "                    -self.Sigma(x[mask])\n",
    "\n",
    "        # the approximation below has a maximum fractional error of 2.3e-7\n",
    "        mask = np.where((x >= 0.999) & (x <= 1.001))[0]\n",
    "        out[mask] = (4.*np.log(x[mask]/2)+40./6. - 8.*x[mask]/3.)*self.rs * self.rho_s\\\n",
    "                    -self.Sigma(x[mask])\n",
    "        \n",
    "        # the approximation below has a maximum fractional error of 1.1e-7\n",
    "        mask = np.where(x <= 0.01)[0]\n",
    "        out[mask] = 4*(0.25 + 0.125 * x[mask]**2 * (3.25 + 3.0*np.log(x[mask]/2)))*self.rs * self.rho_s\n",
    "        return\n",
    "    \n",
    "    \n",
    "    def DeltaSigmaXY(self,x):\n",
    "        \n",
    "    def lensKernel(self,z_s):\n",
    "        \"\"\"Lensing kernel of halo as function of source redshift.\n",
    "        @param z_s        redshift of sources.\n",
    "        \"\"\"\n",
    "        \n",
    "        # convenience: call with single number\n",
    "        if not isinstance(z_s, np.ndarray):\n",
    "            return self.lensKernel(np.array([z_s], dtype='float'))[0]\n",
    "        # lensing weights: the only thing that depends on z_s\n",
    "        # First mask the data with z<z_l\n",
    "        k_s =   np.zeros(len(z_s))\n",
    "        mask=   z_s>self.z\n",
    "        k_s[mask] =   self.cosmo.Da(self.z,z_s[mask])*self.DaLens/self.cosmo.Da(0.,z_s[mask])*four_pi_G_over_c_squared()\n",
    "        return k_s\n",
    "    \n",
    "    \n",
    "    def Sigma_M_bin(self,z_bin_min,z_bin_max):\n",
    "        \"\"\"Zero-order Surface mass density\n",
    "        within redshift bin [z_bin_min,z_bin_max].\n",
    "        @param z_bin_min   minimum of redshift bin.\n",
    "        @param z_bin_max   maximum of redshift bin.\n",
    "        \"\"\"\n",
    "        \n",
    "        # convenience: call with single number\n",
    "        assert isinstance(z_bin_min,np.ndarray)==isinstance(z_bin_max,np.ndarray),\\\n",
    "            'z_bin_min and z_bin_max do not have same type'\n",
    "        \n",
    "        if not isinstance(z_bin_min,np.ndarray):\n",
    "            z_bin_minA=np.array([z_bin_min], dtype='float')\n",
    "            z_bin_maxA=np.array([z_bin_max], dtype='float')\n",
    "            return self.Sigma(z_bin_minA,z_bin_maxA)[0]\n",
    "        assert len(z_bin_min)==len(z_bin_max),\\\n",
    "            'input ra and dec have different length '\n",
    "        # Here we approximate the average rho_M for redshif bin\n",
    "        # as the rho_M at the mean redshift\n",
    "        rhoM_ave=self.cosmo.rho_m((z_bin_min+z_bin_max)/2.)\n",
    "        DaBin=self.cosmo.Da(z_bin_min,z_bin_max)\n",
    "        return rhoM_ave*DaBin\n"
   ]
  },
  {
   "cell_type": "markdown",
   "metadata": {
    "slideshow": {
     "slide_type": "slide"
    }
   },
   "source": [
    "# NFW Halolet"
   ]
  },
  {
   "cell_type": "code",
   "execution_count": 10,
   "metadata": {
    "slideshow": {
     "slide_type": "skip"
    }
   },
   "outputs": [
    {
     "name": "stdout",
     "output_type": "stream",
     "text": [
      "0.4237773489416685\n",
      "4719.459416589283 4710.696878758708\n",
      "0.1 0.1\n",
      "0.040246123141540774 0.040107236201899356\n"
     ]
    }
   ],
   "source": [
    "import galsim\n",
    "def compareGS():\n",
    "    halo=nfw_lens(mass=1e15,conc=0.1,redshift=0.3,ra=0.,dec=0.)\n",
    "    print(halo.DdRs(2000.,0.))\n",
    "    kappa=halo.lensKernel(2.)*halo.Sigma(halo.DdRs(2000.,0.))\n",
    "    pos_cl  =   galsim.PositionD(0.,0.)\n",
    "    haloGS  =   galsim.nfw_halo.NFWHalo(mass= 1e15,\n",
    "                conc=0.1, redshift= 0.3,\n",
    "                halo_pos=pos_cl ,omega_m= 0.3,\n",
    "                omega_lam= 0.7)\n",
    "    kappaGS=haloGS.getConvergence(pos=(2000.,0.),z_s=np.ones(1)*2.,units = \"arcsec\")\n",
    "    print(halo.rs_arcsec,haloGS.rs_arcsec)\n",
    "    print(halo.c,haloGS.c)\n",
    "    print('two kappas:')\n",
    "    print(kappa,kappaGS)\n",
    "    print('two shears:')\n",
    "    print(kappa,kappaGS)\n",
    "    return\n",
    "compareGS()"
   ]
  },
  {
   "cell_type": "code",
   "execution_count": null,
   "metadata": {
    "slideshow": {
     "slide_type": "skip"
    }
   },
   "outputs": [],
   "source": [
    "H0=100.\n",
    "1.5*H0**2./four_pi_G_over_c_squared()/(C_LIGHT/1e3)**2."
   ]
  },
  {
   "cell_type": "code",
   "execution_count": null,
   "metadata": {
    "slideshow": {
     "slide_type": "skip"
    }
   },
   "outputs": [],
   "source": [
    "DH=C_LIGHT/1e3/H0\n",
    "1.5/four_pi_G_over_c_squared()/(DH)**2."
   ]
  },
  {
   "cell_type": "code",
   "execution_count": 11,
   "metadata": {
    "slideshow": {
     "slide_type": "skip"
    }
   },
   "outputs": [
    {
     "data": {
      "text/plain": [
       "277466514503.6864"
      ]
     },
     "execution_count": 11,
     "metadata": {},
     "output_type": "execute_result"
    }
   ],
   "source": [
    "cosmo=cosmology.Cosmo()\n",
    "cosmo.rho0()\n",
    "cosmo.rho0()"
   ]
  },
  {
   "cell_type": "code",
   "execution_count": 12,
   "metadata": {
    "slideshow": {
     "slide_type": "skip"
    }
   },
   "outputs": [
    {
     "data": {
      "text/plain": [
       "232.32343832933122"
      ]
     },
     "execution_count": 12,
     "metadata": {},
     "output_type": "execute_result"
    }
   ],
   "source": [
    "cosmo.Da(0.1,0.2)"
   ]
  },
  {
   "cell_type": "code",
   "execution_count": 13,
   "metadata": {
    "slideshow": {
     "slide_type": "skip"
    }
   },
   "outputs": [
    {
     "data": {
      "text/plain": [
       "54731621172.74985"
      ]
     },
     "execution_count": 13,
     "metadata": {},
     "output_type": "execute_result"
    }
   ],
   "source": [
    "cosmo.rho_m(0.15)"
   ]
  },
  {
   "cell_type": "code",
   "execution_count": null,
   "metadata": {
    "slideshow": {
     "slide_type": "skip"
    }
   },
   "outputs": [],
   "source": []
  },
  {
   "cell_type": "code",
   "execution_count": 11,
   "metadata": {
    "slideshow": {
     "slide_type": "skip"
    }
   },
   "outputs": [
    {
     "data": {
      "text/plain": [
       "False"
      ]
     },
     "execution_count": 11,
     "metadata": {},
     "output_type": "execute_result"
    }
   ],
   "source": []
  },
  {
   "cell_type": "code",
   "execution_count": null,
   "metadata": {},
   "outputs": [],
   "source": []
  }
 ],
 "metadata": {
  "celltoolbar": "Slideshow",
  "kernelspec": {
   "display_name": "Python 3",
   "language": "python",
   "name": "python3"
  },
  "language_info": {
   "codemirror_mode": {
    "name": "ipython",
    "version": 3
   },
   "file_extension": ".py",
   "mimetype": "text/x-python",
   "name": "python",
   "nbconvert_exporter": "python",
   "pygments_lexer": "ipython3",
   "version": "3.7.3"
  }
 },
 "nbformat": 4,
 "nbformat_minor": 4
}
