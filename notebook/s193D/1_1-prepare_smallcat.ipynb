{
 "cells": [
  {
   "cell_type": "code",
   "execution_count": 2,
   "metadata": {},
   "outputs": [
    {
     "name": "stdout",
     "output_type": "stream",
     "text": [
      "Populating the interactive namespace from numpy and matplotlib\n"
     ]
    }
   ],
   "source": [
    "%pylab inline\n",
    "import os\n",
    "import gc\n",
    "import glob\n",
    "import numpy as np\n",
    "import astropy.io.fits as pyfits\n",
    "import astropy.table as astTable\n",
    "import maputil as mapUtil"
   ]
  },
  {
   "cell_type": "markdown",
   "metadata": {},
   "source": [
    "# Prepare small catalogs"
   ]
  },
  {
   "cell_type": "code",
   "execution_count": null,
   "metadata": {},
   "outputs": [],
   "source": [
    "colnames=['tract','Id','ra','dec','g1','g2','weight','bias_m','dnn_zbest','dnn_zbest_std','demp_zbest','demp_zbest_std','mizuki_zbest','mizuki_zbest_std']\n",
    "for fieldname in mapUtil.field_names:\n",
    "    print(fieldname)\n",
    "    data=pyfits.getdata('datDir/catalog_obs_reGaus_no_m/%s_no_m.fits' %fieldname)\n",
    "    zata=pyfits.getdata('datDir/catalog_others/%s_pz_2.fits' %fieldname)\n",
    "    ra=data['i_ra']\n",
    "    dec=data['i_dec']\n",
    "    e1      =   data['i_hsmshaperegauss_e1']\n",
    "    e2      =   data['i_hsmshaperegauss_e2']\n",
    "    m_b     =   np.zeros(len(data))\n",
    "    Id      =   data['object_id']\n",
    "    tract   =   data['tract']\n",
    "    c1_b    =   data['i_hsmshaperegauss_derived_shear_bias_c1']\n",
    "    c2_b    =   data['i_hsmshaperegauss_derived_shear_bias_c2']\n",
    "    weight  =   data['i_hsmshaperegauss_derived_weight']\n",
    "    dnnzBest=   zata['dnnz_photoz_best']\n",
    "    dnnzStd =   zata['dnnz_photoz_std_best']\n",
    "    dempzBest=   zata['demp_photoz_best']\n",
    "    dempzStd =   zata['demp_photoz_std_best']\n",
    "    mizukizBest=   zata['mizuki_photoz_best']\n",
    "    mizukizStd =   zata['mizuki_photoz_std_best']\n",
    "    print(np.sum(np.isnan(zata['mizuki_photoz_best'])))\n",
    "    w_A     =   np.sum(weight)\n",
    "    m_bA    =   np.sum(m_b*weight)/w_A\n",
    "    Res_A   =   1.-np.sum(data['i_hsmshaperegauss_derived_rms_e']**2.*weight)/w_A\n",
    "    print('response: %s' %Res_A)\n",
    "    print('multiplicative bias: %s' %m_bA)\n",
    "    g1      =   1./(1.+m_bA)*(e1/2./Res_A-c1_b)\n",
    "    g2      =   1./(1.+m_bA)*(e2/2./Res_A-c2_b)\n",
    "    dataOut=astTab.Table(names=colnames,data=[tract,Id,ra,dec,g1,g2,weight,m_b,dnnzBest,dnnzStd,dempzBest,dempzStd,mizukizBest,mizukizStd])\n",
    "    dataOut.meta.update({'ra_min':np.min(ra)})\n",
    "    dataOut.meta.update({'dec_min':np.min(dec)})\n",
    "    dataOut.meta.update({'ra_max':np.max(ra)})\n",
    "    dataOut.meta.update({'dec_max':np.max(dec)})\n",
    "    dataOut.write('wrkDir/reGaus_catalog/%s.fits' %fieldname,overwrite=True)\n",
    "    if False:\n",
    "        break\n",
    "    else:\n",
    "        del g1,g2,data,m_b,c1_b,c2_b,dnnzBest,dnnzStd,dempzBest,dempzStd,mizukizBest,mizukizStd,dataOut\n",
    "        gc.collect()"
   ]
  },
  {
   "cell_type": "markdown",
   "metadata": {},
   "source": [
    "# Divide into groups"
   ]
  },
  {
   "cell_type": "code",
   "execution_count": 33,
   "metadata": {},
   "outputs": [],
   "source": [
    "pad=1.\n",
    "for fieldname in mapUtil.field_names:\n",
    "    outDir='wrkDir/reGaus_catalog/%s_groups/' %fieldname\n",
    "    if not os.path.isdir(outDir):\n",
    "        os.mkdir(outDir)\n",
    "    \n",
    "    data=pyfits.getdata('wrkDir/reGaus_catalog/%s.fits' %fieldname)\n",
    "    if fieldname=='VVDS':\n",
    "        addR=(data['ra']<300.).astype(int)*360\n",
    "        data['ra']+=addR\n",
    "    ymin=np.min(data['dec'])\n",
    "    ymax=np.max(data['dec'])\n",
    "    ny=mapUtil.field_ny[fieldname]\n",
    "    ybound=np.linspace(ymin,ymax,ny+1)\n",
    "    ylow=ybound[:-1];yhigh=ybound[1:]\n",
    "    ylow=ylow-pad;yhigh=yhigh+pad\n",
    "    for iy in range(ny):\n",
    "        ymean= (ybound[iy]+ybound[iy+1])/2.\n",
    "        mask0= (data['dec']>ymean+iy*1.-1.)&(data['dec']<=ymean+iy*1.)\n",
    "        dataT= data[mask0]\n",
    "        xmin=  np.min(dataT['ra'])\n",
    "        xmax=  np.max(dataT['ra'])\n",
    "        del dataT\n",
    "        gc.collect()\n",
    "        nx  =  int((xmax-xmin)/6.)+1\n",
    "        xbound=np.linspace(xmin,xmax,nx+1)\n",
    "        xlow=xbound[:-1];xhigh=xbound[1:]\n",
    "        xlow=xlow-pad;xhigh=xhigh+pad\n",
    "        for ix in range(nx):\n",
    "            mask=(data['ra']>xlow[ix])&(data['ra']<xhigh[ix]) \\\n",
    "                &(data['dec']>ylow[iy])&(data['dec']<yhigh[iy])\n",
    "            dataU=data[mask]\n",
    "            if np.sum(mask)>100. and np.max(dataU['dec'])>ylow[iy]+pad*2. and np.min(dataU['dec'])<yhigh[iy]-pad*2.:\n",
    "                pyfits.writeto(os.path.join(outDir,'src-group-%d%d.fits' %(iy,ix)),dataU)\n",
    "        del mask0,dataU\n",
    "        gc.collect()\n",
    "    del data\n",
    "    gc.collect()"
   ]
  },
  {
   "cell_type": "markdown",
   "metadata": {},
   "source": [
    "# Match Poz"
   ]
  },
  {
   "cell_type": "code",
   "execution_count": null,
   "metadata": {},
   "outputs": [],
   "source": [
    "pnames=['dempz','dnnz','mizuki']\n",
    "for fieldname in mapUtil.field_names:\n",
    "    inDir='wrkDir/reGaus_catalog/%s_groups/' %fieldname\n",
    "    pzDir=os.path.join('datDir/catalog_tracts/','%s_tracts/' %fieldname)\n",
    "    assert os.path.isdir(inDir)\n",
    "    fnames=glob.glob(os.path.join(inDir,'src-group-*.fits'))\n",
    "    for fname in fnames:\n",
    "        data=astTable.Table.read(fname)\n",
    "        ids=data['Id',]\n",
    "        ids.rename_column('Id','ID')\n",
    "        tracts=list(set(data['tract']))\n",
    "        print(tracts)\n",
    "        pzAll=[]\n",
    "        for tract in tracts:\n",
    "            key=pnames[0]\n",
    "            pfname=os.path.join(pzDir,'%s_pz_pdf_%s.fits' %(tract,key))\n",
    "            pzs=astTable.Table.read(pfname)\n",
    "            pzAll.append(astTable.join(left=ids,right=pzs,keys='ID',join_type='inner'))\n",
    "            del pzs,pfname\n",
    "            gc.collect()\n",
    "        pzAll=astTable.vstack(pzAll)\n",
    "        pzAll.sort('ID')\n",
    "        assert np.all(data['Id']==pzAll['ID'])\n",
    "        del ids,tracts,data\n",
    "        gn=fname.split('-')[-1].split('.')[0]\n",
    "        ofname=os.path.join(inDir,'poz-%s-group-%s.fits' %(key,gn))\n",
    "        pzAll.write(ofname)\n",
    "        del pzAll\n",
    "        gc.collect()"
   ]
  },
  {
   "cell_type": "code",
   "execution_count": null,
   "metadata": {},
   "outputs": [
    {
     "name": "stdout",
     "output_type": "stream",
     "text": [
      "XMM\n",
      "GAMA09H\n"
     ]
    }
   ],
   "source": [
    "nsim=100\n",
    "for fieldname in mapUtil.field_names:\n",
    "    print(fieldname)\n",
    "    inDir='wrkDir/reGaus_catalog/%s_groups/' %fieldname\n",
    "    assert os.path.isdir(inDir)\n",
    "    fnames=glob.glob(os.path.join(inDir,'src-group-*.fits'))\n",
    "    for fname in fnames:\n",
    "        gn=fname.split('-')[-1].split('.')[0]\n",
    "        outDir='wrkDir/reGaus_catalog/%s_groups/mock-group-%s/' %(fieldname,gn)\n",
    "        if not os.path.isdir(outDir):\n",
    "            os.mkdir(outDir)\n",
    "        else:\n",
    "            continue\n",
    "        data=pyfits.getdata(fname)\n",
    "        nobj=len(data)\n",
    "        for i in range(nsim):\n",
    "            catMock   =   data.copy()\n",
    "            np.random.seed(i)\n",
    "            phi = 2.0 * np.pi * np.random.rand(nobj)\n",
    "            g1n,g2n   =   mapUtil.rotCatalog(data['g1'],data['g2'],phi)\n",
    "            catMock['g1']=g1n\n",
    "            catMock['g2']=g2n\n",
    "            ofname=os.path.join(outDir,'sim-%d.fits'%i)\n",
    "            pyfits.writeto(ofname,catMock,overwrite=True)\n",
    "            del catMock,phi,g1n,g2n,ofname\n",
    "            gc.collect()\n",
    "        del data\n",
    "        gc.collect()"
   ]
  }
 ],
 "metadata": {
  "kernelspec": {
   "display_name": "Python 3",
   "language": "python",
   "name": "python3"
  },
  "language_info": {
   "codemirror_mode": {
    "name": "ipython",
    "version": 3
   },
   "file_extension": ".py",
   "mimetype": "text/x-python",
   "name": "python",
   "nbconvert_exporter": "python",
   "pygments_lexer": "ipython3",
   "version": "3.7.6"
  },
  "widgets": {
   "application/vnd.jupyter.widget-state+json": {
    "state": {},
    "version_major": 2,
    "version_minor": 0
   }
  }
 },
 "nbformat": 4,
 "nbformat_minor": 4
}
