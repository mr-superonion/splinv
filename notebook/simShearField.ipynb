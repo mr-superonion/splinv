{
 "cells": [
  {
   "cell_type": "code",
   "execution_count": 89,
   "metadata": {},
   "outputs": [
    {
     "name": "stdout",
     "output_type": "stream",
     "text": [
      "Populating the interactive namespace from numpy and matplotlib\n"
     ]
    }
   ],
   "source": [
    "%pylab inline\n",
    "import galsim\n",
    "import astropy.table as astTab\n",
    "import astropy.io.fits as pyfits\n",
    "from configparser import ConfigParser"
   ]
  },
  {
   "cell_type": "code",
   "execution_count": 95,
   "metadata": {},
   "outputs": [
    {
     "name": "stdout",
     "output_type": "stream",
     "text": [
      "/work/xiangchong.li/work/massMapSim\n"
     ]
    }
   ],
   "source": [
    "cd /work/xiangchong.li/work/massMapSim/"
   ]
  },
  {
   "cell_type": "markdown",
   "metadata": {},
   "source": [
    "# run on Gw@ipmu"
   ]
  },
  {
   "cell_type": "code",
   "execution_count": 98,
   "metadata": {},
   "outputs": [],
   "source": [
    "# information for the VVDS area\n",
    "def meanBin(zMin,dz,nz):\n",
    "    return np.arange(zMin,zMin+dz*nz-dz/2.,dz)+dz/2.\n",
    "\n",
    "parser =   ConfigParser()\n",
    "configName='./s16a3D/3frames2Starlets/lambda2.5/config_lbd2.5_VVDS.ini'\n",
    "parser.read(configName)\n",
    "scale  =   parser.getfloat('transPlane','scale')\n",
    "ny     =   parser.getint('transPlane'  ,'ny')\n",
    "nx     =   parser.getint('transPlane'  ,'nx')\n",
    "xMin   =   parser.getfloat('transPlane','xMin')\n",
    "yMin   =   parser.getfloat('transPlane','yMin')\n",
    "nz     =   parser.getint('sourceZ','nz')\n",
    "zMin   =   parser.getfloat('sourceZ','zMin')\n",
    "zscale =   parser.getfloat('sourceZ','zscale')\n",
    "zsBin  =   meanBin(zMin,zscale,nz)"
   ]
  },
  {
   "cell_type": "markdown",
   "metadata": {},
   "source": [
    "# demo kappa field z=2"
   ]
  },
  {
   "cell_type": "code",
   "execution_count": 97,
   "metadata": {},
   "outputs": [
    {
     "data": {
      "image/png": "[encoded data removed]",
      "text/plain": [
       "<matplotlib.figure.Figure at 0x7f07a97b81d0>"
      ]
     },
     "metadata": {
      "needs_background": "light"
     },
     "output_type": "display_data"
    }
   ],
   "source": [
    "# build stamp\n",
    "zs=2\n",
    "xBin=meanBin(xMin,scale,nx)\n",
    "yBin=meanBin(yMin,scale,ny)\n",
    "yv,xv=np.meshgrid(yBin,xBin)\n",
    "xvf=xv.flatten();yvf=yv.flatten()\n",
    "kappaFin=np.zeros((ny,nx))\n",
    "\n",
    "haloCat     =   astTab.Table.read('./s16aSim/haloCat.csv')\n",
    "nhalo       =   len(haloCat)\n",
    "for hh in haloCat:#we use three halos\n",
    "    #positionD should be in arcsec\n",
    "    pos_cl  =   galsim.PositionD(hh['ra']*3600,hh['dec']*3600.)\n",
    "    halo    =   galsim.nfw_halo.NFWHalo(mass= hh['M_200'],\n",
    "            conc=hh['conc'], redshift= hh['z_cl'],\n",
    "            halo_pos=pos_cl ,omega_m= 0.3,\n",
    "            omega_lam= 0.7)\n",
    "    kappa=halo.getConvergence(pos=(xvf,yvf),z_s=zs,units = \"degree\")\n",
    "    kappa=kappa.reshape((ny,nx))\n",
    "    kappaFin=kappaFin+kappa\n",
    "\n",
    "plt.imshow(kappaFin)\n",
    "pyfits.writeto('./s16aSim/kappa_z2_demo.fits',kappaFin,overwrite=True) "
   ]
  },
  {
   "cell_type": "code",
   "execution_count": null,
   "metadata": {},
   "outputs": [],
   "source": []
  },
  {
   "cell_type": "code",
   "execution_count": null,
   "metadata": {},
   "outputs": [],
   "source": []
  },
  {
   "cell_type": "code",
   "execution_count": null,
   "metadata": {},
   "outputs": [],
   "source": []
  },
  {
   "cell_type": "code",
   "execution_count": null,
   "metadata": {},
   "outputs": [],
   "source": []
  },
  {
   "cell_type": "code",
   "execution_count": null,
   "metadata": {},
   "outputs": [],
   "source": []
  }
 ],
 "metadata": {
  "kernelspec": {
   "display_name": "Python 3",
   "language": "python",
   "name": "python3"
  },
  "language_info": {
   "codemirror_mode": {
    "name": "ipython",
    "version": 3
   },
   "file_extension": ".py",
   "mimetype": "text/x-python",
   "name": "python",
   "nbconvert_exporter": "python",
   "pygments_lexer": "ipython3",
   "version": "3.6.6"
  }
 },
 "nbformat": 4,
 "nbformat_minor": 4
}
