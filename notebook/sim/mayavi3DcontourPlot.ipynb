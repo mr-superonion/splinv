{
 "cells": [
  {
   "cell_type": "code",
   "execution_count": 2,
   "metadata": {},
   "outputs": [
    {
     "name": "stdout",
     "output_type": "stream",
     "text": [
      "Populating the interactive namespace from numpy and matplotlib\n"
     ]
    }
   ],
   "source": [
    "%pylab inline\n",
    "import astropy.io.fits as pyfits\n",
    "from mayavi import mlab"
   ]
  },
  {
   "cell_type": "code",
   "execution_count": 3,
   "metadata": {},
   "outputs": [
    {
     "name": "stdout",
     "output_type": "stream",
     "text": [
      "/home/xiangchong/work/gw_ipmu/work/massMapSparse/sim\n"
     ]
    }
   ],
   "source": [
    "cd wrkDir/sim"
   ]
  },
  {
   "cell_type": "markdown",
   "metadata": {},
   "source": [
    "# No noise"
   ]
  },
  {
   "cell_type": "code",
   "execution_count": 3,
   "metadata": {},
   "outputs": [],
   "source": [
    "data1=pyfits.getdata('pre-run/deltaR-3-7-pz-nn-lasso.fits')\n",
    "data2=pyfits.getdata('pre-run/deltaR-3-7-pz-nn-alasso.fits')"
   ]
  },
  {
   "cell_type": "code",
   "execution_count": 22,
   "metadata": {},
   "outputs": [],
   "source": [
    "mlab.contour3d(data1+0.0000001,contours=5, transparent=True)\n",
    "mlab.outline(extent=[0,20,0,96,0,96])\n",
    "mlab.show()"
   ]
  },
  {
   "cell_type": "code",
   "execution_count": 23,
   "metadata": {},
   "outputs": [],
   "source": [
    "mlab.contour3d(data2+0.0000001,contours=5, transparent=True)\n",
    "mlab.outline(extent=[0,20,0,96,0,96])\n",
    "mlab.show()"
   ]
  },
  {
   "cell_type": "markdown",
   "metadata": {},
   "source": [
    "# with noise"
   ]
  },
  {
   "cell_type": "code",
   "execution_count": 25,
   "metadata": {},
   "outputs": [],
   "source": [
    "hn='17'\n",
    "sn='52'\n",
    "iz=eval(hn[0])\n",
    "im=eval(hn[1])\n",
    "zer='pz'\n",
    "ner='wn' #wn/nn\n",
    "fname1='planck-cosmo/sparse-f1-3/halo%s/deltaR-sim%s-alasso2.fits' %(hn,sn)\n",
    "data1=pyfits.getdata(fname1)\n",
    "fname2='planck-cosmo/sparse-f3-3/halo%s/deltaR-sim%s-alasso2.fits' %(hn,sn)\n",
    "data2=pyfits.getdata(fname2)"
   ]
  },
  {
   "cell_type": "code",
   "execution_count": 28,
   "metadata": {},
   "outputs": [],
   "source": [
    "mlab.contour3d(data1+0.0000001,contours=5, transparent=True)\n",
    "mlab.outline(extent=[0,20,0,96,0,96])\n",
    "mlab.show()"
   ]
  },
  {
   "cell_type": "code",
   "execution_count": 30,
   "metadata": {},
   "outputs": [],
   "source": [
    "mlab.contour3d(data2+0.0000001,contours=5, transparent=True)\n",
    "mlab.outline(extent=[0,20,0,96,0,96])\n",
    "mlab.show()"
   ]
  },
  {
   "cell_type": "code",
   "execution_count": null,
   "metadata": {},
   "outputs": [],
   "source": []
  }
 ],
 "metadata": {
  "kernelspec": {
   "display_name": "Python 3",
   "language": "python",
   "name": "python3"
  },
  "language_info": {
   "codemirror_mode": {
    "name": "ipython",
    "version": 3
   },
   "file_extension": ".py",
   "mimetype": "text/x-python",
   "name": "python",
   "nbconvert_exporter": "python",
   "pygments_lexer": "ipython3",
   "version": "3.7.9"
  }
 },
 "nbformat": 4,
 "nbformat_minor": 4
}
