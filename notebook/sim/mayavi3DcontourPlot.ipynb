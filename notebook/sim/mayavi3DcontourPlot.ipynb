{
 "cells": [
  {
   "cell_type": "code",
   "execution_count": 26,
   "metadata": {},
   "outputs": [
    {
     "name": "stdout",
     "output_type": "stream",
     "text": [
      "Populating the interactive namespace from numpy and matplotlib\n"
     ]
    }
   ],
   "source": [
    "%pylab inline\n",
    "import astropy.io.fits as pyfits\n",
    "try:\n",
    "    from mayavi import mlab\n",
    "except:\n",
    "    pass\n",
    "figMsDir='/home/xiangchong/.local/code/massMap_Private/doc/paper_ms_method_HSCY1/'"
   ]
  },
  {
   "cell_type": "code",
   "execution_count": null,
   "metadata": {},
   "outputs": [],
   "source": [
    "cd wrkDir/sim"
   ]
  },
  {
   "cell_type": "markdown",
   "metadata": {},
   "source": [
    "# No noise"
   ]
  },
  {
   "cell_type": "code",
   "execution_count": 3,
   "metadata": {},
   "outputs": [],
   "source": [
    "data1=pyfits.getdata('pre-run/deltaR-3-7-pz-nn-lasso.fits')\n",
    "data2=pyfits.getdata('pre-run/deltaR-3-7-pz-nn-alasso.fits')"
   ]
  },
  {
   "cell_type": "code",
   "execution_count": 22,
   "metadata": {},
   "outputs": [],
   "source": [
    "mlab.contour3d(data1+0.0000001,contours=5, transparent=True)\n",
    "mlab.outline(extent=[0,20,0,96,0,96])\n",
    "mlab.show()"
   ]
  },
  {
   "cell_type": "code",
   "execution_count": 23,
   "metadata": {},
   "outputs": [],
   "source": [
    "mlab.contour3d(data2+0.0000001,contours=5, transparent=True)\n",
    "mlab.outline(extent=[0,20,0,96,0,96])\n",
    "mlab.show()"
   ]
  },
  {
   "cell_type": "markdown",
   "metadata": {},
   "source": [
    "# with noise"
   ]
  },
  {
   "cell_type": "code",
   "execution_count": 6,
   "metadata": {},
   "outputs": [],
   "source": [
    "hn='17'\n",
    "sn='52'\n",
    "iz=eval(hn[0])\n",
    "im=eval(hn[1])\n",
    "zer='pz'\n",
    "ner='wn' #wn/nn\n",
    "fname1='planck-cosmo/sparse-f1-3/halo%s/deltaR-sim%s-alasso2.fits' %(hn,sn)\n",
    "data1=pyfits.getdata(fname1)\n",
    "fname2='planck-cosmo/sparse-f3-3/halo%s/deltaR-sim%s-alasso2.fits' %(hn,sn)\n",
    "data2=pyfits.getdata(fname2)"
   ]
  },
  {
   "cell_type": "code",
   "execution_count": 28,
   "metadata": {},
   "outputs": [],
   "source": [
    "mlab.contour3d(data1+0.0000001,contours=5, transparent=True)\n",
    "mlab.outline(extent=[0,20,0,96,0,96])\n",
    "mlab.show()"
   ]
  },
  {
   "cell_type": "code",
   "execution_count": 30,
   "metadata": {},
   "outputs": [],
   "source": [
    "mlab.contour3d(data2+0.0000001,contours=5, transparent=True)\n",
    "mlab.outline(extent=[0,20,0,96,0,96])\n",
    "mlab.show()"
   ]
  },
  {
   "cell_type": "code",
   "execution_count": 7,
   "metadata": {},
   "outputs": [
    {
     "data": {
      "text/plain": [
       "(20, 96, 96)"
      ]
     },
     "execution_count": 7,
     "metadata": {},
     "output_type": "execute_result"
    }
   ],
   "source": [
    "data1.shape"
   ]
  },
  {
   "cell_type": "code",
   "execution_count": 32,
   "metadata": {},
   "outputs": [
    {
     "data": {
      "image/png": "[encoded data removed]",
      "text/plain": [
       "<Figure size 360x288 with 1 Axes>"
      ]
     },
     "metadata": {
      "needs_background": "light"
     },
     "output_type": "display_data"
    }
   ],
   "source": [
    "fig=plt.figure(figsize=(5,4))\n",
    "fname2='planck-cosmo/sparse-f3-1/halo%s/deltaR-sim%s-alasso2.fits' %(hn,sn)\n",
    "data2=pyfits.getdata(fname2)\n",
    "hist,bins=np.histogram(data2.flatten(),bins=30,range=(-20,20))\n",
    "plt.step((bins[1:]+bins[:-1])/2.,hist,where='mid')\n",
    "plt.yscale('log')\n",
    "plt.ylim(1,3e5)\n",
    "plt.xlabel(r'$\\delta_{\\rm{pix}}$',fontsize=15)\n",
    "plt.ylabel('Number',fontsize=15)\n",
    "plt.title(r'Pixel Histogram ($\\lambda=3.5$)',fontsize=15)\n",
    "plt.tight_layout()\n",
    "plt.savefig(os.path.join(figMsDir,'pixel_histograms_halo17_NFW_lbd35.pdf'))"
   ]
  },
  {
   "cell_type": "code",
   "execution_count": 34,
   "metadata": {},
   "outputs": [
    {
     "data": {
      "image/png": "[encoded data removed]",
      "text/plain": [
       "<Figure size 360x288 with 1 Axes>"
      ]
     },
     "metadata": {
      "needs_background": "light"
     },
     "output_type": "display_data"
    }
   ],
   "source": [
    "fig=plt.figure(figsize=(5,4))\n",
    "fname2='planck-cosmo/sparse-f3-3/halo%s/deltaR-sim%s-alasso2.fits' %(hn,sn)\n",
    "data2=pyfits.getdata(fname2)\n",
    "hist,bins=np.histogram(data2.flatten(),bins=30,range=(-20,20))\n",
    "plt.step((bins[1:]+bins[:-1])/2.,hist,where='mid')\n",
    "plt.yscale('log')\n",
    "plt.ylim(1,3e5)\n",
    "plt.xlabel(r'$\\delta_{\\rm{pix}}$',fontsize=15)\n",
    "plt.ylabel('Number',fontsize=15)\n",
    "plt.title(r'Pixel Histogram ($\\lambda=5.0$)',fontsize=15)\n",
    "plt.tight_layout()\n",
    "plt.savefig(os.path.join(figMsDir,'pixel_histograms_halo17_NFW_lbd50.pdf'))"
   ]
  },
  {
   "cell_type": "code",
   "execution_count": null,
   "metadata": {},
   "outputs": [],
   "source": []
  }
 ],
 "metadata": {
  "kernelspec": {
   "display_name": "Python 3",
   "language": "python",
   "name": "python3"
  },
  "language_info": {
   "codemirror_mode": {
    "name": "ipython",
    "version": 3
   },
   "file_extension": ".py",
   "mimetype": "text/x-python",
   "name": "python",
   "nbconvert_exporter": "python",
   "pygments_lexer": "ipython3",
   "version": "3.7.6"
  }
 },
 "nbformat": 4,
 "nbformat_minor": 4
}
