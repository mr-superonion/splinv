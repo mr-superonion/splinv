{
 "cells": [
  {
   "cell_type": "code",
   "execution_count": 4,
   "metadata": {},
   "outputs": [
    {
     "name": "stdout",
     "output_type": "stream",
     "text": [
      "Populating the interactive namespace from numpy and matplotlib\n"
     ]
    }
   ],
   "source": [
    "import cosmology\n",
    "%pylab inline"
   ]
  },
  {
   "cell_type": "markdown",
   "metadata": {},
   "source": [
    "A module to create NFW lens Surface Density ($\\Sigma$),\n",
    "\n",
    "density contrast ($\\delta$),\n",
    "\n",
    "and lensing kappa ($\\kappa$).\n",
    "\n",
    "Based on the integral functions of a spherical NFW profile: \n",
    "\n",
    "Wright & Brainerd(2000, ApJ, 534, 34)"
   ]
  },
  {
   "cell_type": "markdown",
   "metadata": {},
   "source": [
    "$$\\rho_M(z)=\\frac{\\rho_c(0)\\Omega_M(0)}{a^3}$$\n",
    "\n",
    "$$\\rho_c(z)=\\rho_c(0)*E(z)^2$$\n",
    "\n",
    "$$\\Omega_M(z)=\\frac{\\Omega_M(0)}{E(z)^{2} a^3}$$"
   ]
  },
  {
   "cell_type": "code",
   "execution_count": 41,
   "metadata": {},
   "outputs": [],
   "source": [
    "#important constant\n",
    "C_LIGHT=2.99792458e8        # m/s\n",
    "GNEWTON=6.67428e-11         # m^3/kg/s^2\n",
    "KG_PER_SUN=1.98892e30       # kg/M_solar\n",
    "M_PER_PARSEC=3.08568025e16  # m/pc\n",
    "def four_pi_G_over_c_squared():\n",
    "    # We want it return 4piG/c^2 in unit of Mpc/M_solar \n",
    "    # in unit of m/kg\n",
    "    fourpiGoverc2 = 4.0*np.pi*GNEWTON/(C_LIGHT**2)\n",
    "    # in unit of pc/M_solar \n",
    "    fourpiGoverc2 *= KG_PER_SUN/M_PER_PARSEC\n",
    "    # in unit of Mpc/M_solar\n",
    "    fourpiGoverc2 /= 1.e6\n",
    "    return fourpiGoverc2   \n",
    "\n",
    "\n",
    "class nfw_lens():\n",
    "    \"\"\"   \n",
    "    Based on the integral functions of a spherical NFW profile: \n",
    "    Wright & Brainerd(2000, ApJ, 534, 34)\n",
    "    \n",
    "    @param mass         Mass defined using a spherical overdensity of 200 times the critical density\n",
    "                        of the universe, in units of M_solar/h.\n",
    "    @param conc         Concentration parameter, i.e., ratio of virial radius to NFW scale radius.\n",
    "    @param redshift     Redshift of the halo.\n",
    "    @param ra           ra of halo center  [arcsec].\n",
    "    @param dec          dec of halo center [arcsec].\n",
    "    @param omega_m      Omega_matter to pass to Cosmology constructor. [default: 0.3]\n",
    "                        omega_lam is set to 1-omega_matter\n",
    "    \"\"\"\n",
    "    def __init__(self,mass,conc,redshift,ra,dec,omega_m=0.3):\n",
    "        self.cosmo=cosmology.Cosmo(h=1,omega_m=omega_m)\n",
    "        self.M = float(mass)\n",
    "        self.c = float(conc)\n",
    "        # \\delta_c in equation (2)\n",
    "        self.delta_nfw  =200./3*self.c**3/(np.log(1+self.c)-(1.*self.c)/(1+self.c))\n",
    "        self.z = float(redshift)\n",
    "        # E(z)^{-1}\n",
    "        self.ezInv=self.cosmo.Ez_inverse(self.z)\n",
    "        # scale radius\n",
    "        self.a = 1./(1.+self.z)\n",
    "        self.DaLens=self.cosmo.Da(0.,self.z)\n",
    "        # ra_l,dec_l\n",
    "        self.ra=ra\n",
    "        self.dec=dec\n",
    "        \n",
    "        # First we get the virial radius, which is defined for some spherical overdensity as\n",
    "        # 3 M / [4 pi (r_vir)^3] = overdensity\n",
    "        # Here we have overdensity = 200 * rhocrit, to determine R200 (angular distance). \n",
    "        # The factor of 1.63e-5 comes from the following set of prefactors: \n",
    "        # (3 / (4 pi * 200 * rhocrit))^(1/3), where rhocrit = 2.8e11 h^2 M_solar / Mpc^3.  \n",
    "        # The mass in the equation below is in M_solar/h, \n",
    "        # which is how the final units are Mpc/h.\n",
    "        R200 = 1.63e-5*(self.M*self.ezInv**2)**(1./3.) # in Mpc/h\n",
    "        self.rs = R200/self.c\n",
    "\n",
    "        # convert scale radius in arcsec\n",
    "        dl = self.cosmo.Da(0.,self.z) # in Mpc/h\n",
    "        scale = self.rs / dl\n",
    "        arcsec2rad = np.pi/180./3600\n",
    "        self.rs_arcsec = scale/arcsec2rad\n",
    "        return\n",
    "    \n",
    "    \n",
    "    def Sigma(self,ra_s,dec_s):\n",
    "        \"\"\"Calculate Surface Density (Sigma) of halo.\n",
    "        @param ra_s       ra of sources [arcsec]\n",
    "        @param dec_s      dec of sources [arcsec]\n",
    "        \"\"\"\n",
    "        \n",
    "        # convenience: call with single number\n",
    "        assert isinstance(ra_s,np.ndarray)==isinstance(dec_s,np.ndarray)\n",
    "        if (not isinstance(ra_s,np.ndarray)) and (not isinstance(dec_s,np.ndarray)):\n",
    "            ra_sA=np.array([ra_s], dtype='float')\n",
    "            dec_sA=np.array([dec_s], dtype='float')\n",
    "            return self.Sigma(ra_sA,dec_sA)[0]\n",
    "        assert len(ra_s)==len(dec_s),\n",
    "            'input ra and dec for '\n",
    "        \n",
    "        x = ((ra_s - self.ra)**2 + (dec_s - self.dec)**2)**0.5/self.rs_arcsec\n",
    "        out = np.zeros_like(x, dtype=float)\n",
    "\n",
    "        # 3 cases: x < 1, x > 1, and |x-1| < 0.001\n",
    "        mask = np.where(x < 0.999)[0]\n",
    "        a = ((1 - x[mask])/(x[mask] + 1))**0.5\n",
    "        out[mask] = 2/(x[mask]**2 - 1) * (1 - np.log((1+a)/(1-a)) / (1-x[mask]**2)**0.5)\n",
    "\n",
    "        mask = np.where(x > 1.001)[0]\n",
    "        a = ((x[mask] - 1)/(x[mask] + 1))**0.5\n",
    "        out[mask] = 2/(x[mask]**2 - 1) * (1 - 2*np.arctan(a)/(x[mask]**2 - 1)**0.5)\n",
    "\n",
    "        # the approximation below has a maximum fractional error of 7.4e-7\n",
    "        mask = np.where((x >= 0.999) & (x <= 1.001))[0]\n",
    "        out[mask] = (22./15. - 0.8*x[mask])\n",
    "        \n",
    "        # critical density \n",
    "        rho_c   =   2.7722e11  #in unit of M_solar / Mpc^3\n",
    "        # average matter density within R200 at redshift z\n",
    "        # \\delta_c \\times \\rho_c in equation (1),(11)\n",
    "        rho_s   =   rho_c / self.ezInv**2 *self.delta_nfw\n",
    "        \n",
    "        return out* self.rs * rho_s\n",
    "        \n",
    "    def lensKernel(self,z_s):\n",
    "        \"\"\"Lensing kernel of halo as function of source redshift.\n",
    "        @param z_s        redshift of sources\n",
    "        \"\"\"\n",
    "        \n",
    "        # convenience: call with single number\n",
    "        if not isinstance(z_s, np.ndarray):\n",
    "            return self.lensKernel(np.array([z_s], dtype='float'))[0]\n",
    "        # lensing weights: the only thing that depends on z_s\n",
    "        # First mask the data with z<z_l\n",
    "        k_s =   np.zeros(len(z_s))\n",
    "        mask=   z_s>self.z\n",
    "        k_s[mask] =   self.cosmo.Da(self.z,z_s[mask])*self.DaLens/self.cosmo.Da(0.,z_s[mask])*four_pi_G_over_c_squared()\n",
    "        return k_s\n"
   ]
  },
  {
   "cell_type": "code",
   "execution_count": 63,
   "metadata": {},
   "outputs": [
    {
     "name": "stdout",
     "output_type": "stream",
     "text": [
      "4719.459416589283 4710.696878758708\n",
      "0.1 0.1\n",
      "0.04021036656352888 0.040107236201899356\n"
     ]
    }
   ],
   "source": [
    "def compareGS():\n",
    "    import galsim\n",
    "    halo=nfw_lens(mass=1e15,conc=0.1,redshift=0.3,ra=0.,dec=0.)\n",
    "    kappa=halo.lensKernel(2.)*halo.Sigma(2000.,0.)\n",
    "    pos_cl  =   galsim.PositionD(0.,0.)\n",
    "    haloGS  =   galsim.nfw_halo.NFWHalo(mass= 1e15,\n",
    "                conc=0.1, redshift= 0.3,\n",
    "                halo_pos=pos_cl ,omega_m= 0.3,\n",
    "                omega_lam= 0.7)\n",
    "    kappaGS=haloGS.getConvergence(pos=(2000.,0.),z_s=np.ones(1)*2.,units = \"arcsec\")\n",
    "    print(halo.rs_arcsec,haloGS.rs_arcsec)\n",
    "    print(halo.c,haloGS.c)\n",
    "    print(kappa,kappaGS)\n",
    "    return"
   ]
  },
  {
   "cell_type": "code",
   "execution_count": null,
   "metadata": {},
   "outputs": [],
   "source": []
  }
 ],
 "metadata": {
  "kernelspec": {
   "display_name": "Python 3",
   "language": "python",
   "name": "python3"
  },
  "language_info": {
   "codemirror_mode": {
    "name": "ipython",
    "version": 3
   },
   "file_extension": ".py",
   "mimetype": "text/x-python",
   "name": "python",
   "nbconvert_exporter": "python",
   "pygments_lexer": "ipython3",
   "version": "3.7.3"
  }
 },
 "nbformat": 4,
 "nbformat_minor": 4
}
