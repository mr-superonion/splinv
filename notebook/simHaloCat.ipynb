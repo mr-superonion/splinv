{
 "cells": [
  {
   "cell_type": "code",
   "execution_count": 1,
   "metadata": {},
   "outputs": [
    {
     "name": "stdout",
     "output_type": "stream",
     "text": [
      "Populating the interactive namespace from numpy and matplotlib\n"
     ]
    },
    {
     "ename": "ModuleNotFoundError",
     "evalue": "No module named 'hmf'",
     "output_type": "error",
     "traceback": [
      "\u001b[0;31m------------------------------\u001b[0m",
      "\u001b[0;31mModuleNotFoundError\u001b[0mTraceback (most recent call last)",
      "\u001b[0;32m<ipython-input-1-5ee352cc5d1f>\u001b[0m in \u001b[0;36m<module>\u001b[0;34m\u001b[0m\n\u001b[1;32m      1\u001b[0m \u001b[0mget_ipython\u001b[0m\u001b[0;34m(\u001b[0m\u001b[0;34m)\u001b[0m\u001b[0;34m.\u001b[0m\u001b[0mrun_line_magic\u001b[0m\u001b[0;34m(\u001b[0m\u001b[0;34m'pylab'\u001b[0m\u001b[0;34m,\u001b[0m \u001b[0;34m'inline'\u001b[0m\u001b[0;34m)\u001b[0m\u001b[0;34m\u001b[0m\u001b[0m\n\u001b[0;32m----> 2\u001b[0;31m \u001b[0;32mimport\u001b[0m \u001b[0mhmf\u001b[0m\u001b[0;34m\u001b[0m\u001b[0m\n\u001b[0m\u001b[1;32m      3\u001b[0m \u001b[0;32mfrom\u001b[0m \u001b[0mconfigparser\u001b[0m \u001b[0;32mimport\u001b[0m \u001b[0mConfigParser\u001b[0m\u001b[0;34m\u001b[0m\u001b[0m\n\u001b[1;32m      4\u001b[0m \u001b[0;32mimport\u001b[0m \u001b[0mastropy\u001b[0m\u001b[0;34m.\u001b[0m\u001b[0mtable\u001b[0m \u001b[0;32mas\u001b[0m \u001b[0mastTab\u001b[0m\u001b[0;34m\u001b[0m\u001b[0m\n",
      "\u001b[0;31mModuleNotFoundError\u001b[0m: No module named 'hmf'"
     ]
    }
   ],
   "source": [
    "%pylab inline\n",
    "import hmf\n",
    "from configparser import ConfigParser\n",
    "import astropy.table as astTab"
   ]
  },
  {
   "cell_type": "markdown",
   "metadata": {},
   "source": [
    "# run on Master@ipmu"
   ]
  },
  {
   "cell_type": "code",
   "execution_count": 2,
   "metadata": {},
   "outputs": [
    {
     "ename": "NameError",
     "evalue": "name 'ConfigParser' is not defined",
     "output_type": "error",
     "traceback": [
      "\u001b[0;31m------------------------------\u001b[0m",
      "\u001b[0;31mNameError\u001b[0mTraceback (most recent call last)",
      "\u001b[0;32m<ipython-input-2-72439a18f674>\u001b[0m in \u001b[0;36m<module>\u001b[0;34m\u001b[0m\n\u001b[0;32m----> 1\u001b[0;31m \u001b[0mparser\u001b[0m \u001b[0;34m=\u001b[0m   \u001b[0mConfigParser\u001b[0m\u001b[0;34m(\u001b[0m\u001b[0;34m)\u001b[0m\u001b[0;34m\u001b[0m\u001b[0m\n\u001b[0m\u001b[1;32m      2\u001b[0m \u001b[0mconfigName\u001b[0m\u001b[0;34m=\u001b[0m\u001b[0;34m'../config/config_lbd2.5_GAMA09H.ini'\u001b[0m\u001b[0;34m\u001b[0m\u001b[0m\n\u001b[1;32m      3\u001b[0m \u001b[0mparser\u001b[0m\u001b[0;34m.\u001b[0m\u001b[0mread\u001b[0m\u001b[0;34m(\u001b[0m\u001b[0mconfigName\u001b[0m\u001b[0;34m)\u001b[0m\u001b[0;34m\u001b[0m\u001b[0m\n\u001b[1;32m      4\u001b[0m \u001b[0mscale\u001b[0m  \u001b[0;34m=\u001b[0m   \u001b[0mparser\u001b[0m\u001b[0;34m.\u001b[0m\u001b[0mgetfloat\u001b[0m\u001b[0;34m(\u001b[0m\u001b[0;34m'transPlane'\u001b[0m\u001b[0;34m,\u001b[0m\u001b[0;34m'scale'\u001b[0m\u001b[0;34m)\u001b[0m\u001b[0;34m\u001b[0m\u001b[0m\n\u001b[1;32m      5\u001b[0m \u001b[0mny\u001b[0m     \u001b[0;34m=\u001b[0m   \u001b[0mparser\u001b[0m\u001b[0;34m.\u001b[0m\u001b[0mgetint\u001b[0m\u001b[0;34m(\u001b[0m\u001b[0;34m'transPlane'\u001b[0m  \u001b[0;34m,\u001b[0m\u001b[0;34m'ny'\u001b[0m\u001b[0;34m)\u001b[0m\u001b[0;34m\u001b[0m\u001b[0m\n",
      "\u001b[0;31mNameError\u001b[0m: name 'ConfigParser' is not defined"
     ]
    }
   ],
   "source": [
    "parser =   ConfigParser()\n",
    "configName='../config/config_lbd2.5_GAMA09H.ini'\n",
    "parser.read(configName)\n",
    "scale  =   parser.getfloat('transPlane','scale')\n",
    "ny     =   parser.getint('transPlane'  ,'ny')\n",
    "nx     =   parser.getint('transPlane'  ,'nx')\n",
    "xMin   =   parser.getfloat('transPlane','xMin')\n",
    "yMin   =   parser.getfloat('transPlane','yMin')\n",
    "xMax   =   xMin+nx*scale\n",
    "yMax   =   yMin+ny*scale\n",
    "yMax2  =   np.pi/2.-yMin*np.pi/180.\n",
    "yMin2  =   np.pi/2.-yMax*np.pi/180.\n",
    "area   =   nx*np.pi/180.*scale*(np.cos(yMin2)-np.cos(yMax2))"
   ]
  },
  {
   "cell_type": "code",
   "execution_count": 84,
   "metadata": {},
   "outputs": [
    {
     "data": {
      "image/png": "[encoded data removed]",
      "text/plain": [
       "<Figure size 432x288 with 1 Axes>"
      ]
     },
     "metadata": {
      "needs_background": "light"
     },
     "output_type": "display_data"
    }
   ],
   "source": [
    "nlp    =   parser.getint('lensZ','nlp')\n",
    "zlMin  =   parser.getfloat('lensZ','zlMin')\n",
    "zlscale=   parser.getfloat('lensZ','zlscale')\n",
    "zlBin  =   np.arange(zlMin,zlMin+zlscale*nlp,zlscale)+zlscale/2.\n",
    "dcmV   =   hmfun.parameter_values['cosmo_model'].differential_comoving_volume(zlBin).value\n",
    "plt.plot(zlBin,dcmV)\n",
    "plt.title('differential comoving volumn as function of redshift')\n",
    "plt.ylabel('dV_comoving')\n",
    "plt.xlabel('z')\n",
    "plt.yscale('log')"
   ]
  },
  {
   "cell_type": "code",
   "execution_count": 86,
   "metadata": {},
   "outputs": [],
   "source": [
    "hmfun  =   hmf.MassFunction(Mmin=14.,Mmax=16)\n",
    "mAll   =   []\n",
    "zAll   =   []\n",
    "conc   =   []\n",
    "for i,iz in enumerate(zlBin):\n",
    "    hmfun.update(z=iz)\n",
    "    volumn=dcmV[i]*zlscale*area\n",
    "    nhalo=int(hmfun.ngtm[0]*volumn+0.5)\n",
    "    allNum+=nhalo\n",
    "    zmin=iz-zlscale/2.\n",
    "    zmax=iz+zlscale/2.\n",
    "    zAll.extend(np.random.uniform(low=zmin,high=zmax,size=nhalo))\n",
    "    mAll.extend(hmf.sample_mf(N=nhalo,log_mmin=13.5,z=iz,Mmax=16)[0])"
   ]
  },
  {
   "cell_type": "code",
   "execution_count": 91,
   "metadata": {},
   "outputs": [],
   "source": [
    "zAll=np.array(zAll)\n",
    "mAll=np.array(mAll)\n",
    "concAll=6.02*(mAll/1.E13)**(-0.12)*(1.47/(1.+zAll[i]))**(0.16)\n",
    "raAll=np.random.uniform(low=xMin,high=xMax,size=len(zAll))\n",
    "decAll=np.random.uniform(low=yMin,high=yMax,size=len(zAll))\n",
    "cols=(zAll,mAll,concAll,raAll,decAll)\n",
    "names=('z_cl','M_200','conc','ra','dec')\n",
    "haloTab=astTab.Table(cols,names=names)\n",
    "haloTab.write('haloCat.csv')"
   ]
  },
  {
   "cell_type": "markdown",
   "metadata": {},
   "source": [
    "# For demonstration\n",
    "halo mass function"
   ]
  },
  {
   "cell_type": "code",
   "execution_count": 28,
   "metadata": {},
   "outputs": [
    {
     "data": {
      "text/plain": [
       "[<matplotlib.lines.Line2D at 0x7ff5595a3588>]"
      ]
     },
     "execution_count": 28,
     "metadata": {},
     "output_type": "execute_result"
    },
    {
     "data": {
      "image/png": "[encoded data removed]",
      "text/plain": [
       "<Figure size 432x288 with 1 Axes>"
      ]
     },
     "metadata": {
      "needs_background": "light"
     },
     "output_type": "display_data"
    }
   ],
   "source": [
    "plt.plot(np.log10(hmfun.dndlog10m))"
   ]
  },
  {
   "cell_type": "code",
   "execution_count": null,
   "metadata": {},
   "outputs": [],
   "source": []
  },
  {
   "cell_type": "code",
   "execution_count": null,
   "metadata": {},
   "outputs": [],
   "source": []
  },
  {
   "cell_type": "code",
   "execution_count": null,
   "metadata": {},
   "outputs": [],
   "source": []
  },
  {
   "cell_type": "code",
   "execution_count": null,
   "metadata": {},
   "outputs": [],
   "source": []
  }
 ],
 "metadata": {
  "kernelspec": {
   "display_name": "Python 3",
   "language": "python",
   "name": "python3"
  },
  "language_info": {
   "codemirror_mode": {
    "name": "ipython",
    "version": 3
   },
   "file_extension": ".py",
   "mimetype": "text/x-python",
   "name": "python",
   "nbconvert_exporter": "python",
   "pygments_lexer": "ipython3",
   "version": "3.6.6"
  }
 },
 "nbformat": 4,
 "nbformat_minor": 4
}
