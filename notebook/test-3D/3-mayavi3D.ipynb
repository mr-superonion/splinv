{
 "cells": [
  {
   "cell_type": "code",
   "execution_count": 5,
   "id": "fatty-granny",
   "metadata": {},
   "outputs": [
    {
     "name": "stdout",
     "output_type": "stream",
     "text": [
      "Populating the interactive namespace from numpy and matplotlib\n"
     ]
    }
   ],
   "source": [
    "%pylab inline\n",
    "import astropy.io.fits as pyfits\n",
    "from mayavi import mlab\n",
    "import os\n",
    "\n",
    "figMsDir=os.path.join(os.environ['HOME'],'Documents/Docs/massMap/1-method_2021')"
   ]
  },
  {
   "cell_type": "code",
   "execution_count": 95,
   "id": "intimate-device",
   "metadata": {},
   "outputs": [],
   "source": [
    "pp=3\n",
    "if pp==1:\n",
    "    fname1='deltaR-3-7-zt-nn-lasso-lbd35-lbc00.fits'\n",
    "    fname2='deltaR-3-7-zt-nn-alasso-lbd35.fits'\n",
    "    oname1='delta-3-7-zt-nn-lasso.pdf'\n",
    "    oname2='delta-3-7-zt-nn-alasso.pdf'\n",
    "elif pp==2:\n",
    "    fname1='f3-1/deltaR-sim52-alasso2.fits'\n",
    "    fname2='f3-3/deltaR-sim52-alasso2.fits' \n",
    "    oname1='delta-1-7-pz-wn-NFW-falsepeakproblem.pdf'\n",
    "    oname2='delta-1-7-pz-wn-NFW_3-falsepeakproblem.pdf'\n",
    "elif pp==3:\n",
    "    fname1='f1-1/deltaR-sim52-alasso2.fits'\n",
    "    fname2='f1-3/deltaR-sim52-alasso2.fits' \n",
    "    oname1='delta-1-7-pz-wn-PM-falsepeakproblem.pdf'\n",
    "    oname2='delta-1-7-pz-wn-PM_3-falsepeakproblem.pdf'\n",
    "oname1=os.path.join(figMsDir,oname1)\n",
    "oname2=os.path.join(figMsDir,oname2)\n",
    "nb=23\n",
    "nc1=0\n",
    "nc2=2\n",
    "ext=[0,96-2*nb,0,96-2*nb,0,20-nc2-nc1]\n",
    "rgs=[0+nb-48,96-nb-48,0+nb-48,96-nb-48,0.01+0.042*nc1,0.85-0.042*nc2]\n",
    "data1=pyfits.getdata(fname1)[nc1:20-nc2,nb:96-nb,nb:96-nb]\n",
    "data1=np.swapaxes(data1,0,2)\n",
    "data2=pyfits.getdata(fname2)[nc1:20-nc2,nb:96-nb,nb:96-nb]\n",
    "data2=np.swapaxes(data2,0,2)"
   ]
  },
  {
   "cell_type": "code",
   "execution_count": 96,
   "id": "vocational-incident",
   "metadata": {},
   "outputs": [],
   "source": [
    "plot=True"
   ]
  },
  {
   "cell_type": "code",
   "execution_count": 97,
   "id": "amino-filing",
   "metadata": {},
   "outputs": [],
   "source": [
    "mlab.figure(bgcolor=(1, 1, 1), fgcolor=(0, 0, 0), size=(8,6))\n",
    "mlab.contour3d(data1+0.0000001,contours=6,colormap='viridis',\\\n",
    "               opacity=0.5,transparent=True)\n",
    "ax=mlab.axes(xlabel='ra [arcmin]', ylabel='dec [arcmin]', zlabel='z',\\\n",
    "         extent=ext,line_width=1.2,ranges=rgs,nb_labels=4, \\\n",
    "         z_axis_visibility=False,x_axis_visibility=False,\n",
    "         opacity=0.2)\n",
    "ax.label_text_property.font_size=20\n",
    "cb=mlab.colorbar(nb_labels=5,label_fmt='%.1f')\n",
    "cb.scalar_bar.unconstrained_font_size = True\n",
    "cb.label_text_property.font_size=22\n",
    "mlab.outline(extent=ext,opacity=0.2)\n",
    "mlab.view(240,90,distance=76.0)\n",
    "if plot:\n",
    "    mlab.savefig(oname1)\n",
    "    mlab.close()\n",
    "else:\n",
    "    mlab.show()"
   ]
  },
  {
   "cell_type": "code",
   "execution_count": 98,
   "id": "alpine-politics",
   "metadata": {},
   "outputs": [],
   "source": [
    "fig = mlab.figure(bgcolor=(1, 1, 1), fgcolor=(0, 0, 0))\n",
    "mlab.contour3d(data2+0.0000001,contours=6,colormap='viridis',\\\n",
    "               opacity=0.5,transparent=True)\n",
    "ax=mlab.axes(xlabel='ra [arcmin]', ylabel='dec [arcmin]', zlabel='z',\\\n",
    "         extent=ext,line_width=1.2,ranges=rgs,nb_labels=4, \\\n",
    "         z_axis_visibility=False,x_axis_visibility=False,\n",
    "         opacity=0.2)\n",
    "ax.label_text_property.font_size=20\n",
    "cb=mlab.colorbar(nb_labels=5,label_fmt='%.1f')\n",
    "cb.scalar_bar.unconstrained_font_size = True\n",
    "cb.label_text_property.font_size=22\n",
    "mlab.outline(extent=ext,opacity=0.2)\n",
    "mlab.view(240,90,distance=76.0)\n",
    "if plot:\n",
    "    mlab.savefig(oname2)\n",
    "    mlab.close()\n",
    "else:\n",
    "    mlab.show()"
   ]
  },
  {
   "cell_type": "code",
   "execution_count": null,
   "id": "geographic-suite",
   "metadata": {},
   "outputs": [],
   "source": []
  }
 ],
 "metadata": {
  "kernelspec": {
   "display_name": "Python 3",
   "language": "python",
   "name": "python3"
  },
  "language_info": {
   "codemirror_mode": {
    "name": "ipython",
    "version": 3
   },
   "file_extension": ".py",
   "mimetype": "text/x-python",
   "name": "python",
   "nbconvert_exporter": "python",
   "pygments_lexer": "ipython3",
   "version": "3.8.6"
  }
 },
 "nbformat": 4,
 "nbformat_minor": 5
}
