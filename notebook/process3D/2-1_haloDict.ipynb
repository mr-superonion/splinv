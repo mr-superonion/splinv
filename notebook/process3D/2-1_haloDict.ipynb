{
 "cells": [
  {
   "cell_type": "code",
   "execution_count": 9,
   "metadata": {},
   "outputs": [
    {
     "name": "stdout",
     "output_type": "stream",
     "text": [
      "Populating the interactive namespace from numpy and matplotlib\n"
     ]
    }
   ],
   "source": [
    "%pylab inline\n",
    "import gc\n",
    "import matplotlib\n",
    "import scipy\n",
    "import fitsio\n",
    "\n",
    "cmap=plt.get_cmap('tab20')\n",
    "\n",
    "import hmf\n",
    "import haloSim\n",
    "import catSimutil as simutil\n",
    "import astropy.table as astTable\n",
    "from cosmology import Cosmo\n",
    "cosmo   =   Cosmo(h=1.,omega_m=0.315)\n",
    "\n",
    "from configparser import ConfigParser\n",
    "from pixel3D import cartesianGrid3D"
   ]
  },
  {
   "cell_type": "code",
   "execution_count": 10,
   "metadata": {},
   "outputs": [
    {
     "name": "stdout",
     "output_type": "stream",
     "text": [
      "-1.6653345369377348e-16\n"
     ]
    }
   ],
   "source": [
    "pend0='obs-nl12'\n",
    "pend='m146_152' \n",
    "configName  =   'wrkDir/sim/planck-cosmo/config-%s-pc.ini' %pend0\n",
    "parser      =   ConfigParser()\n",
    "parser.read(configName)\n",
    "gridInfo    =   cartesianGrid3D(parser)\n",
    "lensKer0=gridInfo.lensing_kernel(deltaIn=False)\n",
    "lensKer1=gridInfo.lensing_kernel(deltaIn=True)\n",
    "zbound=gridInfo.zlbound\n",
    "zave=gridInfo.zlcgrid\n",
    "\n",
    "parser2      =   ConfigParser()\n",
    "parser2.read(configName)\n",
    "parser2.set('sourceZ','zbound','[0.02,10]')\n",
    "cg=cartesianGrid3D(parser2)\n",
    "print(cg.xcgrid[24])"
   ]
  },
  {
   "cell_type": "code",
   "execution_count": 11,
   "metadata": {},
   "outputs": [
    {
     "name": "stdout",
     "output_type": "stream",
     "text": [
      "FlatLambdaCDM(name=\"Planck15\", H0=67.4 km / (Mpc s), Om0=0.315, Tcmb0=2.725 K, Neff=3.05, m_nu=[0.   0.   0.06] eV, Ob0=0.0486)\n",
      "<class 'hmf.mass_function.fitting_functions.Tinker08'>\n",
      "number of loaded noise: 8257800\n"
     ]
    }
   ],
   "source": [
    "# Initialize hmf\n",
    "hmfmod='Tinker08'#'ST'#\n",
    "#pend='m140_146'\n",
    "mmin=eval(pend[1:].split('_')[0])/10.\n",
    "mmax=eval(pend[1:].split('_')[1])/10.\n",
    "mf = hmf.MassFunction(Mmin=mmin,Mmax=mmax,dlog10m=0.008,hmf_model=hmfmod,takahashi=True,sigma_8=0.811,n=0.965)\n",
    "\n",
    "mf.update(cosmo_params={\"Om0\":0.315,\"H0\":67.4})\n",
    "print(mf.cosmo)\n",
    "print(mf.hmf_model)\n",
    "# galaxy catalog for positions\n",
    "infname='wrkDir/sim/HSC-obs/20200328/stampSim_HSClike_mask_shapenoise_photoz-202003282257.fits'\n",
    "data=astTable.Table.read(infname)\n",
    "print('number of loaded noise: %d' %len(data))\n",
    "ng=len(data)//100\n",
    "dataU=data[:ng]"
   ]
  },
  {
   "cell_type": "code",
   "execution_count": 31,
   "metadata": {},
   "outputs": [
    {
     "name": "stdout",
     "output_type": "stream",
     "text": [
      "4.814513680401408 3.948180957329429 524169236263257.25\n",
      "56.28206216411832\n",
      "3.181086666264528 3.9181649417387394 523859203563715.2\n",
      "25.108006995931685\n",
      "2.4372279532525085 3.886784666550186 527776644719732.5\n",
      "15.002326733489323\n",
      "1.9940723455008273 3.865320778894166 523473559063654.5\n",
      "10.401587271528742\n",
      "1.7066354362382936 3.8439296574740243 520198014648001.7\n",
      "7.894114911115188\n",
      "1.5068973690815053 3.8215961663592006 518792303430754.1\n",
      "6.359595805219475\n",
      "1.3460260026251238 3.8087754986559936 506364801521594.5\n",
      "5.3424597895237955\n",
      "1.223222899580694 3.793935098961654 494704136875274.7\n",
      "4.62680044010488\n",
      "1.150101584307642 3.761346576541537 512497745586303.5\n",
      "4.106245035840618\n",
      "1.068639995983402 3.747705360141482 503120079515348.2\n",
      "3.72160167988598\n",
      "0.9994829511954277 3.736270063669426 493819678797470.4\n",
      "3.42111417323345\n",
      "0.9470742307562776 3.7185171767892586 491514752989517.06\n",
      "3.1863367198091717\n"
     ]
    },
    {
     "data": {
      "image/png": "[encoded data removed]",
      "text/plain": [
       "<Figure size 432x288 with 1 Axes>"
      ]
     },
     "metadata": {
      "needs_background": "light"
     },
     "output_type": "display_data"
    }
   ],
   "source": [
    "#Prepare basis vectors\n",
    "ngrid=48\n",
    "nn=500\n",
    "\n",
    "outDir='wrkDir/sim/planck-cosmo/prior/'\n",
    "haloAveAll=np.zeros((gridInfo.nzl,1,ngrid,ngrid))\n",
    "for iz in range(0,gridInfo.nzl):\n",
    "    z=zave[iz]\n",
    "    pix2mpc=cosmo.Da(0.,z)*1./60./180*np.pi #[Mpc/h]\n",
    "    mf.update(z=z)\n",
    "    m = mf.m\n",
    "    v=cosmo.V(zbound[iz],zbound[iz+1])*np.pi**2./180.**2./4./np.pi\n",
    "    mass_func = mf.dndm*v\n",
    "    imgList=np.empty((nn,ngrid,ngrid))\n",
    "    rsAve=0.\n",
    "    concAve=0.\n",
    "    mAve=0.\n",
    "    for i in range(nn):\n",
    "        # randomly sampe a mass\n",
    "        mi=simutil.mcSample(m,mass_func)[0]\n",
    "        conc =  6.02*(mi/1.E13)**(-0.12)*(1.47/(1.+z))**(0.16)\n",
    "        concAve+=conc\n",
    "        rs_arcmin=haloSim.mc2rs(mi,conc,z)\n",
    "        rsAve+=rs_arcmin\n",
    "        mAve+=mi\n",
    "    rsAve=rsAve/nn\n",
    "    concAve=concAve/nn\n",
    "    mAve=mAve/nn\n",
    "    print(rsAve,concAve,mAve)\n",
    "    #print(pix2mpc**2.)\n",
    "    halo=haloSim.nfw_lensTJ03(mass=mAve,conc=concAve,redshift=z,ra=0.,dec=0.)\n",
    "    SigmaArray  =   halo.Sigma(dataU['raR']*3600.,dataU['decR']*3600.)\n",
    "    pixSigma=np.fft.ifftshift(cg.pixelize_data(dataU['raR'],dataU['decR'],None,SigmaArray)[0]/mAve)\n",
    "    plt.imshow(pixSigma)\n",
    "    haloAveAll[iz,0]=pixSigma\n",
    "    print(np.sum(pixSigma))\n",
    "    del pixSigma,rsAve,concAve,mAve,SigmaArray\n",
    "    gc.collect()\n",
    "pyfits.writeto(os.path.join(outDir,'haloBasis-%s-%s.fits' %(pend0,pend)),haloAveAll,overwrite=True)"
   ]
  },
  {
   "cell_type": "code",
   "execution_count": 30,
   "metadata": {},
   "outputs": [
    {
     "name": "stdout",
     "output_type": "stream",
     "text": [
      "4.8857442793387476 3.932161748216731 539985613375286.2\n",
      "1.010268172737529\n",
      "3.1746262716891254 3.919811272527593 520834657825218.1\n",
      "1.0143868866134313\n",
      "2.4216500292379215 3.893101871134283 520224795496779.75\n",
      "1.0189902367031831\n",
      "1.989594293299571 3.8668211014831155 519833061626981.2\n",
      "1.0234835857652596\n",
      "1.7121517020094583 3.84110581853836 524494878700298.56\n",
      "1.0285512593080433\n",
      "1.500152017962467 3.8253778926773774 512494004134092.5\n",
      "1.0340138907636096\n",
      "1.3480466200927588 3.80676524944662 507058766134459.06\n",
      "1.03824470670282\n",
      "1.2281825785117764 3.7902478380712057 499662403947184.9\n",
      "1.0412417451496097\n",
      "1.1441256910618922 3.7668224676805875 507209090729603.8\n",
      "1.0449755684075233\n",
      "1.0733586919158111 3.7438070111527573 508626694374341.06\n",
      "1.0496297131697272\n",
      "1.0069042897929363 3.7289362300338365 501696775891348.5\n",
      "1.0531469209972275\n",
      "0.9446697381105692 3.7205687452449405 488221176886352.8\n",
      "1.0579543546894679\n"
     ]
    },
    {
     "data": {
      "image/png": "[encoded data removed]",
      "text/plain": [
       "<Figure size 432x288 with 1 Axes>"
      ]
     },
     "metadata": {
      "needs_background": "light"
     },
     "output_type": "display_data"
    }
   ],
   "source": [
    "#Prepare basis vectors\n",
    "ngrid=48\n",
    "nn=500\n",
    "\n",
    "outDir='wrkDir/sim/planck-cosmo/prior/'\n",
    "haloAveAll=np.zeros((gridInfo.nzl,1,ngrid,ngrid))\n",
    "for iz in range(0,gridInfo.nzl):\n",
    "    z=zave[iz]\n",
    "    pix2mpc=cosmo.Da(0.,z)*1./60./180*np.pi #[Mpc/h]\n",
    "    mf.update(z=z)\n",
    "    m = mf.m\n",
    "    v=cosmo.V(zbound[iz],zbound[iz+1])*np.pi**2./180.**2./4./np.pi\n",
    "    mass_func = mf.dndm*v\n",
    "    imgList=np.empty((nn,ngrid,ngrid))\n",
    "    rsAve=0.\n",
    "    concAve=0.\n",
    "    mAve=0.\n",
    "    for i in range(nn):\n",
    "        # randomly sampe a mass\n",
    "        mi=simutil.mcSample(m,mass_func)[0]\n",
    "        conc =  6.02*(mi/1.E13)**(-0.12)*(1.47/(1.+z))**(0.16)\n",
    "        concAve+=conc\n",
    "        rs_arcmin=haloSim.mc2rs(mi,conc,z)\n",
    "        rsAve+=rs_arcmin\n",
    "        mAve+=mi\n",
    "    rsAve=rsAve/nn\n",
    "    concAve=concAve/nn\n",
    "    mAve=mAve/nn\n",
    "    print(rsAve,concAve,mAve)\n",
    "    #print(pix2mpc**2.)\n",
    "    halo=haloSim.nfw_lensTJ03(mass=mAve,conc=concAve,redshift=z,ra=0.,dec=0.)\n",
    "    SigmaArray  =   halo.Sigma(dataU['raR']*3600.,dataU['decR']*3600.)\n",
    "    pixSigma=np.fft.ifftshift(cg.pixelize_data(dataU['raR'],dataU['decR'],None,SigmaArray)[0]/mAve)\n",
    "    plt.imshow(pixSigma)\n",
    "    haloAveAll[iz,0]=pixSigma\n",
    "    dx=halo.DaLens*gridInfo.delta*np.pi/180.\n",
    "    print(np.sum(pixSigma)*dx**2.)\n",
    "    del pixSigma,rsAve,concAve,mAve,SigmaArray\n",
    "    gc.collect()\n",
    "pyfits.writeto(os.path.join(outDir,'haloBasis-%s-%s.fits' %(pend0,pend)),haloAveAll,overwrite=True)"
   ]
  },
  {
   "cell_type": "code",
   "execution_count": 27,
   "metadata": {},
   "outputs": [
    {
     "data": {
      "text/plain": [
       "3402822611551685.5"
      ]
     },
     "execution_count": 27,
     "metadata": {},
     "output_type": "execute_result"
    }
   ],
   "source": [
    "halo.Sigma(dataU['raR']*3600.,dataU['decR']*3600.).max()"
   ]
  },
  {
   "cell_type": "code",
   "execution_count": 26,
   "metadata": {},
   "outputs": [
    {
     "data": {
      "text/html": [
       "&lt;Column name=&apos;raR&apos; dtype=&apos;float64&apos; length=82578&gt;\n",
       "<table>\n",
       "<tr><td>0.1252543890422696</td></tr>\n",
       "<tr><td>0.011568174451773383</td></tr>\n",
       "<tr><td>-0.09315804494109214</td></tr>\n",
       "<tr><td>-0.3885442758185812</td></tr>\n",
       "<tr><td>-0.3142861773001051</td></tr>\n",
       "<tr><td>-0.4186927188941735</td></tr>\n",
       "<tr><td>0.1279425320787032</td></tr>\n",
       "<tr><td>-0.3159218262417991</td></tr>\n",
       "<tr><td>0.044485093385245866</td></tr>\n",
       "<tr><td>-0.4699203317240983</td></tr>\n",
       "<tr><td>0.2265010760228321</td></tr>\n",
       "<tr><td>0.4230888319963072</td></tr>\n",
       "<tr><td>...</td></tr>\n",
       "<tr><td>0.24788381643947854</td></tr>\n",
       "<tr><td>-0.38768816146615237</td></tr>\n",
       "<tr><td>0.041832688986025435</td></tr>\n",
       "<tr><td>-0.25869302262158345</td></tr>\n",
       "<tr><td>0.38309184406787533</td></tr>\n",
       "<tr><td>0.3067025007358286</td></tr>\n",
       "<tr><td>0.19806307755504737</td></tr>\n",
       "<tr><td>0.3496792240973724</td></tr>\n",
       "<tr><td>0.15945615748945552</td></tr>\n",
       "<tr><td>-0.22422145113981695</td></tr>\n",
       "<tr><td>0.4646796130397196</td></tr>\n",
       "<tr><td>0.4986942244163495</td></tr>\n",
       "</table>"
      ],
      "text/plain": [
       "<Column name='raR' dtype='float64' length=82578>\n",
       "  0.1252543890422696\n",
       "0.011568174451773383\n",
       "-0.09315804494109214\n",
       " -0.3885442758185812\n",
       " -0.3142861773001051\n",
       " -0.4186927188941735\n",
       "  0.1279425320787032\n",
       " -0.3159218262417991\n",
       "0.044485093385245866\n",
       " -0.4699203317240983\n",
       "  0.2265010760228321\n",
       "  0.4230888319963072\n",
       "                 ...\n",
       " 0.24788381643947854\n",
       "-0.38768816146615237\n",
       "0.041832688986025435\n",
       "-0.25869302262158345\n",
       " 0.38309184406787533\n",
       "  0.3067025007358286\n",
       " 0.19806307755504737\n",
       "  0.3496792240973724\n",
       " 0.15945615748945552\n",
       "-0.22422145113981695\n",
       "  0.4646796130397196\n",
       "  0.4986942244163495"
      ]
     },
     "execution_count": 26,
     "metadata": {},
     "output_type": "execute_result"
    }
   ],
   "source": [
    "dataU['raR']"
   ]
  },
  {
   "cell_type": "code",
   "execution_count": 21,
   "metadata": {},
   "outputs": [
    {
     "data": {
      "text/plain": [
       "0.576163829317587"
      ]
     },
     "execution_count": 21,
     "metadata": {},
     "output_type": "execute_result"
    }
   ],
   "source": []
  },
  {
   "cell_type": "code",
   "execution_count": 22,
   "metadata": {},
   "outputs": [
    {
     "name": "stdout",
     "output_type": "stream",
     "text": [
      "Help on float object:\n",
      "\n",
      "class float(object)\n",
      " |  float(x=0, /)\n",
      " |  \n",
      " |  Convert a string or number to a floating point number, if possible.\n",
      " |  \n",
      " |  Methods defined here:\n",
      " |  \n",
      " |  __abs__(self, /)\n",
      " |      abs(self)\n",
      " |  \n",
      " |  __add__(self, value, /)\n",
      " |      Return self+value.\n",
      " |  \n",
      " |  __bool__(self, /)\n",
      " |      self != 0\n",
      " |  \n",
      " |  __divmod__(self, value, /)\n",
      " |      Return divmod(self, value).\n",
      " |  \n",
      " |  __eq__(self, value, /)\n",
      " |      Return self==value.\n",
      " |  \n",
      " |  __float__(self, /)\n",
      " |      float(self)\n",
      " |  \n",
      " |  __floordiv__(self, value, /)\n",
      " |      Return self//value.\n",
      " |  \n",
      " |  __format__(self, format_spec, /)\n",
      " |      Formats the float according to format_spec.\n",
      " |  \n",
      " |  __ge__(self, value, /)\n",
      " |      Return self>=value.\n",
      " |  \n",
      " |  __getattribute__(self, name, /)\n",
      " |      Return getattr(self, name).\n",
      " |  \n",
      " |  __getnewargs__(self, /)\n",
      " |  \n",
      " |  __gt__(self, value, /)\n",
      " |      Return self>value.\n",
      " |  \n",
      " |  __hash__(self, /)\n",
      " |      Return hash(self).\n",
      " |  \n",
      " |  __int__(self, /)\n",
      " |      int(self)\n",
      " |  \n",
      " |  __le__(self, value, /)\n",
      " |      Return self<=value.\n",
      " |  \n",
      " |  __lt__(self, value, /)\n",
      " |      Return self<value.\n",
      " |  \n",
      " |  __mod__(self, value, /)\n",
      " |      Return self%value.\n",
      " |  \n",
      " |  __mul__(self, value, /)\n",
      " |      Return self*value.\n",
      " |  \n",
      " |  __ne__(self, value, /)\n",
      " |      Return self!=value.\n",
      " |  \n",
      " |  __neg__(self, /)\n",
      " |      -self\n",
      " |  \n",
      " |  __pos__(self, /)\n",
      " |      +self\n",
      " |  \n",
      " |  __pow__(self, value, mod=None, /)\n",
      " |      Return pow(self, value, mod).\n",
      " |  \n",
      " |  __radd__(self, value, /)\n",
      " |      Return value+self.\n",
      " |  \n",
      " |  __rdivmod__(self, value, /)\n",
      " |      Return divmod(value, self).\n",
      " |  \n",
      " |  __repr__(self, /)\n",
      " |      Return repr(self).\n",
      " |  \n",
      " |  __rfloordiv__(self, value, /)\n",
      " |      Return value//self.\n",
      " |  \n",
      " |  __rmod__(self, value, /)\n",
      " |      Return value%self.\n",
      " |  \n",
      " |  __rmul__(self, value, /)\n",
      " |      Return value*self.\n",
      " |  \n",
      " |  __round__(self, ndigits=None, /)\n",
      " |      Return the Integral closest to x, rounding half toward even.\n",
      " |      \n",
      " |      When an argument is passed, work like built-in round(x, ndigits).\n",
      " |  \n",
      " |  __rpow__(self, value, mod=None, /)\n",
      " |      Return pow(value, self, mod).\n",
      " |  \n",
      " |  __rsub__(self, value, /)\n",
      " |      Return value-self.\n",
      " |  \n",
      " |  __rtruediv__(self, value, /)\n",
      " |      Return value/self.\n",
      " |  \n",
      " |  __str__(self, /)\n",
      " |      Return str(self).\n",
      " |  \n",
      " |  __sub__(self, value, /)\n",
      " |      Return self-value.\n",
      " |  \n",
      " |  __truediv__(self, value, /)\n",
      " |      Return self/value.\n",
      " |  \n",
      " |  __trunc__(self, /)\n",
      " |      Return the Integral closest to x between 0 and x.\n",
      " |  \n",
      " |  as_integer_ratio(self, /)\n",
      " |      Return integer ratio.\n",
      " |      \n",
      " |      Return a pair of integers, whose ratio is exactly equal to the original float\n",
      " |      and with a positive denominator.\n",
      " |      \n",
      " |      Raise OverflowError on infinities and a ValueError on NaNs.\n",
      " |      \n",
      " |      >>> (10.0).as_integer_ratio()\n",
      " |      (10, 1)\n",
      " |      >>> (0.0).as_integer_ratio()\n",
      " |      (0, 1)\n",
      " |      >>> (-.25).as_integer_ratio()\n",
      " |      (-1, 4)\n",
      " |  \n",
      " |  conjugate(self, /)\n",
      " |      Return self, the complex conjugate of any float.\n",
      " |  \n",
      " |  hex(self, /)\n",
      " |      Return a hexadecimal representation of a floating-point number.\n",
      " |      \n",
      " |      >>> (-0.1).hex()\n",
      " |      '-0x1.999999999999ap-4'\n",
      " |      >>> 3.14159.hex()\n",
      " |      '0x1.921f9f01b866ep+1'\n",
      " |  \n",
      " |  is_integer(self, /)\n",
      " |      Return True if the float is an integer.\n",
      " |  \n",
      " |  ----------------------------------------------------------------------\n",
      " |  Class methods defined here:\n",
      " |  \n",
      " |  __getformat__(typestr, /) from builtins.type\n",
      " |      You probably don't want to use this function.\n",
      " |      \n",
      " |        typestr\n",
      " |          Must be 'double' or 'float'.\n",
      " |      \n",
      " |      It exists mainly to be used in Python's test suite.\n",
      " |      \n",
      " |      This function returns whichever of 'unknown', 'IEEE, big-endian' or 'IEEE,\n",
      " |      little-endian' best describes the format of floating point numbers used by the\n",
      " |      C type named by typestr.\n",
      " |  \n",
      " |  __set_format__(typestr, fmt, /) from builtins.type\n",
      " |      You probably don't want to use this function.\n",
      " |      \n",
      " |        typestr\n",
      " |          Must be 'double' or 'float'.\n",
      " |        fmt\n",
      " |          Must be one of 'unknown', 'IEEE, big-endian' or 'IEEE, little-endian',\n",
      " |          and in addition can only be one of the latter two if it appears to\n",
      " |          match the underlying C reality.\n",
      " |      \n",
      " |      It exists mainly to be used in Python's test suite.\n",
      " |      \n",
      " |      Override the automatic determination of C-level floating point type.\n",
      " |      This affects how floats are converted to and from binary strings.\n",
      " |  \n",
      " |  fromhex(string, /) from builtins.type\n",
      " |      Create a floating-point number from a hexadecimal string.\n",
      " |      \n",
      " |      >>> float.fromhex('0x1.ffffp10')\n",
      " |      2047.984375\n",
      " |      >>> float.fromhex('-0x1p-1074')\n",
      " |      -5e-324\n",
      " |  \n",
      " |  ----------------------------------------------------------------------\n",
      " |  Static methods defined here:\n",
      " |  \n",
      " |  __new__(*args, **kwargs) from builtins.type\n",
      " |      Create and return a new object.  See help(type) for accurate signature.\n",
      " |  \n",
      " |  ----------------------------------------------------------------------\n",
      " |  Data descriptors defined here:\n",
      " |  \n",
      " |  imag\n",
      " |      the imaginary part of a complex number\n",
      " |  \n",
      " |  real\n",
      " |      the real part of a complex number\n",
      "\n"
     ]
    }
   ],
   "source": []
  },
  {
   "cell_type": "code",
   "execution_count": 20,
   "metadata": {},
   "outputs": [
    {
     "data": {
      "text/plain": [
       "2.0"
      ]
     },
     "execution_count": 20,
     "metadata": {},
     "output_type": "execute_result"
    }
   ],
   "source": [
    "gridInfo.delta*60"
   ]
  },
  {
   "cell_type": "code",
   "execution_count": null,
   "metadata": {},
   "outputs": [],
   "source": [
    "        selfnorm2=np.sqrt(np.sum(imgList**2,axis=(1,2)))\n",
    "        haloAve=np.average(imgList,axis=0)\n",
    "        #norm=np.sqrt(np.sum(haloAve**2.))\n",
    "        norm=np.sum(haloAve)*pix2mpc**2.\n",
    "        # normalize to make sure \\int dxdy f(x,y)=1\n",
    "        haloAve=haloAve/norm\n",
    "    mask=haloAveAll>1e-5\n",
    "    haloAveAll[~mask]=0.\n",
    "    print(np.min(haloAveAll))\n",
    "    pyfits.writeto(os.path.join(outDir,'haloBasis-nl10.fits'),haloAveAll,overwrite=True)"
   ]
  },
  {
   "cell_type": "code",
   "execution_count": null,
   "metadata": {},
   "outputs": [],
   "source": []
  }
 ],
 "metadata": {
  "kernelspec": {
   "display_name": "Python 3",
   "language": "python",
   "name": "python3"
  },
  "language_info": {
   "codemirror_mode": {
    "name": "ipython",
    "version": 3
   },
   "file_extension": ".py",
   "mimetype": "text/x-python",
   "name": "python",
   "nbconvert_exporter": "python",
   "pygments_lexer": "ipython3",
   "version": "3.7.8"
  }
 },
 "nbformat": 4,
 "nbformat_minor": 4
}
