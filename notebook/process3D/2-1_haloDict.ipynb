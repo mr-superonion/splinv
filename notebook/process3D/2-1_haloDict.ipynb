{
 "cells": [
  {
   "cell_type": "code",
   "execution_count": 13,
   "metadata": {},
   "outputs": [
    {
     "name": "stdout",
     "output_type": "stream",
     "text": [
      "Populating the interactive namespace from numpy and matplotlib\n"
     ]
    }
   ],
   "source": [
    "%pylab inline\n",
    "import gc\n",
    "import matplotlib\n",
    "import scipy\n",
    "import fitsio\n",
    "\n",
    "cmap=plt.get_cmap('tab20')\n",
    "\n",
    "import hmf\n",
    "import haloSim\n",
    "import catSimutil as simutil\n",
    "import astropy.table as astTable\n",
    "cosmo   =   Cosmo(h=1.,omega_m=0.315)\n",
    "\n",
    "from configparser import ConfigParser\n",
    "from pixel3D import cartesianGrid3D\n",
    "\n",
    "#figMsDir='/home/xiangchong/Documents/Docs/massMap/2-cluster_HSC_2021/'"
   ]
  },
  {
   "cell_type": "code",
   "execution_count": 49,
   "metadata": {},
   "outputs": [
    {
     "name": "stdout",
     "output_type": "stream",
     "text": [
      "-1.6653345369377348e-16\n"
     ]
    }
   ],
   "source": [
    "configName  =   'wrkDir/sim/planck-cosmo/config-pix48-nl10-pc.ini'\n",
    "parser      =   ConfigParser()\n",
    "parser.read(configName)\n",
    "gridInfo    =   cartesianGrid3D(parser)\n",
    "lensKer0=gridInfo.lensing_kernel(deltaIn=False)\n",
    "lensKer1=gridInfo.lensing_kernel(deltaIn=True)\n",
    "zbound=gridInfo.zlbound\n",
    "zave=gridInfo.zlcgrid\n",
    "\n",
    "parser2      =   ConfigParser()\n",
    "parser2.read(configName)\n",
    "parser2.set('sourceZ','zbound','[0.02,10]')\n",
    "cg=cartesianGrid3D(parser2)\n",
    "print(cg.xcgrid[24])"
   ]
  },
  {
   "cell_type": "code",
   "execution_count": 60,
   "metadata": {},
   "outputs": [
    {
     "name": "stdout",
     "output_type": "stream",
     "text": [
      "FlatLambdaCDM(name=\"Planck15\", H0=67.4 km / (Mpc s), Om0=0.315, Tcmb0=2.725 K, Neff=3.05, m_nu=[0.   0.   0.06] eV, Ob0=0.0486)\n",
      "<class 'hmf.mass_function.fitting_functions.Tinker08'>\n",
      "number of loaded noise: 8257800\n"
     ]
    }
   ],
   "source": [
    "# Initialize hmf\n",
    "hmfmod='Tinker08'#'ST'#\n",
    "\n",
    "pend='m146_152' \n",
    "#pend='m140_146'\n",
    "mmin=eval(pend[1:].split('_')[0])/10.\n",
    "mmax=eval(pend[1:].split('_')[1])/10.\n",
    "mf = hmf.MassFunction(Mmin=mmin,Mmax=mmax,dlog10m=0.008,hmf_model=hmfmod,takahashi=True,sigma_8=0.811,n=0.965)\n",
    "\n",
    "mf.update(cosmo_params={\"Om0\":0.315,\"H0\":67.4})\n",
    "print(mf.cosmo)\n",
    "print(mf.hmf_model)\n",
    "# galaxy catalog for positions\n",
    "infname='wrkDir/sim/HSC-obs/20200328/stampSim_HSClike_mask_shapenoise_photoz-202003282257.fits'\n",
    "data=astTable.Table.read(infname)\n",
    "print('number of loaded noise: %d' %len(data))\n",
    "ng=len(data)//100\n",
    "dataU=data[:ng]"
   ]
  },
  {
   "cell_type": "code",
   "execution_count": 61,
   "metadata": {},
   "outputs": [
    {
     "name": "stdout",
     "output_type": "stream",
     "text": [
      "6.417472233748717 3.9583869872305626 525339924979996.4\n",
      "3.9543447041377338 3.919263913657449 544455543594060.06\n",
      "2.859202774354916 3.9081985172486737 521280824547230.94\n",
      "2.309259560684204 3.8802987695281117 529252629374945.25\n",
      "1.9320786640534386 3.8676153503723794 515657595992818.06\n",
      "1.696574789319477 3.8427448831920215 522277253282504.5\n",
      "1.5176567922078326 3.820406942422233 519202291708803.6\n",
      "1.3814761370804982 3.80053456784984 519724697148722.44\n",
      "1.267063541248389 3.786286035204493 513078828810053.94\n",
      "1.1759646904803829 3.7713316254934774 508919315007135.06\n"
     ]
    },
    {
     "data": {
      "image/png": "[encoded data removed]",
      "text/plain": [
       "<Figure size 432x288 with 1 Axes>"
      ]
     },
     "metadata": {
      "needs_background": "light"
     },
     "output_type": "display_data"
    }
   ],
   "source": [
    "#Prepare basis vectors\n",
    "ngrid=48\n",
    "nn=500\n",
    "\n",
    "outDir='wrkDir/sim/planck-cosmo/prior/'\n",
    "haloAveAll=np.zeros((gridInfo.nzl,1,ngrid,ngrid))\n",
    "for iz in range(0,gridInfo.nzl):\n",
    "    z=zave[iz]\n",
    "    pix2mpc=cosmo.Da(0.,z)*1./60./180*np.pi #[Mpc/h]\n",
    "    mf.update(z=z)\n",
    "    m = mf.m\n",
    "    v=cosmo.V(zbound[iz],zbound[iz+1])*np.pi**2./180.**2./4./np.pi\n",
    "    mass_func = mf.dndm*v\n",
    "    imgList=np.empty((nn,ngrid,ngrid))\n",
    "    rsAve=0.\n",
    "    concAve=0.\n",
    "    mAve=0.\n",
    "    for i in range(nn):\n",
    "        # randomly sampe a mass\n",
    "        mi=simutil.mcSample(m,mass_func)[0]\n",
    "        conc =  6.02*(mi/1.E13)**(-0.12)*(1.47/(1.+z))**(0.16)\n",
    "        concAve+=conc\n",
    "        rs_arcmin=haloSim.mc2rs(mi,conc,z)\n",
    "        rsAve+=rs_arcmin\n",
    "        mAve+=mi\n",
    "    rsAve=rsAve/nn\n",
    "    concAve=concAve/nn\n",
    "    mAve=mAve/nn\n",
    "    print(rsAve,concAve,mAve)\n",
    "    #print(pix2mpc**2.)\n",
    "    halo=haloSim.nfw_lensTJ03(mass=mAve,conc=concAve,redshift=z,ra=0.,dec=0.)\n",
    "    SigmaArray  =   halo.Sigma(dataU['raR']*3600.,dataU['decR']*3600.)\n",
    "    pixSigma=np.fft.ifftshift(cg.pixelize_data(dataU['raR'],dataU['decR'],None,SigmaArray)[0]/mAve)\n",
    "    plt.imshow(pixSigma)\n",
    "    haloAveAll[iz,0]=pixSigma\n",
    "    del pixSigma,rsAve,concAve,mAve,halo,SigmaArray\n",
    "    gc.collect()\n",
    "pyfits.writeto(os.path.join(outDir,'haloBasis-nl10-pix48-%s.fits' %pend),haloAveAll,overwrite=True)"
   ]
  },
  {
   "cell_type": "code",
   "execution_count": 57,
   "metadata": {},
   "outputs": [
    {
     "data": {
      "text/plain": [
       "549540873857624.8"
      ]
     },
     "execution_count": 57,
     "metadata": {},
     "output_type": "execute_result"
    }
   ],
   "source": [
    "10**(14.74)"
   ]
  },
  {
   "cell_type": "code",
   "execution_count": null,
   "metadata": {},
   "outputs": [],
   "source": [
    "        selfnorm2=np.sqrt(np.sum(imgList**2,axis=(1,2)))\n",
    "        haloAve=np.average(imgList,axis=0)\n",
    "        #norm=np.sqrt(np.sum(haloAve**2.))\n",
    "        norm=np.sum(haloAve)*pix2mpc**2.\n",
    "        # normalize to make sure \\int dxdy f(x,y)=1\n",
    "        haloAve=haloAve/norm\n",
    "    mask=haloAveAll>1e-5\n",
    "    haloAveAll[~mask]=0.\n",
    "    print(np.min(haloAveAll))\n",
    "    pyfits.writeto(os.path.join(outDir,'haloBasis-nl10.fits'),haloAveAll,overwrite=True)"
   ]
  },
  {
   "cell_type": "code",
   "execution_count": null,
   "metadata": {},
   "outputs": [],
   "source": []
  }
 ],
 "metadata": {
  "kernelspec": {
   "display_name": "Python 3",
   "language": "python",
   "name": "python3"
  },
  "language_info": {
   "codemirror_mode": {
    "name": "ipython",
    "version": 3
   },
   "file_extension": ".py",
   "mimetype": "text/x-python",
   "name": "python",
   "nbconvert_exporter": "python",
   "pygments_lexer": "ipython3",
   "version": "3.7.8"
  }
 },
 "nbformat": 4,
 "nbformat_minor": 4
}
