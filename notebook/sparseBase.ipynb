{
 "cells": [
  {
   "cell_type": "code",
   "execution_count": 19,
   "metadata": {
    "slideshow": {
     "slide_type": "skip"
    }
   },
   "outputs": [
    {
     "name": "stdout",
     "output_type": "stream",
     "text": [
      "Populating the interactive namespace from numpy and matplotlib\n"
     ]
    }
   ],
   "source": [
    "%pylab inline\n",
    "import json\n",
    "import os\n",
    "import cosmology\n",
    "import numpy as np\n",
    "import astropy.io.fits as pyfits\n",
    "import ipyvolume as ipv\n",
    "import ipyvolume.pylab as pvlt\n",
    "\n",
    "try:\n",
    "    # use lsst.afw.display and firefly backend for display\n",
    "    import lsst.log as logging\n",
    "    import lsst.afw.image as afwImage\n",
    "    haslsst=True\n",
    "except ImportError:\n",
    "    haslsst=False\n",
    "from configparser import ConfigParser\n",
    "\n",
    "def zMeanBin(zMin,dz,nz):\n",
    "    return np.arange(zMin,zMin+dz*nz,dz)+dz/2.\n",
    "\n",
    "# LASSO Threshold Functions\n",
    "def soft_thresholding(dum,thresholds):\n",
    "    # Standard Threshold Function\n",
    "    return np.sign(dum)*np.maximum(np.abs(dum)-thresholds,0.)\n",
    "\n",
    "def firm_thresholding(dum,thresholds):\n",
    "    # Glimpse13 uses f\n",
    "    mask    =   (np.abs(dum)<= thresholds)\n",
    "    dum[mask]=  0.\n",
    "    mask    =   (np.abs(dum)>thresholds)\n",
    "    mask    =   mask&(np.abs(dum)<= 2*thresholds)\n",
    "    dum[mask]=  np.sign(dum[mask])*(2*np.abs(dum[mask])-thresholds[mask])\n",
    "    return dum\n",
    "\n",
    "def my_thresholding(dum,thresholds):\n",
    "    # doesnot work @_@\n",
    "    mask    =   (abs(dum)<= thresholds)\n",
    "    dum[mask]=  0.\n",
    "    mask    =   (abs(dum)>thresholds)\n",
    "    dum[mask]=  np.sign(dum[mask])*(abs(dum[mask])-thresholds[mask]**2./abs(dum[mask]))\n",
    "    return dum\n",
    "\n",
    "class massmap_ks2D():\n",
    "    def __init__(self,ny,nx):\n",
    "        self.shape   =   (ny,nx)\n",
    "        self.e2phiF  =   self.e2phiFou(self.shape)\n",
    "\n",
    "    def e2phiFou(self,shape):\n",
    "        ny1,nx1 =   shape\n",
    "        e2phiF  =   np.zeros(shape,dtype=complex)\n",
    "        for j in range(ny1):\n",
    "            jy  =   (j+ny1//2)%ny1-ny1//2\n",
    "            jy  =   jy/ny1\n",
    "            for i in range(nx1):\n",
    "                ix  =   (i+nx1//2)%nx1-nx1//2\n",
    "                ix  =   ix/nx1\n",
    "                if (i**2+j**2)>0:\n",
    "                    e2phiF[j,i]    =   np.complex((ix**2.-jy**2.),2.*ix*jy)/(ix**2.+jy**2.)\n",
    "                else:\n",
    "                    e2phiF[j,i]    =   1.\n",
    "        return e2phiF*np.pi\n",
    "\n",
    "    def itransform(self,gMap,inFou=True,outFou=True):\n",
    "        assert gMap.shape==self.shape\n",
    "        if not inFou:\n",
    "            gMap =   np.fft.fft2(gMap)\n",
    "        kOMap    =   gMap/self.e2phiF*np.pi\n",
    "        if not outFou:\n",
    "            kOMap    =   np.fft.ifft2(kOMap)\n",
    "        return kOMap\n",
    "\n",
    "    def transform(self,kMap,inFou=True,outFou=True):\n",
    "        assert kMap.shape==self.shape\n",
    "        if not inFou:\n",
    "            kMap =   np.fft.fft2(kMap)\n",
    "        gOMap    =   kMap*self.e2phiF/np.pi\n",
    "        if not outFou:\n",
    "            gOMap    =   np.fft.ifft2(gOMap)\n",
    "        return gOMap\n",
    "\n",
    "class massmapSparsityTask():\n",
    "    def __init__(self,parser):\n",
    "        #display\n",
    "        self.display_iframe=0\n",
    "        if parser.has_option('file','fieldN'):\n",
    "            self.fieldN =   parser.get('file','fieldN')\n",
    "        else:\n",
    "            self.fieldN  =   'test'\n",
    "        if parser.has_option('file','outDir'):\n",
    "            self.outDir =   parser.get('file','outDir')\n",
    "        else:\n",
    "            self.outDir  =   './'\n",
    "        self.debugRange=[]#range(1,100,10)\n",
    "\n",
    "        #sparse\n",
    "        self.aprox_method    =   parser.get('sparse','aprox_method')\n",
    "        self.lbd    =   parser.getfloat('sparse','lbd') #Sparsity\n",
    "        if parser.has_option('sparse','lbd2'):          #Total Square Variance\n",
    "            self.lbd2   =   parser.getfloat('sparse','lbd2')\n",
    "        else:\n",
    "            self.lbd2   =   0.\n",
    "        self.nframe =   parser.getint('sparse','nframe')\n",
    "        outFname    =   'deltaMap_lbd%.1f_%s.fits' %(self.lbd,self.fieldN)\n",
    "        self.outFname   =   os.path.join(self.outDir,outFname)\n",
    "\n",
    "        #pixelization\n",
    "        \n",
    "        ##transverse plane\n",
    "        self.ny     =   parser.getint('transPlane','ny')\n",
    "        self.nx     =   parser.getint('transPlane','nx')\n",
    "        ##lens z axis\n",
    "        self.nlp    =   parser.getint('lensZ','nlp')\n",
    "        \n",
    "        if self.nlp<=1:\n",
    "            self.zlMin  =   0.\n",
    "            self.zlscale=   1.\n",
    "        else:\n",
    "            self.zlMin       =   parser.getfloat('lensZ','zlMin')\n",
    "            self.zlscale     =   parser.getfloat('lensZ','zlscale')\n",
    "        self.zlBin       =   zMeanBin(self.zlMin,self.zlscale,self.nlp)\n",
    "\n",
    "        ##source z axis\n",
    "        self.nz     =   parser.getint('sourceZ','nz')\n",
    "        if self.nz<=1:\n",
    "            self.zMin   =   0.05\n",
    "            self.zscale =   2.5\n",
    "            self.zsBin      =   zMeanBin(self.zMin,self.zscale,self.nz)\n",
    "        else:\n",
    "            zbound =   np.array(json.loads(parser.get('sourceZ','zbound')))\n",
    "            self.zsBin =   (zbound[:-1]+zbound[1:])/2.\n",
    "\n",
    "        self.shapeS =   (self.nz,self.ny,self.nx)\n",
    "        self.shapeL =   (self.nlp,self.ny,self.nx)\n",
    "        self.shapeA =   (self.nlp,self.nframe,self.ny,self.nx)\n",
    "\n",
    "        self.cosmo  =   cosmology.Cosmo(h=1)\n",
    "        self.lensing_kernel(self.zlBin,self.zsBin)\n",
    "\n",
    "        dicname =   parser.get('sparse','dicname')\n",
    "        if dicname=='starlet':\n",
    "            from halolet import starlet2D\n",
    "            self.dict2D =   starlet2D(gen=2,nframe=self.nframe,ny=self.ny,nx=self.nx)\n",
    "        elif dicname=='nfwlet':\n",
    "            from halolet import nfwlet2D\n",
    "            self.dict2D =   nfwlet2D(nframe=self.nframe,ngrid=self.nx,smooth_scale=-1)\n",
    "        self.ks2D   =   massmap_ks2D(self.ny,self.nx)\n",
    "\n",
    "        # Read pixelized shear and mask\n",
    "        sigfname    =   parser.get('prepare','sigmafname')\n",
    "        g1fname     =   parser.get('prepare','g1fname')\n",
    "        g2fname     =   parser.get('prepare','g2fname')\n",
    "        self.sigmaS =   pyfits.getdata(sigfname)\n",
    "        g1Map=pyfits.getdata(g1fname)[0]\n",
    "        g2Map=pyfits.getdata(g2fname)[0]\n",
    "        assert g1Map.shape  ==   self.shapeS, \\\n",
    "            'load wrong pixelized shear, shape map shape: (%d,%d,%d)' %g1Map.shape\n",
    "        assert self.sigmaS.shape  ==   self.shapeS, \\\n",
    "            'load wrong pixelized std, shape map shape: (%d,%d,%d)' %self.sigmaS.shape\n",
    "        self.mask   =   (self.sigmaS>=1.e-4)\n",
    "\n",
    "        # Estimate Spectrum\n",
    "        self.spectrum_norm()\n",
    "\n",
    "        # Estimate variance plane for alpha\n",
    "        sigma_noise =   parser.getfloat('sparse','sigma_noise')\n",
    "        self.prox_sigmaA(100)\n",
    "        sigmaName   =   os.path.join(self.outDir,'sigmaA_%s.fits' %self.fieldN)\n",
    "        pyfits.writeto(sigmaName,self.sigmaA[:,self.display_iframe],overwrite=True)\n",
    "        muName   =   os.path.join(self.outDir,'mu_%s.fits' %self.fieldN)\n",
    "        pyfits.writeto(muName,self.mu[:,self.display_iframe],overwrite=True)\n",
    "        \n",
    "        # Initialization\n",
    "        self.alphaR =   np.zeros(self.shapeA)   # alpha\n",
    "        self.deltaR =   np.zeros(self.shapeL)   # delta\n",
    "        self.shearRRes   = np.zeros(self.shapeS)# shear residuals\n",
    "        self.shearR =   g1Map+np.complex128(1j)*g2Map # shear\n",
    "        return\n",
    "\n",
    "    def lensing_kernel(self,zlbin,zsbin):\n",
    "        logging.info('Calculating lensing kernel')\n",
    "        if self.nlp<=1:\n",
    "            self.lensKernel =   np.ones((self.nz,self.nlp))\n",
    "        else:\n",
    "            self.lensKernel =   np.zeros((self.nz,self.nlp))\n",
    "            for i,zs in enumerate(zsbin):\n",
    "                self.lensKernel[i,:]    =   self.cosmo.deltacritinv(zlbin,zs)\n",
    "        return\n",
    "\n",
    "    def main_forward(self,alphaRIn):\n",
    "        shearOut    =   np.zeros(self.shapeS,dtype=np.complex128)\n",
    "        for zl in range(self.nlp):\n",
    "            deltaFZl=   self.dict2D.itransform(alphaRIn[zl,:,:,:],inFou=False)\n",
    "            shearRZl=   self.ks2D.transform(deltaFZl,outFou=False)\n",
    "            shearOut+=  (self.lensKernel[:,zl,None,None]*shearRZl)\n",
    "        shearOut    =   shearOut*(self.mask.astype(np.int))\n",
    "        return shearOut\n",
    "\n",
    "    def main_transpose(self,shearRIn):\n",
    "        deltaFTmp       =   np.zeros(self.shapeL,dtype=np.complex128)\n",
    "        for zs in range(self.nz):\n",
    "            kappaFZs    =   self.ks2D.itransform(shearRIn[zs],inFou=False)\n",
    "            deltaFTmp  +=   (self.lensKernel[zs,:,None,None]*kappaFZs)\n",
    "        alphaRO         =   np.empty(self.shapeA)\n",
    "        for zl in range(self.nlp):\n",
    "            alphaRO[zl,:,:,:]=self.dict2D.itranspose(deltaFTmp[zl],outFou=False).real\n",
    "        return alphaRO\n",
    "\n",
    "    def gradient_chi2(self):\n",
    "        # sparseBase.massmapSparsityTask.gradient_chi2\n",
    "        # calculate the gradient of the chi2 component\n",
    "        shearRTmp   =   self.main_forward(self.alphaR) #A_{ij} x_j\n",
    "        self.shearRRes   =   self.shearR-shearRTmp     #y_i-A_{ij} x_j\n",
    "        dalphaR     =   -self.main_transpose(self.shearRRes)/2. #-A_{i\\alpha}(y-A_{ij} x_j)/2\n",
    "        return dalphaR\n",
    "\n",
    "    def gradient_TSV(self):\n",
    "        # sparseBase.massmapSparsityTask.gradient_TSV\n",
    "        # calculate the gradient of the Total Square Variance(TSV) component\n",
    "        \n",
    "        # Initialization\n",
    "        dalphaR =   np.zeros(self.shapeA)\n",
    "        \n",
    "        difx    =   np.roll(self.alphaR[:,0,:,:],1,axis=-1)\n",
    "        difx    =   difx-self.alphaR[:,0,:,:] #D1\n",
    "        gradx   =   np.roll(difx,-1,axis=-1)\n",
    "        gradx   =   gradx-difx # (D1)_{i\\alpha} (D1)_{ij} x_j\n",
    "\n",
    "        dify    =   np.roll(self.alphaR[:,0,:,:],1,axis=-2)\n",
    "        dify    =   dify-self.alphaR[:,0,:,:] #D2\n",
    "        grady   =   np.roll(dify,-1,axis=-2)\n",
    "        grady   =   grady-dify # (D2)_{i\\alpha} (D2)_{ij} x_j\n",
    "        dalphaR[:,0,:,:]=(gradx+grady)*self.lbd2/2.\n",
    "        return dalphaR\n",
    "\n",
    "    def gradient(self):\n",
    "        # sparseBase.massmapSparsityTask.gradient\n",
    "        # calculate the gradient of the Second order component in loss function \n",
    "        # wihch includes Total Square Variance(TSV) and chi2 components\n",
    "        gCh2=self.gradient_chi2()\n",
    "        gTSV=self.gradient_TSV()\n",
    "        return gCh2+gTSV\n",
    "\n",
    "    def spectrum_norm(self):\n",
    "        # sparseBase.massmapSparsityTask.spectrum_norm\n",
    "        # Estimate A_{i\\alpha} A_{i\\alpha}\n",
    "        asquareframe=np.zeros((self.nz,self.nframe,self.ny,self.nx))\n",
    "        for iz in range(self.nz):\n",
    "            maskF=np.fft.fft2(self.mask[iz,:,:])\n",
    "            for iframe in range(self.nframe):\n",
    "                fun=np.abs(self.ks2D.transform(self.dict2D.fouaframes[iframe,:,:],outFou=False))**2.\n",
    "                asquareframe[iz,iframe,:,:]=np.fft.ifft2(np.fft.fft2(fun).real*maskF).real\n",
    "\n",
    "        spectrum=np.sum(self.lensKernel[:,:,None,None,None]**2.*asquareframe[:,None,:,:,:],axis=0)\n",
    "        \n",
    "        # the first frame\n",
    "        spectrum[:,0,:,:]=spectrum[:,0,:,:]+4.*self.lbd2 \n",
    "        self.mu=1./spectrum\n",
    "        return\n",
    "\n",
    "    def prox_sigmaA(self,niter):\n",
    "        logging.info('Estimating sigma map')\n",
    "        outData     =   np.zeros(self.shapeA)\n",
    "        for irun in range(niter):\n",
    "            np.random.seed(irun)\n",
    "            g1Sim   =   np.random.randn(self.nz,self.ny,self.nx)*self.sigmaS\n",
    "            g2Sim   =   np.random.randn(self.nz,self.ny,self.nx)*self.sigmaS\n",
    "            shearSim=   g1Sim+np.complex128(1j)*g2Sim\n",
    "            alphaRSim=  -self.main_transpose(shearSim)/2.\n",
    "            outData +=  alphaRSim**2.\n",
    "                \n",
    "        # \n",
    "        maskL =   np.all(self.sigmaS>1.e-4,axis=0)\n",
    "        for izlp in range(self.nlp):\n",
    "            for iframe in range(self.nframe):\n",
    "                outData[izlp,iframe][~maskL]=np.max(outData[izlp,iframe])\n",
    "        self.sigmaA =   self.mu*np.sqrt(outData/niter)\n",
    "        return\n",
    "\n",
    "    def reconstruct(self):\n",
    "        #update deltaR\n",
    "        for zl in range(self.nlp):\n",
    "            alphaRZ         =   self.alphaR[zl].copy()\n",
    "            self.deltaR[zl] =   self.dict2D.itransform(alphaRZ,inFou=False,outFou=False)/self.zlscale\n",
    "        return\n",
    "\n",
    "    def pathwise_coordinate_descent(self,iup,niter,threM='ST'):\n",
    "        self.lbd_path=np.ones(niter)*100\n",
    "        for irun in range(1,niter):\n",
    "            self.dalphaR =   -self.mu*self.gradient().real\n",
    "            # Update thresholds\n",
    "            snrArray=np.abs(self.dalphaR)/self.sigmaA\n",
    "            ind=np.unravel_index(np.argmax(snrArray, axis=None), snrArray.shape)\n",
    "            if snrArray[ind]<self.lbd:\n",
    "                self.lbd_path[irun:]=self.lbd\n",
    "                return\n",
    "            elif snrArray[ind]>1.02*self.lbd_path[irun-1]:\n",
    "                # do not update threshold if the maximum is larger than lbd\n",
    "                # record it to lbd_path\n",
    "                self.lbd_path[irun]=self.lbd_path[irun-1]\n",
    "            else:\n",
    "                # decrease threshold\n",
    "                self.lbd_path[irun]=max(snrArray[ind]*0.98,self.lbd)\n",
    "                self.thresholds=self.lbd_path[irun]*self.sigmaA\n",
    "            dum     =   self.alphaR+self.dalphaR\n",
    "            if threM=='ST':\n",
    "                self.alphaR[ind]  = soft_thresholding(dum,self.thresholds)[ind]\n",
    "            elif threM=='FT':\n",
    "                self.alphaR[ind]  = firm_thresholding(dum,self.thresholds)[ind]\n",
    "            # Write (Display) the fits file\n",
    "            if irun in self.debugRange:\n",
    "                self.reconstruct()\n",
    "                ratioPlot=self.dalphaR[:,self.display_iframe]/self.sigmaA[:,self.display_iframe]\n",
    "                for il in range(self.nlp):\n",
    "                    print('max snr in %d lens bin is %.3f' %(il,ratioPlot[il].max()))\n",
    "                ratioPlot[ratioPlot<self.lbd]=0.\n",
    "                pyfits.writeto('deltaR_%s_%d_%d.fits' %(self.fieldN,iup,irun),self.deltaR.real,overwrite=True)\n",
    "                pyfits.writeto('alphaR_%s_%d_%d.fits' %(self.fieldN,iup,irun),self.alphaR.real[:,self.display_iframe],overwrite=True)\n",
    "                pyfits.writeto('dalphaR_over_sigma_%s_%d_%d.fits' %(self.fieldN,iup,irun),ratioPlot,overwrite=True)\n",
    "        return\n",
    "    \n",
    "    def fista_gradient_descent(self,iup,niter,threM='ST'):\n",
    "        covInv=0.05 # TODO: Estimate covInv numerically?\n",
    "        self.sigmaA=self.sigmaA*covInv\n",
    "        self.mu=self.mu*covInv\n",
    "        self.thresholds =   self.lbd*self.sigmaA\n",
    "        tn=0\n",
    "        for irun in range(niter):\n",
    "            #save old kappaFou\n",
    "            self.dalphaR =   -self.mu*self.gradient().real\n",
    "            dum     =   self.alphaR+self.dalphaR\n",
    "            if threM=='ST':\n",
    "                dum  = soft_thresholding(dum,self.thresholds)\n",
    "            elif threM=='FT':\n",
    "                dum  = firm_thresholding(dum,self.thresholds)\n",
    "            #update x_\\alpha according to FISTA\n",
    "            tnTmp= (1.+np.sqrt(1.+4*tn**2.))/2.\n",
    "            ratio= (tn-1.)/tnTmp\n",
    "            tn   = tnTmp\n",
    "            self.alphaR=dum+(ratio*(dum-self.alphaR))\n",
    "            # Write (Display) the fits file\n",
    "            if irun in self.debugRange:\n",
    "                self.reconstruct()\n",
    "                ratioPlot=self.dalphaR[:,self.display_iframe]/self.sigmaA[:,self.display_iframe]\n",
    "                for il in range(self.nlp):\n",
    "                    print('max snr in %d lens bin is %.3f' %(il,ratioPlot[il].max()))\n",
    "                ratioPlot[ratioPlot<self.lbd]=0.\n",
    "                pyfits.writeto('deltaR_%s_%d_%d.fits' %(self.fieldN,iup,irun),self.deltaR.real,overwrite=True)\n",
    "                pyfits.writeto('alphaR_%s_%d_%d.fits' %(self.fieldN,iup,irun),self.alphaR.real[:,self.display_iframe],overwrite=True)\n",
    "                pyfits.writeto('dalphaR_over_sigma_%s_%d_%d.fits' %(self.fieldN,iup,irun),ratioPlot,overwrite=True)\n",
    "        return\n",
    "\n",
    "    def process(self,niter=1000):\n",
    "        if self.aprox_method=='pathwise':\n",
    "            self.pathwise_coordinate_descent(0,niter,'ST')\n",
    "        elif self.aprox_method=='fista':\n",
    "            self.fista_gradient_descent(0,niter,'ST')\n",
    "        self.reconstruct()\n",
    "        return\n",
    "\n",
    "    def write(self):\n",
    "        pyfits.writeto(self.outFname,self.deltaR.real,overwrite=True)\n",
    "        return"
   ]
  },
  {
   "cell_type": "markdown",
   "metadata": {},
   "source": [
    "# LASSO\n",
    "\n",
    "## Loss Function\n",
    "\n",
    "$$L(\\vec{x})=\\frac{1}{2}(y_{i}-A^{*}_{ij}x_{j})(y_{i}-A_{ik}x_{k})+\\frac{\\lambda_2}{2}[(D^{1}_{ij} x_{j})(D^{1}_{ik}x_{k})+ (D^{2}_{ij} x_{j})(D^{2}_{ik}x_{k})]+ \\lambda_1 \\sigma_i |x_i|,$$\n",
    "\n",
    "where $x_i$ is the i-th component of real vector $\\vec{x}$, $A_{ij}$ and $D^{1,2}_{ij}$ are the $(i,j)$ component of matrix $\\mathbf{A}$ and $\\mathbf{D^{1,2}}$. $A_{ij}$ is complex number whereas $D^{1,2}_{ij}$ are real number. $A^{*}_{ij}$ is used to denote the conjugate of $A_{ij}$.\n",
    "\n",
    "$\\mathbf{A}$ refers to the transformation operator from the real dictionary field to the observed complex shear field. Note that we do not consider $B$ mode so $x$ is a real vector. \n",
    "\n",
    "```python\n",
    "# sparseBase.massmapSparsityTask.__init__\n",
    "## Initialization of the Dictionary Space (A)\n",
    "# 1) Basis vector used to model the Surface Density of halo  \n",
    "if dicname=='starlet':\n",
    "    from halolet import starlet2D\n",
    "    self.dict2D =   starlet2D(gen=2,nframe=self.nframe,ny=self.ny,nx=self.nx)\n",
    "elif dicname=='nfwlet':\n",
    "    from halolet import nfwlet2D\n",
    "    self.dict2D =   nfwlet2D(nframe=self.nframe,ngrid=self.nx,smooth_scale=-1)\n",
    "# 2) From Surface Density of Excess Surface Density\n",
    "self.ks2D   =   massmap_ks2D(self.ny,self.nx)\n",
    "\n",
    "# 3) Lening Kernel: from Excess Surface Density to Shear\n",
    "\n",
    "if self.nlp<=1:\n",
    "    self.lensKernel =   np.ones((self.nz,self.nlp))\n",
    "else:\n",
    "    self.lensKernel =   np.zeros((self.nz,self.nlp))\n",
    "    for i,zs in enumerate(zsbin):\n",
    "        self.lensKernel[i,:]    =   self.cosmo.deltacritinv(zlbin,zs)\n",
    "```\n",
    "\n",
    "$\\mathbf{D^{1,2}}$ refer to difference operators in two transverse  (ra, dec) directions. $\\lambda_2$ control the amplitude of the Total Square Variance (TSV) term.\n",
    "\n",
    "\n",
    "```python\n",
    "# sparseBase.massmapSparsityTask.gradient_TSV\n",
    "# Definition of D1 and D2\n",
    "difx    =   np.roll(self.alphaR[:,0,:,:],1,axis=-1)\n",
    "difx    =   difx-self.alphaR[:,0,:,:] # D1\n",
    "dify    =   np.roll(self.alphaR[:,0,:,:],1,axis=-2)\n",
    "dify    =   dify-self.alphaR[:,0,:,:] # D2\n",
    "```"
   ]
  },
  {
   "cell_type": "markdown",
   "metadata": {},
   "source": [
    "## Second Order Term\n",
    "\n",
    "We separate out the second order terms in the loss function.\n",
    "\n",
    "$$F(\\vec{x})=\\frac{1}{2}(y_{i}-A^{*}_{ij}x_{j})(y_{i}-A_{ik}x_{k})+\\frac{\\lambda_2}{2}[(D^{1}_{ij} x_{j})(D^{1}_{ik}x_{k})+ (D^{2}_{ij} x_{j})(D^{2}_{ik}x_{k})].$$\n",
    "\n",
    "The gradient of it is\n",
    "\n",
    "$$\\partial_\\alpha F(\\vec{x})=-A_{i\\alpha}^{*} (y_{i}-A_{ij}x_{j}) + \\lambda_2(D^1_{i\\alpha}D^1_{ij} x_{j}+ D^2_{i\\alpha} D^2_{ij} x_j).$$\n",
    "\n",
    "\n",
    "```python\n",
    "\n",
    "# sparseBase.massmapSparsityTask.gradient\n",
    "# calculate the gradient of the Second order component in loss function \n",
    "# wihch includes Total Square Variance(TSV) and chi2 components\n",
    "gCh2=self.gradient_chi2()\n",
    "gTSV=self.gradient_TSV()\n",
    "\n",
    "# sparseBase.massmapSparsityTask.gradient_chi2\n",
    "# calculate the gradient of the chi2 component\n",
    "shearRTmp   =   self.main_forward(self.alphaR) #A_{ij} x_j\n",
    "self.shearRRes   =   self.shearR-shearRTmp     #y_i-A_{ij} x_j\n",
    "dalphaR     =   -self.main_transpose(self.shearRRes)/2. #-A_{i\\alpha}(y_i-A_{ij} x_j)/2\n",
    "\n",
    "# sparseBase.massmapSparsityTask.gradient_TSV\n",
    "gradx   =   np.roll(difx,-1,axis=-1)\n",
    "gradx   =   gradx-difx    # (D1)_{i\\alpha} (D1)_{ij} x_j\n",
    "grady   =   np.roll(dify,-1,axis=-2)  \n",
    "grady   =   grady-dify    # (D2)_{i\\alpha} (D2)_{ij} x_j\n",
    "dalphaR[:,0,:,:]=(gradx+grady)*self.lbd2/2.\n",
    "```\n",
    "\n"
   ]
  },
  {
   "cell_type": "markdown",
   "metadata": {},
   "source": [
    "## Pathwise Coordinate Descent\n",
    "\n",
    "The starting point is set to $x_i^{(0)}=0$. We approach to the minimum of the loss function ($L(\\vec{x})$) by iteratively updates $\\vec{x}$. For each iteration, we find the coordinate on which the projection of derivative has the largest signal to noise ratio. This coordinate is recorded as $x_{\\alpha}$ and the largest signal to noise ratio is recorded as $\\rm{S/N}_{\\alpha}$. \n",
    "We update $\\lambda=\\rm{max}(0.98 \\rm{S/N}_{\\alpha}, \\lambda_1)$. Then we update along this specific coordinate $x_{\\alpha}$.\n",
    "\n",
    "$$x_{\\alpha}^{(n+1)}=S_{\\lambda\\sigma_{\\alpha}}(x_{\\alpha}^{(n)}-\\frac{\\partial_{\\alpha}F(\\vec{x})}{A_{i\\alpha}A_{i\\alpha}+4\\lambda_2}),$$\n",
    "\n",
    "$S_{\\lambda}$ is the soft thresholding function defined as:\n",
    "\n",
    "$$S_{\\lambda} (x_{\\alpha})=\\rm{sign}(x_{\\alpha}) \\rm{max}(|x_{\\alpha}| - \\lambda,0)$$\n",
    "\n",
    "```python\n",
    "self.dalphaR =   -self.mu*self.gradient().real\n",
    "# Update thresholds\n",
    "snrArray=np.abs(self.dalphaR)/self.sigmaA\n",
    "ind=np.unravel_index(np.argmax(snrArray, axis=None), snrArray.shape)\n",
    "if snrArray[ind]<self.lbd:\n",
    "    self.lbd_path[irun:]=self.lbd\n",
    "    return\n",
    "elif snrArray[ind]>1.02*self.lbd_path[irun-1]:\n",
    "    # do not update threshold if the maximum is larger than lbd\n",
    "    # record it to lbd_path\n",
    "    self.lbd_path[irun]=self.lbd_path[irun-1]\n",
    "else:\n",
    "    # decrease threshold\n",
    "    self.lbd_path[irun]=max(snrArray[ind]*0.98,self.lbd)\n",
    "    self.thresholds=self.lbd_path[irun]*self.sigmaA\n",
    "dum     =   self.alphaR+self.dalphaR\n",
    "if threM=='ST':\n",
    "    self.alphaR[ind]  = soft_thresholding(dum,self.thresholds)[ind]\n",
    "elif threM=='FT':\n",
    "    self.alphaR[ind]  = firm_thresholding(dum,self.thresholds)[ind]\n",
    "```\n",
    "\n",
    "Note that here $A_{i\\alpha} A_{i\\alpha}$ should be estimated taking into account the mask of observed shear field.\n",
    "```python\n",
    "# sparseBase.massmapSparsityTask.spectrum_norm\n",
    "# Estimate A_{i\\alpha} A_{i\\alpha}\n",
    "asquareframe=np.zeros((self.nz,self.nframe,self.ny,self.nx))\n",
    "for iz in range(self.nz):\n",
    "    maskF=np.fft.fft2(self.mask[iz,:,:])\n",
    "    for iframe in range(self.nframe):\n",
    "        fun=np.abs(self.ks2D.transform(self.dict2D.fouaframes[iframe,:,:],outFou=False))**2.\n",
    "        asquareframe[iz,iframe,:,:]=np.fft.ifft2(np.fft.fft2(fun).real*maskF).real\n",
    "\n",
    "spectrum=np.sum(self.lensKernel[:,:,None,None,None]*asquareframe[:,None,:,:,:],axis=0)\n",
    "self.mu=1./(spectrum+4.*self.lbd2)\n",
    "```\n"
   ]
  },
  {
   "cell_type": "markdown",
   "metadata": {},
   "source": [
    "## FISTA Gradient Descent\n",
    "\n",
    "The starting point is set to $x_i^{(0)}=0$. We approach to the minimum of the loss function ($L(\\vec{x})$) by iteratively updates $\\vec{x}$. For each iteration, we update along the gradient of $F(\\vec{x})$ and each coordinate ($x_j$) of $\\vec{x}$ is updated as follows: \n",
    "\n",
    "$$x_{j}^{(n+1)}=S_{\\lambda_1 \\sigma_{j}}(x_{j}^{(n)}- \\mu \\partial_{j} F(\\vec{x}) ),$$\n",
    "\n",
    "$\\mu$ is the step size of the iteration. $S_{\\lambda}$ is the soft thresholding function \n",
    "\n",
    "$$t^{(0)}=0$$\n",
    "\n",
    "$$t^{(n+1)}= \\frac{1+\\sqrt{1+4(t^{(n)})^2}}{2}$$\n",
    "\n",
    "$$\\vec{x}^{(n+1)}=\\vec{x}^{(n+1)}+\\frac{t^{(n)} -1}{t^{(n+1)}} (\\vec{x}^{(n+1)}-\\vec{x}^{(n)})$$\n",
    "\n",
    "\n",
    "```python\n",
    "dalphaR =   -self.mu*self.gradient().real\n",
    "dum     =   self.alphaR.real+dalphaR\n",
    "if threM=='FT':\n",
    "    dum  = firm_thresholding(dum,self.thresholds)\n",
    "elif threM=='ST':\n",
    "    dum  = soft_thresholding(dum,self.thresholds)\n",
    "#update x_\\alpha according to FISTA\n",
    "tnTmp= (1.+np.sqrt(1.+4*tn**2.))/2.\n",
    "ratio= (tn-1.)/tnTmp\n",
    "tn   = tnTmp\n",
    "self.alphaR=dum+(ratio*(dum-self.alphaR))\n",
    "```\n",
    "\n",
    "Note that the step size $\\mu$ should be less or equal to the reciprocal of the largest eigenvalue of the matrix $A_{ij}A_{jk}$.\n",
    "We estimate $\\mu$ by simulating large number of random vectors and apply operator $A_{ij}A_{jk}$ to these random vecotrs\n",
    "\n",
    "```python\n",
    "norm=0.\n",
    "for irun in range(100):\n",
    "    np.random.seed(irun)\n",
    "    alphaTmp=   np.random.randn(self.nlp,self.nframe,self.ny,self.nx)\n",
    "    normTmp =   np.sqrt(np.sum(alphaTmp**2.))\n",
    "    alphaTmp=   alphaTmp/normTmp\n",
    "    shearTmp=   self.main_forward(alphaTmp)\n",
    "    alphaTmp2=  self.main_transpose(shearTmp)\n",
    "    normTmp2=   np.sqrt(np.sum(alphaTmp2**2.))\n",
    "    if normTmp2>norm:\n",
    "        norm=normTmp2\n",
    "self.mu    = 1./norm/1.1\n",
    "```"
   ]
  },
  {
   "cell_type": "code",
   "execution_count": 3,
   "metadata": {
    "slideshow": {
     "slide_type": "skip"
    }
   },
   "outputs": [
    {
     "name": "stdout",
     "output_type": "stream",
     "text": [
      "/lustre2/work/xiangchong.li/massMapSim/stampSim/HSC-like\n"
     ]
    }
   ],
   "source": [
    "cd ./wrkDir/stampSim/HSC-like/"
   ]
  },
  {
   "cell_type": "code",
   "execution_count": 5,
   "metadata": {
    "slideshow": {
     "slide_type": "skip"
    }
   },
   "outputs": [
    {
     "data": {
      "text/plain": [
       "['process-equalNum10/config.ini']"
      ]
     },
     "execution_count": 5,
     "metadata": {},
     "output_type": "execute_result"
    }
   ],
   "source": [
    "configName  =   'process-equalNum10/config.ini'\n",
    "parser      =   ConfigParser()\n",
    "parser.read(configName)"
   ]
  },
  {
   "cell_type": "markdown",
   "metadata": {},
   "source": [
    "# A simple Simulation\n",
    "\n",
    "$M_{200}=4.41 \\times 10^{14} M_{\\odot}$\n",
    "\n",
    "$z=0.38$\n",
    "\n",
    "$\\sigma_\\gamma=0.25$\n",
    "\n",
    "$40$ galaxies per arcmin\n",
    "\n",
    "# Pixel frame only"
   ]
  },
  {
   "cell_type": "code",
   "execution_count": null,
   "metadata": {},
   "outputs": [],
   "source": [
    "parser.set('sparse','nframe','1')\n",
    "parser.set('sparse','aprox_method','pathwise')\n",
    "figure=plt.figure(figsize=(20,15))\n",
    "for jplot in range(3):\n",
    "    lbd1=(jplot+1)*0.3\n",
    "    parser.set('sparse','lbd','%s' %lbd1)\n",
    "    for iplot in range(4):\n",
    "        ax=figure.add_subplot(3,4,jplot*4+iplot+1)\n",
    "        lbd2=iplot*0.8\n",
    "        parser.set('sparse','lbd2','%s' %lbd2)\n",
    "        sparse3D    =   massmapSparsityTask(sources,parser)\n",
    "        sparse3D.process()\n",
    "        title=r'$\\lambda_1=%.1f$,$\\lambda_2=%.1f$' %(lbd1,lbd2)\n",
    "        ax.imshow(sparse3D.deltaR[0,:,:])\n",
    "        ax.set_title(title)"
   ]
  },
  {
   "cell_type": "code",
   "execution_count": 27,
   "metadata": {},
   "outputs": [
    {
     "data": {
      "text/plain": [
       "[<matplotlib.lines.Line2D at 0x7f325e18e240>]"
      ]
     },
     "execution_count": 27,
     "metadata": {},
     "output_type": "execute_result"
    },
    {
     "data": {
      "image/png": "[encoded data removed]",
      "text/plain": [
       "<Figure size 432x288 with 1 Axes>"
      ]
     },
     "metadata": {
      "needs_background": "light"
     },
     "output_type": "display_data"
    }
   ],
   "source": [
    "plt.plot(sparse3D.lbd_path[1:1000])"
   ]
  },
  {
   "cell_type": "markdown",
   "metadata": {},
   "source": [
    "# Pixel frame + one halo frame "
   ]
  },
  {
   "cell_type": "code",
   "execution_count": 28,
   "metadata": {},
   "outputs": [
    {
     "data": {
      "image/png": "[encoded data removed]",
      "text/plain": [
       "<Figure size 1440x1080 with 12 Axes>"
      ]
     },
     "metadata": {
      "needs_background": "light"
     },
     "output_type": "display_data"
    }
   ],
   "source": [
    "parser.set('sparse','nframe','2')\n",
    "figure=plt.figure(figsize=(20,15))\n",
    "for jplot in range(3):\n",
    "    lbd1=(jplot+1)*0.3\n",
    "    parser.set('sparse','lbd','%s' %lbd1)\n",
    "    for iplot in range(4):\n",
    "        ax=figure.add_subplot(3,4,jplot*4+iplot+1)\n",
    "        lbd2=iplot*0.8\n",
    "        parser.set('sparse','lbd2','%s' %lbd2)\n",
    "        sparse3D    =   massmapSparsityTask(sources,parser)\n",
    "        sparse3D.process()\n",
    "        title=r'$\\lambda_1=%.1f$,$\\lambda_2=%.1f$' %(lbd1,lbd2)\n",
    "        ax.imshow(sparse3D.deltaR[0,:,:])\n",
    "        ax.set_title(title)"
   ]
  },
  {
   "cell_type": "markdown",
   "metadata": {},
   "source": [
    "# 3D reconstruction"
   ]
  },
  {
   "cell_type": "markdown",
   "metadata": {},
   "source": [
    "We should use the path-wise coordinate descent algorithm otherwise the reconstructed structures are significantly blurred in the line-of-sight direction.\n",
    "\n",
    "The reason is that the lensing kernel for different lens planes are highly correlated so the basis vectors are highly nonorthogonal.\n",
    "\n",
    "### Lensing Kernels"
   ]
  },
  {
   "cell_type": "code",
   "execution_count": 34,
   "metadata": {},
   "outputs": [
    {
     "data": {
      "text/plain": [
       "Text(0.5, 0, '$z_s$')"
      ]
     },
     "execution_count": 34,
     "metadata": {},
     "output_type": "execute_result"
    },
    {
     "data": {
      "image/png": "[encoded data removed]",
      "text/plain": [
       "<Figure size 432x288 with 1 Axes>"
      ]
     },
     "metadata": {
      "needs_background": "light"
     },
     "output_type": "display_data"
    }
   ],
   "source": [
    "\n",
    "\"\"\"\n",
    "# Check the Spectrum estimation on the line-of-sight direction\n",
    "print(sparse3D.lensKernel.shape)\n",
    "print(0.1/np.sum(sparse3D.lensKernel**2.,axis=0))\n",
    "print(sparse3D.mu[:,1,24,24])\n",
    "\"\"\""
   ]
  },
  {
   "cell_type": "code",
   "execution_count": 48,
   "metadata": {},
   "outputs": [],
   "source": [
    "configName  =   'process-equalNum10/config.ini'\n",
    "parser      =   ConfigParser()\n",
    "parser.read(configName)\n",
    "parser.set('file','fieldn','3D')\n",
    "parser.set('sparse','nframe','3')\n",
    "parser.set('sparse','lbd','5.')\n",
    "parser.set('sparse','lbd2','0')\n",
    "parser.set('sparse','aprox_method','pathwise')\n",
    "sparse3D_1    =   massmapSparsityTask(parser)\n",
    "sparse3D_1.process()"
   ]
  },
  {
   "cell_type": "code",
   "execution_count": 62,
   "metadata": {},
   "outputs": [
    {
     "data": {
      "text/plain": [
       "Text(0.5, 0, '$z_s$')"
      ]
     },
     "execution_count": 62,
     "metadata": {},
     "output_type": "execute_result"
    },
    {
     "data": {
      "image/png": "[encoded data removed]",
      "text/plain": [
       "<Figure size 432x288 with 1 Axes>"
      ]
     },
     "metadata": {
      "needs_background": "light"
     },
     "output_type": "display_data"
    }
   ],
   "source": [
    "for il in range(sparse3D_1.nlp)[0::3]:\n",
    "    ker=sparse3D_1.lensKernel[:,il]\n",
    "    plt.plot(sparse3D_1.zsBin,ker,label=r'$z_l=%.2f$' %sparse3D_1.zlBin[il])\n",
    "plt.legend(loc='upper left')\n",
    "plt.xlabel(r'$z_s$')"
   ]
  },
  {
   "cell_type": "markdown",
   "metadata": {},
   "source": [
    "### Pathwise Coordniate Descent Reconstruction\n",
    "### FISTA Gradient Descent Reconstruction"
   ]
  },
  {
   "cell_type": "code",
   "execution_count": 53,
   "metadata": {},
   "outputs": [
    {
     "data": {
      "application/vnd.jupyter.widget-view+json": {
       "model_id": "528f8e60e3f949ba91f06f4090d26075",
       "version_major": 2,
       "version_minor": 0
      },
      "text/plain": [
       "VBox(children=(VBox(children=(HBox(children=(Label(value='levels:'), FloatSlider(value=0.4, max=1.0, step=0.00…"
      ]
     },
     "metadata": {},
     "output_type": "display_data"
    }
   ],
   "source": [
    "fig1=ipv.figure(figtext='Pathwise')\n",
    "vol1=ipv.quickvolshow(sparse3D_1.deltaR,fig1,level=[0.4,0.6,0.8],opacity=[0.1,0.4,0.7],extent=[[-24,24],[-24,24],[0.01,1.01]])\n",
    "ipv.xlabel('ra (arcmin)')\n",
    "ipv.ylabel('dec (arcmin)')\n",
    "ipv.show()\n",
    "\n",
    "#fig2=ipv.figure(figtext='FISTA')\n",
    "#vol2=ipv.quickvolshow(sparse3D_2.deltaR,fig2,level=[0.4,0.6,0.8],opacity=[0.1,0.4,0.7],extent=[[-24,24],[-24,24],[0.01,1.01]]) \n",
    "#ipv.xlabel('ra (arcmin)')\n",
    "#ipv.ylabel('dec (arcmin)')\n",
    "#ipv.show()"
   ]
  },
  {
   "cell_type": "markdown",
   "metadata": {},
   "source": [
    "### lambda as function of iteration"
   ]
  },
  {
   "cell_type": "code",
   "execution_count": 54,
   "metadata": {},
   "outputs": [
    {
     "data": {
      "text/plain": [
       "Text(0, 0.5, '$\\\\lambda$')"
      ]
     },
     "execution_count": 54,
     "metadata": {},
     "output_type": "execute_result"
    },
    {
     "data": {
      "image/png": "[encoded data removed]",
      "text/plain": [
       "<Figure size 432x288 with 1 Axes>"
      ]
     },
     "metadata": {
      "needs_background": "light"
     },
     "output_type": "display_data"
    }
   ],
   "source": [
    "plt.plot(sparse3D_1.lbd_path[1:],label='pathwise')\n",
    "#plt.plot(np.ones(50)*5.,label='fista')\n",
    "plt.legend(fontsize=12)\n",
    "plt.xlabel('n iteration',fontsize=12)\n",
    "plt.ylabel(r'$\\lambda$',fontsize=12)"
   ]
  },
  {
   "cell_type": "code",
   "execution_count": 26,
   "metadata": {},
   "outputs": [
    {
     "data": {
      "text/plain": [
       "(20, 64, 64)"
      ]
     },
     "execution_count": 26,
     "metadata": {},
     "output_type": "execute_result"
    }
   ],
   "source": [
    "sparse3D_1.deltaR.shape"
   ]
  },
  {
   "cell_type": "code",
   "execution_count": 58,
   "metadata": {},
   "outputs": [
    {
     "data": {
      "text/plain": [
       "<matplotlib.image.AxesImage at 0x7fc11dd78dd8>"
      ]
     },
     "execution_count": 58,
     "metadata": {},
     "output_type": "execute_result"
    },
    {
     "data": {
      "image/png": "[encoded data removed]",
      "text/plain": [
       "<Figure size 432x288 with 1 Axes>"
      ]
     },
     "metadata": {
      "needs_background": "light"
     },
     "output_type": "display_data"
    }
   ],
   "source": [
    "plt.imshow(sparse3D_1.deltaR[15])"
   ]
  },
  {
   "cell_type": "code",
   "execution_count": 61,
   "metadata": {},
   "outputs": [
    {
     "data": {
      "text/plain": [
       "1.8124536845786021"
      ]
     },
     "execution_count": 61,
     "metadata": {},
     "output_type": "execute_result"
    }
   ],
   "source": [
    "sparse3D_1.deltaR[15].max()"
   ]
  },
  {
   "cell_type": "code",
   "execution_count": null,
   "metadata": {},
   "outputs": [],
   "source": []
  }
 ],
 "metadata": {
  "kernelspec": {
   "display_name": "Python 3",
   "language": "python",
   "name": "python3"
  },
  "language_info": {
   "codemirror_mode": {
    "name": "ipython",
    "version": 3
   },
   "file_extension": ".py",
   "mimetype": "text/x-python",
   "name": "python",
   "nbconvert_exporter": "python",
   "pygments_lexer": "ipython3",
   "version": "3.7.9"
  },
  "widgets": {
   "application/vnd.jupyter.widget-state+json": {
    "state": {},
    "version_major": 2,
    "version_minor": 0
   }
  }
 },
 "nbformat": 4,
 "nbformat_minor": 4
}
