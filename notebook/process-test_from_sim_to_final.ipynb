{
 "cells": [
  {
   "cell_type": "code",
   "execution_count": 1,
   "metadata": {},
   "outputs": [
    {
     "name": "stdout",
     "output_type": "stream",
     "text": [
      "Populating the interactive namespace from numpy and matplotlib\n"
     ]
    }
   ],
   "source": [
    "%pylab inline\n",
    "import os\n",
    "import haloSim\n",
    "import ipyvolume as ipv\n",
    "import ipyvolume.pylab as pvlt\n",
    "import astropy.io.fits as pyfits\n",
    "from configparser import ConfigParser\n",
    "from pixel3D import cartesianGrid3D\n",
    "from sparseBase import massmapSparsityTask\n",
    "#important constant\n",
    "C_LIGHT=2.99792458e8        # m/s\n",
    "GNEWTON=6.67428e-11         # m^3/kg/s^2\n",
    "KG_PER_SUN=1.98892e30       # kg/M_solar\n",
    "M_PER_PARSEC=3.08568025e16  # m/pc"
   ]
  },
  {
   "cell_type": "code",
   "execution_count": 2,
   "metadata": {},
   "outputs": [
    {
     "name": "stdout",
     "output_type": "stream",
     "text": [
      "/lustre2/work/xiangchong.li/massMapSim/stampSim/HSC-like\n"
     ]
    }
   ],
   "source": [
    "cd wrkDir/stampSim/HSC-like"
   ]
  },
  {
   "cell_type": "markdown",
   "metadata": {},
   "source": [
    "# Simulation"
   ]
  },
  {
   "cell_type": "code",
   "execution_count": 11,
   "metadata": {},
   "outputs": [
    {
     "name": "stdout",
     "output_type": "stream",
     "text": [
      "redshift is 0.64\n",
      "logM is 14.75\n"
     ]
    }
   ],
   "source": [
    "iz  =   5\n",
    "im  =   5\n",
    "\n",
    "log_m_array=np.linspace(13.5,15.5,9)\n",
    "z_array=np.linspace(0.01,1.01,9)\n",
    "names=('iz','im','zh','log10_M200','conc','rs_arcmin')\n",
    "data=[]\n",
    "z_h=z_array[iz]\n",
    "log_m=log_m_array[im]\n",
    "M_200=   10.**(log_m)\n",
    "conc =   6.02*(M_200/1.E13)**(-0.12)*(1.47/(1.+z_h))**(0.16)\n",
    "halo =   haloSim.nfw_lensTJ03(mass=M_200,conc=conc,redshift=z_h,ra=0.,dec=0.)\n",
    "print('redshift is %.2f' %z_h)\n",
    "print('logM is %.2f' %log_m)"
   ]
  },
  {
   "cell_type": "markdown",
   "metadata": {},
   "source": [
    "# pixelation"
   ]
  },
  {
   "cell_type": "code",
   "execution_count": 12,
   "metadata": {},
   "outputs": [
    {
     "name": "stdout",
     "output_type": "stream",
     "text": [
      "1.5\n",
      "process-equalNum-test2/pixShearR-g2-5-5-zt.fits\n",
      "rs of the input halo is 1.014 pixels.\n",
      "r truncate of the input halo is 3.700 pixels.\n",
      "the average density contrast should be 4.908.\n",
      "562341325190349.06\n"
     ]
    }
   ],
   "source": [
    "hdir='process-equalNum-test2'\n",
    "configName  =   os.path.join(hdir,'config.ini')\n",
    "parser      =   ConfigParser()\n",
    "parser.read(configName)\n",
    "\n",
    "outfname1   =  os.path.join(hdir,'pixShearR-g1-%d-%d-zt.fits' %(iz,im))\n",
    "outfname2   =  os.path.join(hdir,'pixShearR-g2-%d-%d-zt.fits' %(iz,im))\n",
    "parser.set('prepare','g1fname',outfname1)\n",
    "parser.set('prepare','g2fname',outfname2)\n",
    "\n",
    "parser.set('transPlane','smooth_scale','1.5')\n",
    "print(parser.get('transPlane','smooth_scale'))\n",
    "print(parser.get('prepare','g2fname'))\n",
    "\n",
    "gridInfo    =   cartesianGrid3D(parser)\n",
    "\n",
    "if not os.path.isfile(outfname1):\n",
    "    ngroup  =   100\n",
    "    raname  =   'raR'\n",
    "    decname =   'decR'\n",
    "    if False:\n",
    "        zname   =   'zbest'\n",
    "    else:\n",
    "        zname   =   'ztrue'\n",
    "    g1name  =   'g1R'\n",
    "    g2name  =   'g2R'\n",
    "\n",
    "    infname =   'sims/stampSim-HSC_like-TJ03-%d,%d-202004021856.fits' %(iz,im)\n",
    "    datTab  =   pyfits.getdata(infname)\n",
    "    ng=len(datTab)//ngroup\n",
    "    ig=0\n",
    "    datU=datTab[ig*ng:(ig+1)*ng]\n",
    "    \n",
    "    val=(datU[g1name]+datU['g1n'])+(datU[g2name]+datU['g2n'])*1j\n",
    "    #val=(datU[g1name])+(datU[g2name])*1j\n",
    "    outcome=gridInfo.pixelize_data(datU[raname],datU[decname],datU[zname],val)\n",
    "    pyfits.writeto(outfname1,outcome.real,overwrite=True)\n",
    "    pyfits.writeto(outfname2,outcome.imag,overwrite=True)\n",
    "    \n",
    "dtheta=parser.getfloat('transPlane','scale')*60. #arcsec\n",
    "print('rs of the input halo is %.3f pixels.' %(halo.rs_arcsec/dtheta))\n",
    "print('r truncate of the input halo is %.3f pixels.' %(halo.rs_arcsec/dtheta*halo.c))\n",
    "print('the average density contrast should be %.3f.' %(halo.M/(halo.rs/halo.c)**2./np.pi/halo.Sigma_M_bin(0.51,0.56)))\n",
    "print(halo.M)"
   ]
  },
  {
   "cell_type": "code",
   "execution_count": 17,
   "metadata": {},
   "outputs": [
    {
     "name": "stdout",
     "output_type": "stream",
     "text": [
      "[13.5  13.75 14.   14.25 14.5  14.75 15.   15.25 15.5 ]\n",
      "[0.01  0.135 0.26  0.385 0.51  0.635 0.76  0.885 1.01 ]\n"
     ]
    }
   ],
   "source": [
    "print(log_m_array)\n",
    "print(z_array)"
   ]
  },
  {
   "cell_type": "code",
   "execution_count": 10,
   "metadata": {},
   "outputs": [
    {
     "data": {
      "text/plain": [
       "127"
      ]
     },
     "execution_count": 10,
     "metadata": {},
     "output_type": "execute_result"
    }
   ],
   "source": [
    "len(sparse3D.ind1list)"
   ]
  },
  {
   "cell_type": "code",
   "execution_count": 13,
   "metadata": {},
   "outputs": [],
   "source": [
    "tau=3.9012834053533106e-05*20.\n",
    "parser.set('sparse','lbd','4.' )\n",
    "parser.set('sparse','nframe','4' )\n",
    "parser.set('sparse','tau','%s' %tau)\n",
    "parser.set('sparse','debugList','[]')\n",
    "sparse3D    =   massmapSparsityTask(parser)"
   ]
  },
  {
   "cell_type": "code",
   "execution_count": 14,
   "metadata": {},
   "outputs": [
    {
     "name": "stdout",
     "output_type": "stream",
     "text": [
      "1.948911519268917e-05\n",
      "3.90128340535331e-05\n"
     ]
    },
    {
     "data": {
      "image/png": "[encoded data removed]",
      "text/plain": [
       "<Figure size 432x288 with 1 Axes>"
      ]
     },
     "metadata": {
      "needs_background": "light"
     },
     "output_type": "display_data"
    }
   ],
   "source": [
    "sparse3D.fast_spectrum_norm()\n",
    "#Spectrum\n",
    "hist=plt.hist(1./sparse3D.mu0.flatten(),bins=20)\n",
    "print(np.median(1./sparse3D.mu0.flatten()))\n",
    "print(np.average(1./sparse3D.mu0.flatten()))"
   ]
  },
  {
   "cell_type": "code",
   "execution_count": 15,
   "metadata": {},
   "outputs": [
    {
     "name": "stdout",
     "output_type": "stream",
     "text": [
      "shape of lensing kernel:  (10, 20)\n",
      "0.0022940221689978935 0.0023494941050501024 0.97638983816432\n",
      "0.005103261665544123 0.0052209483992906505 0.9774587441311396\n",
      "0.007387899059891602 0.007550722166610481 0.9784360882143317\n",
      "0.00921216672508998 0.00940657152851238 0.9793330861480044\n",
      "0.010655136284139433 0.01087082238476006 0.9801591735209473\n",
      "0.011702945886269715 0.01193055278261125 0.980922351169405\n",
      "0.012393430767870419 0.012625365640400501 0.9816294530284412\n",
      "0.012789310450761971 0.013019941055797122 0.982286355671905\n",
      "0.012964444903547935 0.013190018709063112 0.9828981436273339\n",
      "0.012940420446276983 0.013157931034524123 0.9834692408953635\n"
     ]
    },
    {
     "data": {
      "image/png": "[encoded data removed]",
      "text/plain": [
       "<Figure size 432x288 with 1 Axes>"
      ]
     },
     "metadata": {
      "needs_background": "light"
     },
     "output_type": "display_data"
    }
   ],
   "source": [
    "lk1=gridInfo.lensing_kernel()\n",
    "lk2=sparse3D.lensKernel\n",
    "print('shape of lensing kernel: ',lk1.shape)\n",
    "for izl in range(0,10):\n",
    "    norm1=np.sqrt(np.sum(lk1[:,izl]**2.))\n",
    "    norm2=np.sqrt(np.sum(lk2[:,izl]**2.))\n",
    "    print(norm1,norm2,norm1/norm2)\n",
    "    plt.plot(lk1[:,izl]/norm1,'--',c='red')\n",
    "    plt.plot(lk2[:,izl]/norm2,'-.',c='blue')"
   ]
  },
  {
   "cell_type": "markdown",
   "metadata": {},
   "source": [
    "# sparse analysis"
   ]
  },
  {
   "cell_type": "code",
   "execution_count": 16,
   "metadata": {},
   "outputs": [
    {
     "name": "stdout",
     "output_type": "stream",
     "text": [
      "1 15.353964432638083 (14, 1, 71, 21) 15.353964432638083 4.04\n",
      "6 17.709287151909784 (14, 1, 70, 22) 14.601467401957315 4.04\n",
      "11 15.445640551811387 (14, 1, 69, 20) 13.885850213200609 4.04\n",
      "16 16.309293964024906 (12, 1, 48, 48) 13.205305387155574 4.04\n",
      "21 15.113741718829072 (19, 1, 75, 46) 12.558114029075819 4.04\n",
      "26 16.202728515426006 (19, 1, 75, 47) 11.942641487160701 4.04\n",
      "31 14.103397784591856 (19, 1, 78, 45) 11.357333223812764 4.04\n",
      "36 13.784977251293249 (12, 1, 46, 46) 10.800710889244629 4.04\n",
      "41 14.296350365995378 (0, 1, 16, 65) 10.271368587518221 4.04\n",
      "46 13.764706835262198 (0, 1, 18, 66) 9.767969325585245 4.04\n",
      "51 14.578002453927752 (0, 1, 17, 65) 9.289241636359984 4.04\n",
      "56 13.27166239629091 (0, 1, 18, 64) 8.833976367295138 4.04\n",
      "61 13.59697396507173 (0, 1, 17, 67) 8.401023626349426 4.04\n",
      "66 13.101138940044748 (0, 1, 16, 69) 7.9892898776331185 4.04\n",
      "71 13.573256727107793 (0, 1, 19, 67) 7.597735179395884 4.04\n",
      "76 12.601344074046228 (0, 1, 18, 69) 7.225370557380677 4.04\n",
      "81 15.181287443199324 (12, 2, 66, 77) 6.87125550690944 4.04\n",
      "86 14.335472739081162 (12, 2, 66, 75) 6.534495617391458 4.04\n",
      "91 12.640653840825802 (0, 1, 19, 68) 6.214240313254433 4.04\n",
      "96 12.453284004815497 (0, 1, 15, 69) 5.909680705592424 4.04\n",
      "101 12.233401366254293 (0, 1, 18, 63) 5.620047549104407 4.04\n",
      "106 13.304142475999669 (8, 2, 36, 16) 5.344609299163173 4.04\n",
      "111 11.871400458051685 (14, 1, 70, 19) 5.08267026410719 4.04\n",
      "116 13.161515153915323 (0, 1, 17, 53) 4.833568848088542 4.04\n",
      "121 12.441730022542291 (0, 1, 19, 53) 4.596675880038808 4.04\n",
      "126 13.236057499404112 (0, 1, 19, 53) 4.371393024532233 4.04\n",
      "131 12.544313872062013 (0, 1, 20, 54) 4.15715127053242 4.04\n"
     ]
    }
   ],
   "source": [
    "sparse3D.process(500)"
   ]
  },
  {
   "cell_type": "code",
   "execution_count": 43,
   "metadata": {},
   "outputs": [
    {
     "name": "stdout",
     "output_type": "stream",
     "text": [
      "5.945240570276183e-05\n",
      "5.945240570276183e-05\n",
      "5.945240570276183e-05\n"
     ]
    }
   ],
   "source": [
    "ii1=7\n",
    "ii2=3\n",
    "ind1=sparse3D.ind1list[ii1]\n",
    "ind2=sparse3D.ind1list[ii2]\n",
    "print(sparse3D.get_basis_cov(ind1,ind2))\n",
    "print(sparse3D.projCor[ii1,ii2])\n",
    "print(sparse3D.projCor[ii2,ii1])"
   ]
  },
  {
   "cell_type": "markdown",
   "metadata": {},
   "source": [
    "# Three ways to get the correaltion of basis vector"
   ]
  },
  {
   "cell_type": "code",
   "execution_count": 44,
   "metadata": {},
   "outputs": [
    {
     "name": "stdout",
     "output_type": "stream",
     "text": [
      "8.570044792612441e-05\n",
      "8.570044792612444e-05\n",
      "8.570044792612444e-05\n",
      "0.00010688020999675984\n",
      "0.00010688020999675998\n"
     ]
    }
   ],
   "source": [
    "ind1=(13,1,71,22)\n",
    "ind2=(14,2,71,21)\n",
    "# 1\n",
    "print(np.sum(np.conjugate(sparse3D.get_basis_vector(ind1))*sparse3D.get_basis_vector(ind2)).real)\n",
    "\n",
    "# 2\n",
    "a0=sparse3D.get_basis_vector(ind1)\n",
    "print(sparse3D.chi2_transpose(a0)[ind2])\n",
    "\n",
    "# 3\n",
    "print(sparse3D.get_basis_cov(ind1,ind2))\n",
    "\n",
    "# spectrum\n",
    "print(sparse3D.get_basis_cov(ind1,ind1))\n",
    "print(1./sparse3D.mu0[ind1])"
   ]
  },
  {
   "cell_type": "code",
   "execution_count": 46,
   "metadata": {},
   "outputs": [
    {
     "data": {
      "application/vnd.jupyter.widget-view+json": {
       "model_id": "88abdd5831574946b6c010984e14f816",
       "version_major": 2,
       "version_minor": 0
      },
      "text/plain": [
       "VBox(children=(VBox(children=(HBox(children=(Label(value='levels:'), FloatSlider(value=0.95, max=1.0, step=0.0…"
      ]
     },
     "metadata": {},
     "output_type": "display_data"
    }
   ],
   "source": [
    "vol1=ipv.quickvolshow(sparse3D.deltaR,level=[0.95,0.85,0.01],opacity=[1.,0.3,0.01],extent=[[-48,48],[-48,48],[0.01,1.01]])\n",
    "ipv.xlabel('ra')\n",
    "ipv.ylabel('dec')\n",
    "ipv.zlabel('z')\n",
    "ipv.view(40,30,2)\n",
    "ipv.show()"
   ]
  },
  {
   "cell_type": "code",
   "execution_count": 36,
   "metadata": {},
   "outputs": [
    {
     "name": "stdout",
     "output_type": "stream",
     "text": [
      "15.134597488325557\n",
      "0.11000000000000001 0.16\n",
      "2.2428531080641094e+17\n",
      "8.228770118510088\n",
      "848.0242327422441\n"
     ]
    },
    {
     "data": {
      "image/png": "[encoded data removed]",
      "text/plain": [
       "<Figure size 432x288 with 1 Axes>"
      ]
     },
     "metadata": {
      "needs_background": "light"
     },
     "output_type": "display_data"
    }
   ],
   "source": [
    "ishow=2\n",
    "plt.imshow(sparse3D.deltaR[ishow])\n",
    "print(np.abs(sparse3D.deltaR[ishow]).max())\n",
    "zav=sparse3D.zlBin[ishow]\n",
    "zmin=zav-sparse3D.zlscale/2.\n",
    "zmax=zav+sparse3D.zlscale/2.\n",
    "print(zmin,zmax)\n",
    "pix_mpc=halo.cosmo.Da(0.,0.51)*1./60./180.*np.pi\n",
    "print(halo.Sigma_M_bin(0.50,0.55)*np.sum(sparse3D.deltaR[ishow][24:72,24:72])*pix_mpc**2.)\n",
    "print(np.average(sparse3D.deltaR[ishow][44:52,44:52]))\n",
    "print(np.sum(sparse3D.deltaR[ishow]))"
   ]
  },
  {
   "cell_type": "code",
   "execution_count": 48,
   "metadata": {},
   "outputs": [
    {
     "data": {
      "text/plain": [
       "[<matplotlib.lines.Line2D at 0x7f3596903128>]"
      ]
     },
     "execution_count": 48,
     "metadata": {},
     "output_type": "execute_result"
    },
    {
     "data": {
      "image/png": "[encoded data removed]",
      "text/plain": [
       "<Figure size 432x288 with 1 Axes>"
      ]
     },
     "metadata": {
      "needs_background": "light"
     },
     "output_type": "display_data"
    }
   ],
   "source": [
    "plt.plot(sparse3D.lbd_path[1:200])\n",
    "plt.plot(4.*np.ones(len(sparse3D.lbd_path))[1:200],'black',ls='--')"
   ]
  },
  {
   "cell_type": "code",
   "execution_count": null,
   "metadata": {},
   "outputs": [],
   "source": []
  }
 ],
 "metadata": {
  "kernelspec": {
   "display_name": "Python 3",
   "language": "python",
   "name": "python3"
  },
  "language_info": {
   "codemirror_mode": {
    "name": "ipython",
    "version": 3
   },
   "file_extension": ".py",
   "mimetype": "text/x-python",
   "name": "python",
   "nbconvert_exporter": "python",
   "pygments_lexer": "ipython3",
   "version": "3.7.3"
  },
  "widgets": {
   "application/vnd.jupyter.widget-state+json": {
    "state": {},
    "version_major": 2,
    "version_minor": 0
   }
  }
 },
 "nbformat": 4,
 "nbformat_minor": 4
}
