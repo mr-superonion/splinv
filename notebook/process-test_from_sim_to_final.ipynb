{
 "cells": [
  {
   "cell_type": "code",
   "execution_count": 1,
   "metadata": {},
   "outputs": [
    {
     "name": "stdout",
     "output_type": "stream",
     "text": [
      "Populating the interactive namespace from numpy and matplotlib\n"
     ]
    }
   ],
   "source": [
    "%pylab inline\n",
    "import os\n",
    "import haloSim\n",
    "import ipyvolume as ipv\n",
    "import ipyvolume.pylab as pvlt\n",
    "import astropy.io.fits as pyfits\n",
    "from configparser import ConfigParser\n",
    "from pixel3D import cartesianGrid3D\n",
    "from sparseBase import massmapSparsityTask\n",
    "#important constant\n",
    "C_LIGHT=2.99792458e8        # m/s\n",
    "GNEWTON=6.67428e-11         # m^3/kg/s^2\n",
    "KG_PER_SUN=1.98892e30       # kg/M_solar\n",
    "M_PER_PARSEC=3.08568025e16  # m/pc"
   ]
  },
  {
   "cell_type": "code",
   "execution_count": 2,
   "metadata": {},
   "outputs": [
    {
     "name": "stdout",
     "output_type": "stream",
     "text": [
      "/lustre2/work/xiangchong.li/massMapSim/stampSim/HSC-like\n"
     ]
    }
   ],
   "source": [
    "cd wrkDir/stampSim/HSC-like"
   ]
  },
  {
   "cell_type": "markdown",
   "metadata": {},
   "source": [
    "# Simulation"
   ]
  },
  {
   "cell_type": "code",
   "execution_count": 36,
   "metadata": {},
   "outputs": [
    {
     "name": "stdout",
     "output_type": "stream",
     "text": [
      "redshift is 0.39\n",
      "logM is 14.75\n"
     ]
    }
   ],
   "source": [
    "iz  =   3\n",
    "im  =   5\n",
    "\n",
    "log_m_array=np.linspace(13.5,15.5,9)\n",
    "z_array=np.linspace(0.01,1.01,9)\n",
    "names=('iz','im','zh','log10_M200','conc','rs_arcmin')\n",
    "data=[]\n",
    "z_h=z_array[iz]\n",
    "log_m=log_m_array[im]\n",
    "M_200=   10.**(log_m)\n",
    "conc =   6.02*(M_200/1.E13)**(-0.12)*(1.47/(1.+z_h))**(0.16)\n",
    "halo =   haloSim.nfw_lensTJ03(mass=M_200,conc=conc,redshift=z_h,ra=0.,dec=0.)\n",
    "print('redshift is %.2f' %z_h)\n",
    "print('logM is %.2f' %log_m)"
   ]
  },
  {
   "cell_type": "markdown",
   "metadata": {},
   "source": [
    "# pixelation"
   ]
  },
  {
   "cell_type": "code",
   "execution_count": 37,
   "metadata": {},
   "outputs": [
    {
     "name": "stdout",
     "output_type": "stream",
     "text": [
      "1.5\n",
      "process-equalNum-test2/pixShearR-g2-3-5-zt.fits\n",
      "rs of the input halo is 1.424 pixels.\n",
      "r truncate of the input halo is 5.336 pixels.\n",
      "the average density contrast should be 4.879.\n",
      "562341325190349.06\n"
     ]
    }
   ],
   "source": [
    "hdir='process-equalNum-test2'\n",
    "configName  =   os.path.join(hdir,'config.ini')\n",
    "parser      =   ConfigParser()\n",
    "parser.read(configName)\n",
    "\n",
    "outfname1   =  os.path.join(hdir,'pixShearR-g1-%d-%d-zt.fits' %(iz,im))\n",
    "outfname2   =  os.path.join(hdir,'pixShearR-g2-%d-%d-zt.fits' %(iz,im))\n",
    "parser.set('prepare','g1fname',outfname1)\n",
    "parser.set('prepare','g2fname',outfname2)\n",
    "\n",
    "parser.set('transPlane','smooth_scale','1.5')\n",
    "print(parser.get('transPlane','smooth_scale'))\n",
    "print(parser.get('prepare','g2fname'))\n",
    "\n",
    "gridInfo    =   cartesianGrid3D(parser)\n",
    "\n",
    "if not os.path.isfile(outfname1):\n",
    "    ngroup  =   100\n",
    "    raname  =   'raR'\n",
    "    decname =   'decR'\n",
    "    if False:\n",
    "        zname   =   'zbest'\n",
    "    else:\n",
    "        zname   =   'ztrue'\n",
    "    g1name  =   'g1R'\n",
    "    g2name  =   'g2R'\n",
    "\n",
    "    infname =   'sims/stampSim-HSC_like-TJ03-%d,%d-202004021856.fits' %(iz,im)\n",
    "    datTab  =   pyfits.getdata(infname)\n",
    "    ng=len(datTab)//ngroup\n",
    "    ig=0\n",
    "    datU=datTab[ig*ng:(ig+1)*ng]\n",
    "    \n",
    "    val=(datU[g1name]+datU['g1n'])+(datU[g2name]+datU['g2n'])*1j\n",
    "    #val=(datU[g1name])+(datU[g2name])*1j\n",
    "    outcome=gridInfo.pixelize_data(datU[raname],datU[decname],datU[zname],val)\n",
    "    pyfits.writeto(outfname1,outcome.real,overwrite=True)\n",
    "    pyfits.writeto(outfname2,outcome.imag,overwrite=True)\n",
    "    \n",
    "dtheta=parser.getfloat('transPlane','scale')*60. #arcsec\n",
    "print('rs of the input halo is %.3f pixels.' %(halo.rs_arcsec/dtheta))\n",
    "print('r truncate of the input halo is %.3f pixels.' %(halo.rs_arcsec/dtheta*halo.c))\n",
    "print('the average density contrast should be %.3f.' %(halo.M/(halo.rs/halo.c)**2./np.pi/halo.Sigma_M_bin(0.51,0.56)))\n",
    "print(halo.M)"
   ]
  },
  {
   "cell_type": "code",
   "execution_count": 38,
   "metadata": {},
   "outputs": [
    {
     "name": "stdout",
     "output_type": "stream",
     "text": [
      "[13.5  13.75 14.   14.25 14.5  14.75 15.   15.25 15.5 ]\n",
      "[0.01  0.135 0.26  0.385 0.51  0.635 0.76  0.885 1.01 ]\n"
     ]
    }
   ],
   "source": [
    "print(log_m_array)\n",
    "print(z_array)"
   ]
  },
  {
   "cell_type": "code",
   "execution_count": 39,
   "metadata": {},
   "outputs": [],
   "source": [
    "tau=3.9012834053533106e-05*20.\n",
    "parser.set('sparse','lbd','4.' )\n",
    "parser.set('sparse','nframe','4' )\n",
    "parser.set('sparse','tau','%s' %tau)\n",
    "parser.set('sparse','debugList','[]')\n",
    "sparse3D    =   massmapSparsityTask(parser)"
   ]
  },
  {
   "cell_type": "code",
   "execution_count": 40,
   "metadata": {},
   "outputs": [
    {
     "name": "stdout",
     "output_type": "stream",
     "text": [
      "1.948911519268917e-05\n",
      "3.90128340535331e-05\n"
     ]
    },
    {
     "data": {
      "image/png": "[encoded data removed]",
      "text/plain": [
       "<Figure size 432x288 with 1 Axes>"
      ]
     },
     "metadata": {
      "needs_background": "light"
     },
     "output_type": "display_data"
    }
   ],
   "source": [
    "#Spectrum\n",
    "hist=plt.hist(1./sparse3D.mu0.flatten(),bins=20)\n",
    "print(np.median(1./sparse3D.mu0.flatten()))\n",
    "print(np.average(1./sparse3D.mu0.flatten()))"
   ]
  },
  {
   "cell_type": "code",
   "execution_count": 41,
   "metadata": {},
   "outputs": [
    {
     "name": "stdout",
     "output_type": "stream",
     "text": [
      "shape of lensing kernel:  (10, 20)\n",
      "0.0022940221689978935 0.0023494941050501024 0.97638983816432\n",
      "0.005103261665544123 0.0052209483992906505 0.9774587441311396\n",
      "0.007387899059891602 0.007550722166610481 0.9784360882143317\n",
      "0.00921216672508998 0.00940657152851238 0.9793330861480044\n",
      "0.010655136284139433 0.01087082238476006 0.9801591735209473\n",
      "0.011702945886269715 0.01193055278261125 0.980922351169405\n",
      "0.012393430767870419 0.012625365640400501 0.9816294530284412\n",
      "0.012789310450761971 0.013019941055797122 0.982286355671905\n",
      "0.012964444903547935 0.013190018709063112 0.9828981436273339\n",
      "0.012940420446276983 0.013157931034524123 0.9834692408953635\n"
     ]
    },
    {
     "data": {
      "image/png": "[encoded data removed]",
      "text/plain": [
       "<Figure size 432x288 with 1 Axes>"
      ]
     },
     "metadata": {
      "needs_background": "light"
     },
     "output_type": "display_data"
    }
   ],
   "source": [
    "lk1=gridInfo.lensing_kernel()\n",
    "lk2=sparse3D.lensKernel\n",
    "print('shape of lensing kernel: ',lk1.shape)\n",
    "for izl in range(0,10):\n",
    "    norm1=np.sqrt(np.sum(lk1[:,izl]**2.))\n",
    "    norm2=np.sqrt(np.sum(lk2[:,izl]**2.))\n",
    "    print(norm1,norm2,norm1/norm2)\n",
    "    plt.plot(lk1[:,izl]/norm1,'--',c='red')\n",
    "    plt.plot(lk2[:,izl]/norm2,'-.',c='blue')"
   ]
  },
  {
   "cell_type": "markdown",
   "metadata": {},
   "source": [
    "# sparse analysis"
   ]
  },
  {
   "cell_type": "code",
   "execution_count": 44,
   "metadata": {},
   "outputs": [
    {
     "name": "stdout",
     "output_type": "stream",
     "text": [
      "1 10.334267588496242 (9, 0, 48, 49) 10.334267588496242 4.04\n",
      "6 12.794257917747569 (9, 0, 49, 50) 12.794257917747569 4.04\n",
      "11 18.85104240623571 (9, 0, 46, 49) 18.85104240623571 4.04\n",
      "16 17.540392636906475 (9, 0, 49, 47) 17.540392636906475 4.04\n",
      "21 17.516363975403937 (9, 0, 47, 46) 17.516363975403937 4.04\n",
      "26 19.099593699904638 (9, 0, 45, 49) 19.099593699904638 4.04\n",
      "31 16.908032315633847 (9, 0, 47, 45) 16.908032315633847 4.04\n",
      "36 15.002471531309727 (9, 0, 50, 45) 15.002471531309727 4.04\n",
      "41 15.921739334286212 (9, 0, 45, 45) 15.921739334286212 4.04\n",
      "46 13.456949014314436 (9, 0, 48, 44) 13.456949014314436 4.04\n",
      "51 14.671176625806565 (9, 0, 47, 51) 14.671176625806565 4.04\n",
      "56 12.110652640951656 (9, 0, 43, 47) 12.110652640951656 4.04\n",
      "61 12.482929283805959 (9, 0, 43, 46) 12.482929283805959 4.04\n",
      "66 10.821905835893663 (9, 0, 51, 45) 10.821905835893663 4.04\n",
      "71 10.348221283497882 (9, 0, 42, 48) 10.348221283497882 4.04\n",
      "76 9.897069496223482 (9, 0, 52, 48) 9.897069496223482 4.04\n",
      "81 10.322545819291884 (0, 3, 53, 57) 10.322545819291884 4.04\n",
      "86 9.831808493483877 (9, 0, 42, 45) 9.831808493483877 4.04\n",
      "91 9.895342997784514 (9, 0, 79, 46) 9.895342997784514 4.04\n",
      "96 10.311381854367486 (9, 0, 77, 46) 10.311381854367486 4.04\n",
      "101 9.744516561770055 (19, 1, 76, 43) 9.744516561770055 4.04\n",
      "106 9.632766870071784 (9, 0, 42, 49) 9.632766870071784 4.04\n",
      "111 10.292398791957135 (9, 0, 77, 45) 10.292398791957135 4.04\n",
      "116 9.442046460942601 (1, 1, 16, 18) 9.442046460942601 4.04\n",
      "121 10.212332520803376 (19, 2, 19, 31) 10.212332520803376 4.04\n",
      "126 10.117773934950623 (6, 0, 16, 38) 10.117773934950623 4.04\n",
      "131 9.934147723017958 (9, 0, 44, 51) 9.934147723017958 4.04\n",
      "136 9.37298385443853 (0, 1, 13, 72) 9.37298385443853 4.04\n",
      "141 10.196825216792629 (9, 0, 46, 43) 10.196825216792629 4.04\n",
      "146 9.824002095242072 (9, 0, 49, 43) 9.824002095242072 4.04\n",
      "151 10.289910571383462 (0, 0, 13, 75) 10.289910571383462 4.04\n",
      "156 9.40910076390664 (0, 0, 13, 76) 9.40910076390664 4.04\n",
      "161 10.070060204406062 (0, 0, 13, 74) 10.070060204406062 4.04\n",
      "166 9.579740716735845 (9, 0, 41, 45) 9.579740716735845 4.04\n",
      "171 9.408490339697524 (6, 0, 18, 37) 9.408490339697524 4.04\n",
      "176 9.596994181060158 (9, 0, 79, 48) 9.596994181060158 4.04\n",
      "181 9.33888587522091 (0, 1, 17, 72) 9.33888587522091 4.04\n",
      "186 9.563226719856761 (18, 0, 19, 40) 9.563226719856761 4.04\n",
      "191 10.173023527585027 (3, 2, 79, 16) 10.173023527585027 4.04\n",
      "196 9.296011991812794 (19, 0, 20, 39) 9.296011991812794 4.04\n",
      "201 10.491363238906926 (17, 0, 78, 52) 10.491363238906926 4.04\n",
      "206 9.270308637782815 (12, 2, 66, 74) 9.270308637782815 4.04\n",
      "211 9.261476209923828 (16, 2, 65, 21) 9.261476209923828 4.04\n",
      "216 9.266184856021725 (14, 1, 52, 55) 9.266184856021725 4.04\n",
      "221 9.858941636374551 (14, 1, 52, 53) 9.858941636374551 4.04\n",
      "226 10.714323401896898 (1, 1, 12, 75) 10.714323401896898 4.04\n",
      "231 10.111814332083156 (1, 1, 12, 73) 10.111814332083156 4.04\n",
      "236 9.73804305127239 (1, 1, 11, 74) 9.73804305127239 4.04\n",
      "241 9.522607228525969 (1, 1, 11, 73) 9.522607228525969 4.04\n",
      "246 9.262879840207585 (1, 1, 13, 72) 9.262879840207585 4.04\n",
      "251 9.29046613016319 (1, 1, 14, 74) 9.29046613016319 4.04\n",
      "256 11.049032570813765 (1, 1, 24, 79) 11.049032570813765 4.04\n",
      "261 10.2481324351353 (1, 1, 23, 79) 10.2481324351353 4.04\n",
      "266 9.965831150904254 (1, 1, 26, 79) 9.965831150904254 4.04\n",
      "271 9.609681777453762 (1, 1, 22, 77) 9.609681777453762 4.04\n",
      "276 10.024723815844421 (12, 2, 65, 74) 10.024723815844421 4.04\n",
      "281 9.422908720558233 (1, 1, 21, 76) 9.422908720558233 4.04\n",
      "286 9.245894308717897 (1, 1, 14, 73) 9.245894308717897 4.04\n",
      "291 9.237926838095664 (8, 2, 79, 16) 9.237926838095664 4.04\n",
      "296 9.211846129759694 (7, 0, 17, 38) 9.211846129759694 4.04\n",
      "301 9.596270507695738 (18, 0, 77, 51) 9.596270507695738 4.04\n",
      "306 9.202183273740141 (2, 0, 16, 55) 9.202183273740141 4.04\n",
      "311 9.944500521231667 (9, 0, 49, 52) 9.944500521231667 4.04\n",
      "316 9.360898693319989 (14, 0, 16, 38) 9.360898693319989 4.04\n",
      "321 9.309972054260296 (1, 1, 27, 78) 9.309972054260296 4.04\n",
      "326 9.62791985770193 (3, 0, 17, 54) 9.62791985770193 4.04\n",
      "331 9.183756603769439 (3, 0, 16, 54) 9.183756603769439 4.04\n",
      "336 10.113278922650771 (3, 0, 18, 53) 10.113278922650771 4.04\n",
      "341 9.493018393518723 (18, 0, 77, 45) 9.493018393518723 4.04\n",
      "346 9.388486043521016 (3, 0, 17, 55) 9.388486043521016 4.04\n",
      "351 9.50044207128803 (3, 0, 16, 55) 9.50044207128803 4.04\n",
      "356 9.182323339101451 (7, 0, 18, 38) 9.182323339101451 4.04\n",
      "361 9.442699139689884 (14, 0, 17, 37) 9.442699139689884 4.04\n",
      "366 9.098142324355738 (0, 0, 20, 54) 9.098142324355738 4.04\n",
      "371 9.901614826867263 (12, 1, 69, 13) 9.901614826867263 4.04\n",
      "376 10.177510661086426 (12, 1, 67, 11) 10.177510661086426 4.04\n",
      "381 9.207664942535349 (12, 1, 68, 12) 9.207664942535349 4.04\n",
      "386 9.09737919444586 (3, 0, 19, 53) 9.09737919444586 4.04\n",
      "391 9.080148555527924 (12, 1, 70, 13) 9.080148555527924 4.04\n",
      "396 9.183067217552072 (1, 1, 15, 72) 9.183067217552072 4.04\n",
      "401 9.647356386863182 (1, 1, 14, 77) 9.647356386863182 4.04\n",
      "406 9.935789926595078 (16, 2, 66, 22) 9.935789926595078 4.04\n",
      "411 9.024520718830912 (2, 0, 16, 52) 9.024520718830912 4.04\n",
      "416 9.37028901595595 (1, 1, 20, 54) 9.37028901595595 4.04\n",
      "421 9.004485087989066 (8, 1, 79, 16) 9.004485087989066 4.04\n",
      "426 9.01612695076309 (9, 0, 40, 47) 9.01612695076309 4.04\n",
      "431 9.225432159766045 (1, 1, 20, 51) 9.225432159766045 4.04\n",
      "436 9.123825753136817 (19, 1, 75, 42) 9.123825753136817 4.04\n",
      "441 9.243175642770051 (14, 1, 51, 56) 9.243175642770051 4.04\n",
      "446 9.34570953726938 (18, 0, 77, 46) 9.34570953726938 4.04\n",
      "451 8.92819000686977 (17, 0, 79, 45) 8.92819000686977 4.04\n",
      "456 9.550033446542155 (8, 0, 78, 47) 9.550033446542155 4.04\n",
      "461 8.909165333190298 (12, 2, 66, 73) 8.909165333190298 4.04\n",
      "466 8.87966090283429 (0, 0, 18, 20) 8.87966090283429 4.04\n",
      "471 9.54753025830998 (12, 1, 69, 10) 9.54753025830998 4.04\n",
      "476 9.402477343181253 (0, 0, 19, 20) 9.402477343181253 4.04\n",
      "481 8.86858776031702 (5, 0, 18, 37) 8.86858776031702 4.04\n",
      "486 8.860119956573396 (14, 0, 76, 47) 8.860119956573396 4.04\n",
      "491 9.832712733029162 (18, 0, 78, 48) 9.832712733029162 4.04\n",
      "496 9.076136447590931 (1, 1, 16, 54) 9.076136447590931 4.04\n",
      "501 8.854350649345832 (0, 0, 17, 19) 8.854350649345832 4.04\n",
      "506 8.842523756136298 (15, 0, 17, 38) 8.842523756136298 4.04\n",
      "511 9.005919454922982 (15, 0, 19, 38) 9.005919454922982 4.04\n",
      "516 9.775346197400395 (4, 0, 16, 38) 9.775346197400395 4.04\n",
      "521 9.125590162093745 (0, 0, 17, 19) 9.125590162093745 4.04\n",
      "526 9.206358417112192 (18, 1, 78, 53) 9.206358417112192 4.04\n",
      "531 9.042381169815291 (15, 0, 17, 37) 9.042381169815291 4.04\n",
      "536 9.398882829650546 (12, 2, 65, 73) 9.398882829650546 4.04\n",
      "541 8.760885770303865 (0, 1, 11, 65) 8.760885770303865 4.04\n",
      "546 8.886561421823119 (1, 1, 19, 54) 8.886561421823119 4.04\n",
      "551 8.755788840521474 (14, 1, 78, 30) 8.755788840521474 4.04\n",
      "556 8.746707754993228 (14, 1, 50, 55) 8.746707754993228 4.04\n",
      "561 9.671692106272225 (13, 0, 18, 39) 9.671692106272225 4.04\n",
      "566 9.316555065340768 (1, 1, 10, 75) 9.316555065340768 4.04\n",
      "571 8.835731005635699 (8, 0, 78, 45) 8.835731005635699 4.04\n",
      "576 9.322253034218985 (0, 0, 19, 19) 9.322253034218985 4.04\n",
      "581 8.705428346102613 (0, 0, 17, 18) 8.705428346102613 4.04\n",
      "586 9.78601565627513 (1, 0, 18, 19) 9.78601565627513 4.04\n",
      "591 8.743565740588828 (1, 0, 16, 20) 8.743565740588828 4.04\n",
      "596 8.691792292902898 (11, 1, 79, 16) 8.691792292902898 4.04\n",
      "601 9.068471641421498 (15, 1, 54, 20) 9.068471641421498 4.04\n",
      "606 8.878021359674957 (8, 0, 17, 37) 8.878021359674957 4.04\n",
      "611 8.633872553488416 (8, 0, 16, 37) 8.633872553488416 4.04\n",
      "616 9.225452793385408 (9, 0, 16, 38) 9.225452793385408 4.04\n",
      "621 10.06611967321047 (1, 0, 17, 20) 10.06611967321047 4.04\n",
      "626 8.996931711527736 (4, 0, 18, 39) 8.996931711527736 4.04\n",
      "631 8.664655563200744 (9, 0, 18, 39) 8.664655563200744 4.04\n",
      "636 8.589019516765099 (19, 0, 16, 33) 8.589019516765099 4.04\n",
      "641 8.582706494111559 (0, 3, 50, 60) 8.582706494111559 4.04\n",
      "646 9.217370653161016 (19, 0, 17, 34) 9.217370653161016 4.04\n",
      "651 8.741110146664262 (13, 0, 17, 37) 8.741110146664262 4.04\n",
      "656 8.58017166546843 (11, 0, 78, 45) 8.58017166546843 4.04\n",
      "661 8.566708942903947 (0, 3, 50, 56) 8.566708942903947 4.04\n",
      "666 8.748176212818596 (18, 0, 73, 46) 8.748176212818596 4.04\n",
      "671 8.692576944453718 (19, 0, 76, 47) 8.692576944453718 4.04\n",
      "676 8.544963133500309 (1, 0, 17, 19) 8.544963133500309 4.04\n",
      "681 9.113215143265016 (19, 2, 20, 32) 9.113215143265016 4.04\n",
      "686 8.652990451496732 (19, 0, 79, 47) 8.652990451496732 4.04\n",
      "691 8.798782980504393 (8, 2, 39, 17) 8.798782980504393 4.04\n",
      "696 8.541284551069873 (1, 1, 16, 55) 8.541284551069873 4.04\n",
      "701 8.913058943994479 (11, 1, 84, 20) 8.913058943994479 4.04\n",
      "706 8.854539370481383 (11, 1, 83, 22) 8.854539370481383 4.04\n",
      "711 8.900747584720504 (19, 0, 76, 45) 8.900747584720504 4.04\n",
      "716 8.976579409961403 (1, 0, 16, 18) 8.976579409961403 4.04\n",
      "721 8.488879027816807 (5, 0, 17, 40) 8.488879027816807 4.04\n",
      "726 8.797755265837484 (11, 1, 83, 20) 8.797755265837484 4.04\n",
      "731 8.615769360286318 (1, 1, 13, 64) 8.615769360286318 4.04\n",
      "736 8.581495057682716 (19, 0, 76, 47) 8.581495057682716 4.04\n",
      "741 9.152700832108643 (3, 0, 17, 38) 9.152700832108643 4.04\n",
      "746 8.554453696330146 (3, 0, 17, 37) 8.554453696330146 4.04\n",
      "751 8.426673643272927 (16, 0, 17, 38) 8.426673643272927 4.04\n",
      "756 8.850085682779522 (16, 0, 19, 38) 8.850085682779522 4.04\n",
      "761 9.026630471882521 (16, 0, 16, 39) 9.026630471882521 4.04\n",
      "766 8.417586996847902 (1, 1, 16, 74) 8.417586996847902 4.04\n",
      "771 8.50900492822269 (13, 0, 19, 37) 8.50900492822269 4.04\n",
      "776 8.629999936547614 (8, 0, 76, 46) 8.629999936547614 4.04\n",
      "781 8.642196637302154 (1, 1, 23, 51) 8.642196637302154 4.04\n",
      "786 9.23783332367978 (2, 0, 17, 19) 9.23783332367978 4.04\n",
      "791 8.569165167308235 (1, 0, 18, 19) 8.569165167308235 4.04\n",
      "796 8.86635873922728 (8, 0, 76, 45) 8.86635873922728 4.04\n",
      "801 8.392493950612263 (0, 0, 12, 72) 8.392493950612263 4.04\n",
      "806 8.604427787503875 (19, 1, 19, 39) 8.604427787503875 4.04\n",
      "811 8.464982877933108 (19, 2, 19, 34) 8.464982877933108 4.04\n",
      "816 8.611540794104315 (0, 0, 17, 66) 8.611540794104315 4.04\n",
      "821 8.343137083965601 (0, 1, 20, 66) 8.343137083965601 4.04\n",
      "826 8.53691959279119 (0, 2, 17, 66) 8.53691959279119 4.04\n",
      "831 8.321244473029736 (2, 1, 18, 20) 8.321244473029736 4.04\n",
      "836 8.737183467159308 (0, 2, 18, 66) 8.737183467159308 4.04\n",
      "841 8.315268970400137 (7, 1, 77, 16) 8.315268970400137 4.04\n",
      "846 8.99784251785115 (0, 2, 17, 67) 8.99784251785115 4.04\n",
      "851 8.289021688811882 (14, 1, 72, 24) 8.289021688811882 4.04\n",
      "856 9.682484725774716 (14, 1, 71, 24) 9.682484725774716 4.04\n",
      "861 8.621497923798975 (16, 2, 62, 18) 8.621497923798975 4.04\n",
      "866 9.059390072259937 (0, 2, 15, 65) 9.059390072259937 4.04\n",
      "871 8.433149953419576 (0, 2, 14, 65) 8.433149953419576 4.04\n",
      "876 8.382744371627176 (2, 0, 18, 19) 8.382744371627176 4.04\n",
      "881 8.528813181812435 (2, 0, 17, 20) 8.528813181812435 4.04\n",
      "886 8.52848273694756 (8, 0, 76, 47) 8.52848273694756 4.04\n",
      "891 8.326453546704663 (1, 1, 16, 72) 8.326453546704663 4.04\n",
      "896 9.01216417325442 (10, 0, 79, 45) 9.01216417325442 4.04\n",
      "901 8.293545358979244 (12, 1, 78, 16) 8.293545358979244 4.04\n",
      "906 8.2209049375076 (0, 2, 14, 66) 8.2209049375076 4.04\n",
      "911 8.516839227193953 (0, 2, 16, 69) 8.516839227193953 4.04\n",
      "916 8.428606258345123 (0, 2, 16, 65) 8.428606258345123 4.04\n",
      "921 8.239852287219236 (0, 1, 20, 68) 8.239852287219236 4.04\n",
      "926 9.4047395353749 (17, 1, 59, 66) 9.4047395353749 4.04\n",
      "931 8.264090629931928 (4, 0, 17, 40) 8.264090629931928 4.04\n",
      "936 8.76436539208386 (17, 1, 59, 65) 8.76436539208386 4.04\n",
      "941 8.184231534183706 (2, 1, 18, 21) 8.184231534183706 4.04\n",
      "946 8.148372498642015 (0, 2, 15, 67) 8.148372498642015 4.04\n",
      "951 8.47245480938756 (1, 0, 20, 19) 8.47245480938756 4.04\n",
      "956 8.41134818285759 (2, 0, 17, 18) 8.41134818285759 4.04\n",
      "961 8.724761015436972 (4, 0, 65, 78) 8.724761015436972 4.04\n",
      "966 8.29871607050178 (0, 2, 15, 64) 8.29871607050178 4.04\n",
      "971 8.50294877779346 (18, 0, 74, 44) 8.50294877779346 4.04\n",
      "976 8.612846286460591 (15, 0, 78, 52) 8.612846286460591 4.04\n",
      "981 8.30366643349467 (19, 1, 18, 40) 8.30366643349467 4.04\n",
      "986 8.2636234923135 (19, 1, 73, 40) 8.2636234923135 4.04\n",
      "991 8.1988347338298 (19, 0, 16, 35) 8.1988347338298 4.04\n",
      "996 8.070361185782218 (18, 0, 16, 33) 8.070361185782218 4.04\n",
      "1001 8.555469223174587 (1, 1, 26, 80) 8.555469223174587 4.04\n",
      "1006 8.181033072519224 (1, 1, 24, 80) 8.181033072519224 4.04\n",
      "1011 9.186337824997688 (1, 0, 12, 74) 9.186337824997688 4.04\n",
      "1016 8.058530478145734 (1, 1, 20, 55) 8.058530478145734 4.04\n",
      "1021 8.476781957845091 (2, 0, 17, 38) 8.476781957845091 4.04\n",
      "1026 8.289285058980646 (19, 0, 74, 46) 8.289285058980646 4.04\n",
      "1031 8.783608780869073 (0, 2, 15, 66) 8.783608780869073 4.04\n",
      "1036 8.685396226256092 (3, 0, 65, 78) 8.685396226256092 4.04\n",
      "1041 8.412801425263005 (3, 0, 67, 79) 8.412801425263005 4.04\n",
      "1046 8.022376053653716 (16, 0, 76, 45) 8.022376053653716 4.04\n",
      "1051 8.008975843021645 (0, 2, 76, 16) 8.008975843021645 4.04\n",
      "1056 8.178136746855305 (0, 2, 16, 66) 8.178136746855305 4.04\n",
      "1061 8.37060731753283 (1, 0, 14, 75) 8.37060731753283 4.04\n",
      "1066 8.323546013078792 (1, 0, 14, 76) 8.323546013078792 4.04\n",
      "1071 8.188755400812326 (0, 2, 14, 63) 8.188755400812326 4.04\n",
      "1076 8.002675887023294 (1, 1, 20, 74) 8.002675887023294 4.04\n",
      "1081 9.000939882485671 (18, 3, 27, 47) 9.000939882485671 4.04\n",
      "1086 8.143582960890036 (18, 3, 27, 46) 8.143582960890036 4.04\n",
      "1091 8.03795174809384 (3, 0, 65, 77) 8.03795174809384 4.04\n",
      "1096 7.975747412401331 (0, 1, 10, 76) 7.975747412401331 4.04\n",
      "1101 7.967337202295118 (13, 1, 79, 16) 7.967337202295118 4.04\n",
      "1106 8.202097378534923 (19, 1, 77, 51) 8.202097378534923 4.04\n",
      "1111 8.277017435641751 (1, 0, 11, 75) 8.277017435641751 4.04\n",
      "1116 7.954983959967294 (0, 2, 13, 63) 7.954983959967294 4.04\n",
      "1121 8.079586718810367 (19, 0, 75, 48) 8.079586718810367 4.04\n",
      "1126 7.959699614970942 (13, 1, 78, 16) 7.959699614970942 4.04\n",
      "1131 8.76916640160277 (4, 0, 65, 77) 8.76916640160277 4.04\n",
      "1136 8.198922829732851 (7, 0, 78, 13) 8.198922829732851 4.04\n",
      "1141 7.913225405032122 (0, 0, 18, 64) 7.913225405032122 4.04\n",
      "1146 7.903434219301946 (8, 0, 77, 14) 7.903434219301946 4.04\n",
      "1151 8.167412188383759 (8, 0, 78, 13) 8.167412188383759 4.04\n",
      "1156 8.082535111914634 (18, 0, 77, 44) 8.082535111914634 4.04\n",
      "1161 7.887909377659934 (9, 0, 16, 37) 7.887909377659934 4.04\n",
      "1166 8.576657756120628 (7, 0, 78, 47) 8.576657756120628 4.04\n",
      "1171 7.87721646446017 (17, 1, 60, 66) 7.87721646446017 4.04\n",
      "1176 8.542271177896557 (1, 2, 77, 16) 8.542271177896557 4.04\n",
      "1181 8.298851875727497 (8, 0, 77, 14) 8.298851875727497 4.04\n",
      "1186 8.288909701840065 (7, 0, 76, 15) 8.288909701840065 4.04\n",
      "1191 7.975150146185197 (17, 1, 60, 65) 7.975150146185197 4.04\n",
      "1196 8.044010873549377 (3, 0, 67, 77) 8.044010873549377 4.04\n",
      "1201 7.949877776384772 (2, 1, 18, 18) 7.949877776384772 4.04\n",
      "1206 7.844000480887788 (3, 0, 18, 38) 7.844000480887788 4.04\n",
      "1211 10.204931353374816 (9, 0, 48, 47) 10.204931353374816 4.04\n",
      "1216 13.961528437899327 (9, 0, 46, 46) 13.961528437899327 4.04\n",
      "1221 10.581768967111998 (9, 0, 47, 48) 10.581768967111998 4.04\n",
      "1226 9.150595794808993 (9, 0, 48, 45) 9.150595794808993 4.04\n",
      "1231 10.362462153775066 (9, 0, 48, 47) 10.362462153775066 4.04\n",
      "1236 10.689190593218804 (9, 0, 45, 47) 10.689190593218804 4.04\n",
      "1241 10.44426203214493 (9, 0, 46, 46) 10.44426203214493 4.04\n",
      "1246 8.281773865156637 (9, 0, 48, 50) 8.281773865156637 4.04\n",
      "1251 8.1591279651925 (8, 0, 75, 14) 8.1591279651925 4.04\n",
      "1256 7.98855620041566 (12, 1, 71, 11) 7.98855620041566 4.04\n",
      "1261 7.922707391781855 (3, 0, 64, 78) 7.922707391781855 4.04\n",
      "1266 7.861303635192593 (3, 1, 21, 59) 7.861303635192593 4.04\n",
      "1271 7.8402198820164575 (6, 1, 79, 16) 7.8402198820164575 4.04\n",
      "1276 7.817084663641922 (0, 2, 13, 74) 7.817084663641922 4.04\n",
      "1281 8.217026930809523 (0, 2, 12, 73) 8.217026930809523 4.04\n",
      "1286 8.469837241047305 (0, 2, 14, 73) 8.469837241047305 4.04\n",
      "1291 7.929107174876616 (0, 2, 11, 74) 7.929107174876616 4.04\n",
      "1296 8.155449649035848 (5, 0, 66, 77) 8.155449649035848 4.04\n",
      "1301 7.813622758041855 (15, 1, 56, 19) 7.813622758041855 4.04\n",
      "1306 7.973775355775775 (5, 0, 67, 77) 7.973775355775775 4.04\n",
      "1311 8.119352368043465 (13, 0, 78, 31) 8.119352368043465 4.04\n",
      "1316 7.974032949481996 (14, 0, 78, 32) 7.974032949481996 4.04\n",
      "1321 8.32471675525339 (4, 1, 66, 60) 8.32471675525339 4.04\n",
      "1326 8.28025366128939 (4, 1, 67, 62) 8.28025366128939 4.04\n",
      "1331 7.846834035946975 (16, 0, 79, 48) 7.846834035946975 4.04\n",
      "1336 7.958912684362858 (7, 0, 75, 13) 7.958912684362858 4.04\n",
      "1341 7.782157391505991 (6, 0, 77, 14) 7.782157391505991 4.04\n",
      "1346 8.418458417643993 (6, 0, 77, 13) 8.418458417643993 4.04\n",
      "1351 8.20073271679242 (4, 0, 64, 79) 8.20073271679242 4.04\n",
      "1356 7.8837683405865215 (6, 0, 76, 15) 7.8837683405865215 4.04\n",
      "1361 8.323028724932154 (7, 0, 79, 16) 8.323028724932154 4.04\n",
      "1366 7.883574355755137 (2, 1, 18, 22) 7.883574355755137 4.04\n",
      "1371 7.854590890662526 (0, 3, 53, 59) 7.854590890662526 4.04\n",
      "1376 8.57121219350148 (0, 2, 17, 70) 8.57121219350148 4.04\n",
      "1381 8.095998473103702 (19, 0, 79, 48) 8.095998473103702 4.04\n",
      "1386 8.064194214440146 (0, 2, 14, 74) 8.064194214440146 4.04\n",
      "1391 7.860133356325106 (7, 0, 78, 46) 7.860133356325106 4.04\n",
      "1396 7.8895222396565465 (3, 1, 19, 61) 7.8895222396565465 4.04\n",
      "1401 7.827918594543592 (16, 2, 64, 21) 7.827918594543592 4.04\n",
      "1406 8.231045131947855 (17, 0, 19, 38) 8.231045131947855 4.04\n",
      "1411 8.061415317191283 (7, 0, 77, 47) 8.061415317191283 4.04\n",
      "1416 7.75655168562881 (18, 3, 27, 48) 7.75655168562881 4.04\n",
      "1421 7.800045411921113 (2, 1, 19, 22) 7.800045411921113 4.04\n",
      "1426 8.432655195579821 (0, 1, 19, 83) 8.432655195579821 4.04\n",
      "1431 8.181888518714466 (0, 1, 20, 85) 8.181888518714466 4.04\n",
      "1436 8.344623342403994 (0, 1, 19, 82) 8.344623342403994 4.04\n",
      "1441 7.965017321641405 (0, 1, 17, 83) 7.965017321641405 4.04\n",
      "1446 7.793877445428332 (1, 1, 25, 74) 7.793877445428332 4.04\n",
      "1451 8.290784582471668 (12, 0, 18, 39) 8.290784582471668 4.04\n",
      "1456 8.266104048393004 (19, 0, 73, 47) 8.266104048393004 4.04\n",
      "1461 7.854880974437846 (6, 0, 77, 16) 7.854880974437846 4.04\n",
      "1466 8.337993701245043 (17, 1, 78, 51) 8.337993701245043 4.04\n",
      "1471 7.717933066492737 (0, 1, 18, 84) 7.717933066492737 4.04\n",
      "1476 7.699106553763052 (0, 2, 13, 68) 7.699106553763052 4.04\n",
      "1481 7.74907284763942 (13, 0, 78, 33) 7.74907284763942 4.04\n",
      "1486 7.712134384538124 (0, 2, 13, 75) 7.712134384538124 4.04\n",
      "1491 7.6819285306616045 (19, 1, 20, 39) 7.6819285306616045 4.04\n",
      "1496 8.389001143663759 (0, 1, 21, 84) 8.389001143663759 4.04\n"
     ]
    }
   ],
   "source": [
    "sparse3D.process(1500)"
   ]
  },
  {
   "cell_type": "code",
   "execution_count": 10,
   "metadata": {},
   "outputs": [
    {
     "name": "stdout",
     "output_type": "stream",
     "text": [
      "4.480808107310951e-05\n",
      "4.480808107310951e-05\n",
      "4.480808107310951e-05\n"
     ]
    }
   ],
   "source": [
    "ii1=7\n",
    "ii2=3\n",
    "ind1=sparse3D.ind1list[ii1]\n",
    "ind2=sparse3D.ind1list[ii2]\n",
    "print(sparse3D.get_basis_cov(ind1,ind2))\n",
    "print(sparse3D.projCor[ii1,ii2])\n",
    "print(sparse3D.projCor[ii2,ii1])"
   ]
  },
  {
   "cell_type": "markdown",
   "metadata": {},
   "source": [
    "# Three ways to get the correaltion of basis vector"
   ]
  },
  {
   "cell_type": "code",
   "execution_count": 28,
   "metadata": {},
   "outputs": [
    {
     "name": "stdout",
     "output_type": "stream",
     "text": [
      "8.570044792612441e-05\n",
      "8.570044792612444e-05\n",
      "8.570044792612444e-05\n",
      "0.00010688020999675984\n",
      "0.00010688020999675998\n"
     ]
    }
   ],
   "source": [
    "ind1=(13,1,71,22)\n",
    "ind2=(14,2,71,21)\n",
    "# 1\n",
    "print(np.sum(np.conjugate(sparse3D.get_basis_vector(ind1))*sparse3D.get_basis_vector(ind2)).real)\n",
    "\n",
    "# 2\n",
    "a0=sparse3D.get_basis_vector(ind1)\n",
    "print(sparse3D.chi2_transpose(a0)[ind2])\n",
    "\n",
    "# 3\n",
    "print(sparse3D.get_basis_cov(ind1,ind2))\n",
    "\n",
    "# spectrum\n",
    "print(sparse3D.get_basis_cov(ind1,ind1))\n",
    "print(1./sparse3D.mu0[ind1])"
   ]
  },
  {
   "cell_type": "code",
   "execution_count": 45,
   "metadata": {},
   "outputs": [
    {
     "data": {
      "application/vnd.jupyter.widget-view+json": {
       "model_id": "bcc55dde5b914053aab35caa954e2474",
       "version_major": 2,
       "version_minor": 0
      },
      "text/plain": [
       "VBox(children=(VBox(children=(HBox(children=(Label(value='levels:'), FloatSlider(value=0.95, max=1.0, step=0.0…"
      ]
     },
     "metadata": {},
     "output_type": "display_data"
    }
   ],
   "source": [
    "vol1=ipv.quickvolshow(sparse3D.deltaR,level=[0.95,0.85,0.01],opacity=[1.,0.3,0.01],extent=[[-48,48],[-48,48],[0.01,1.01]])\n",
    "ipv.xlabel('ra')\n",
    "ipv.ylabel('dec')\n",
    "ipv.zlabel('z')\n",
    "ipv.view(40,30,2)\n",
    "ipv.show()"
   ]
  },
  {
   "cell_type": "code",
   "execution_count": 33,
   "metadata": {},
   "outputs": [
    {
     "data": {
      "text/plain": [
       "Text(0, 0.5, 'maximum SNR')"
      ]
     },
     "execution_count": 33,
     "metadata": {},
     "output_type": "execute_result"
    },
    {
     "data": {
      "image/png": "[encoded data removed]",
      "text/plain": [
       "<Figure size 432x288 with 1 Axes>"
      ]
     },
     "metadata": {
      "needs_background": "light"
     },
     "output_type": "display_data"
    }
   ],
   "source": [
    "plt.plot(sparse3D.lbd_path[1:300])\n",
    "plt.xlabel('iteration N',fontsize=20)\n",
    "plt.ylabel('maximum SNR',fontsize=20)"
   ]
  },
  {
   "cell_type": "code",
   "execution_count": 53,
   "metadata": {},
   "outputs": [
    {
     "data": {
      "text/plain": [
       "Text(0, 0.5, 'prob')"
      ]
     },
     "execution_count": 53,
     "metadata": {},
     "output_type": "execute_result"
    },
    {
     "data": {
      "image/png": "[encoded data removed]",
      "text/plain": [
       "<Figure size 432x360 with 1 Axes>"
      ]
     },
     "metadata": {
      "needs_background": "light"
     },
     "output_type": "display_data"
    }
   ],
   "source": [
    "plt.figure(figsize=(6,5))\n",
    "a=np.arange(-5,5,0.05)\n",
    "plt.plot(a,np.exp(-a**2.),'--',label='Ridge')\n",
    "plt.plot(a,np.exp(-np.abs(a)),label='Sparse')\n",
    "plt.legend(fontsize=15)\n",
    "plt.xlabel('x',fontsize=15)\n",
    "plt.ylabel('prob',fontsize=15)"
   ]
  },
  {
   "cell_type": "code",
   "execution_count": 69,
   "metadata": {},
   "outputs": [
    {
     "data": {
      "text/plain": [
       "Text(0, 0.5, '$x_2$')"
      ]
     },
     "execution_count": 69,
     "metadata": {},
     "output_type": "execute_result"
    },
    {
     "data": {
      "image/png": "[encoded data removed]",
      "text/plain": [
       "<Figure size 432x288 with 1 Axes>"
      ]
     },
     "metadata": {
      "needs_background": "light"
     },
     "output_type": "display_data"
    }
   ],
   "source": [
    "A,B=np.meshgrid(a,a)\n",
    "C=np.exp(-(A-B)**2./20)\n",
    "plt.imshow(C,origin='lower',extent=[-5,5,-5,5],interpolation='None')\n",
    "plt.xlabel(r'$x_1$',fontsize=15)\n",
    "plt.ylabel(r'$x_2$',fontsize=15)"
   ]
  },
  {
   "cell_type": "code",
   "execution_count": 28,
   "metadata": {},
   "outputs": [
    {
     "name": "stdout",
     "output_type": "stream",
     "text": [
      "12.376184466611896\n",
      "0.6100000000000001 0.6600000000000001\n",
      "6.58179081757885e+17\n",
      "7.180608373455897\n",
      "1156.9095776334646\n"
     ]
    },
    {
     "data": {
      "image/png": "[encoded data removed]",
      "text/plain": [
       "<Figure size 432x288 with 1 Axes>"
      ]
     },
     "metadata": {
      "needs_background": "light"
     },
     "output_type": "display_data"
    }
   ],
   "source": [
    "ishow=12\n",
    "plt.imshow(sparse3D.deltaR[ishow])\n",
    "print(np.abs(sparse3D.deltaR[ishow]).max())\n",
    "zav=sparse3D.zlBin[ishow]\n",
    "zmin=zav-sparse3D.zlscale/2.\n",
    "zmax=zav+sparse3D.zlscale/2.\n",
    "print(zmin,zmax)\n",
    "pix_mpc=halo.cosmo.Da(0.,0.51)*1./60./180.*np.pi\n",
    "print(halo.Sigma_M_bin(0.50,0.55)*np.sum(sparse3D.deltaR[ishow][24:72,24:72])*pix_mpc**2.)\n",
    "print(np.average(sparse3D.deltaR[ishow][44:52,44:52]))\n",
    "print(np.sum(sparse3D.deltaR[ishow]))"
   ]
  },
  {
   "cell_type": "code",
   "execution_count": 48,
   "metadata": {},
   "outputs": [
    {
     "data": {
      "text/plain": [
       "[<matplotlib.lines.Line2D at 0x7f3596903128>]"
      ]
     },
     "execution_count": 48,
     "metadata": {},
     "output_type": "execute_result"
    },
    {
     "data": {
      "image/png": "[encoded data removed]",
      "text/plain": [
       "<Figure size 432x288 with 1 Axes>"
      ]
     },
     "metadata": {
      "needs_background": "light"
     },
     "output_type": "display_data"
    }
   ],
   "source": [
    "kkkplot(sparse3D.lbd_path[1:200])\n",
    "plt.plot(4.*np.ones(len(sparse3D.lbd_path))[1:200],'black',ls='--')"
   ]
  },
  {
   "cell_type": "code",
   "execution_count": null,
   "metadata": {},
   "outputs": [],
   "source": []
  }
 ],
 "metadata": {
  "kernelspec": {
   "display_name": "Python 3",
   "language": "python",
   "name": "python3"
  },
  "language_info": {
   "codemirror_mode": {
    "name": "ipython",
    "version": 3
   },
   "file_extension": ".py",
   "mimetype": "text/x-python",
   "name": "python",
   "nbconvert_exporter": "python",
   "pygments_lexer": "ipython3",
   "version": "3.7.3"
  },
  "widgets": {
   "application/vnd.jupyter.widget-state+json": {
    "state": {},
    "version_major": 2,
    "version_minor": 0
   }
  }
 },
 "nbformat": 4,
 "nbformat_minor": 4
}
