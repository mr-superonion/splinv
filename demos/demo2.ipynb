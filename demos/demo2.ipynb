{
 "cells": [
  {
   "cell_type": "code",
   "execution_count": 6,
   "id": "341ac429-8916-41c9-a434-aa4734072a60",
   "metadata": {},
   "outputs": [],
   "source": [
    "%matplotlib inline\n",
    "import numpy as np\n",
    "import matplotlib.pylab as plt\n",
    "from splinv import detect\n",
    "from splinv import hmod\n",
    "from splinv import darkmapper\n",
    "from splinv.grid import Cartesian\n",
    "from configparser import ConfigParser"
   ]
  },
  {
   "cell_type": "code",
   "execution_count": 2,
   "id": "0a98aa44-2066-41a8-8efd-2082e8cebf7a",
   "metadata": {},
   "outputs": [],
   "source": [
    "# halo simulation\n",
    "z_h     =  0.2425\n",
    "log_m   =  14.745\n",
    "M_200   =  10.**(log_m)\n",
    "conc    =  4.\n",
    "halo    =  hmod.nfwTJ03(mass=M_200,conc=conc,redshift=z_h,ra=0.,dec=0.)"
   ]
  },
  {
   "cell_type": "code",
   "execution_count": null,
   "id": "c4c8c4ec-bd5c-4348-8a92-576c52b3c5b0",
   "metadata": {},
   "outputs": [],
   "source": [
    "# Reconstruction Init\n",
    "configName  =   'config_darkmapper.ini'\n",
    "parser      =   ConfigParser()\n",
    "parser.read(configName)\n",
    "\n",
    "parser.set('sparse','mu','3e-4')\n",
    "parser.set('lens','resolve_lim','0.02')     #pix\n",
    "parser.set('lens','rs_base','%s' %halo.rs)  #Mpc/h\n",
    "parser.set('sparse','nframe','1' )"
   ]
  },
  {
   "cell_type": "code",
   "execution_count": 4,
   "id": "435a969e-a1b6-4593-b125-b1a48c7f5463",
   "metadata": {},
   "outputs": [],
   "source": [
    "# Grid for pixelation\n",
    "Grid    =   Cartesian(parser)\n",
    "lensKer1=   Grid.lensing_kernel(deltaIn=False) \n",
    "# if deltaIn it is lensing kernel from density contrast to shear\n",
    "\n",
    "CS02    =   hmod.nfwCS02_grid(parser)\n",
    "data2   =   CS02.add_halo(halo)[1]\n",
    "# I give an arbitary error map. It doesnot matter since our data is\n",
    "# noiseless\n",
    "gErr    =   np.ones(Grid.shape)*0.05\n",
    "\n",
    "dmapper =   darkmapper(parser,data2.real,data2.imag,gErr,lensKer1)\n",
    "\n",
    "dmapper.lbd=8. # for lasso\n",
    "dmapper.lcd=0. # for elastic net\n",
    "dmapper.nonNeg=True\n",
    "dmapper.clean_outcomes()\n",
    "dmapper.mu=3e-3\n",
    "dmapper.fista_gradient_descent(3000)\n",
    "w   =   dmapper.adaptive_lasso_weight(gamma=2.)\n",
    "dmapper.fista_gradient_descent(3000,w=w)\n",
    "\n",
    "for _ in range(3):\n",
    "    w   =   dmapper.adaptive_lasso_weight(gamma=2.)\n",
    "    dmapper.fista_gradient_descent(3000,w=w)\n",
    "dmapper.reconstruct()\n",
    "c1  =   detect.local_maxima_3D(dmapper.deltaR)[0][0]\n",
    "# checking the position\n",
    "np.testing.assert_equal(c1,np.array([4,Grid.ny//2,Grid.nx//2]))\n",
    "logm_est=   np.log10((dmapper.alphaR*dmapper._w)[4,0,Grid.ny//2,Grid.nx//2])+14.\n",
    "# checking the mass estimation\n",
    "np.testing.assert_almost_equal(logm_est,log_m,1)"
   ]
  },
  {
   "cell_type": "code",
   "execution_count": 12,
   "id": "be6a44b3-1e4f-4ba3-9f01-bc082bc799cc",
   "metadata": {},
   "outputs": [
    {
     "data": {
      "text/plain": [
       "<matplotlib.image.AxesImage at 0x2acdfc128490>"
      ]
     },
     "execution_count": 12,
     "metadata": {},
     "output_type": "execute_result"
    },
    {
     "data": {
      "image/png": "[encoded data removed]",
      "text/plain": [
       "<Figure size 432x288 with 1 Axes>"
      ]
     },
     "metadata": {
      "needs_background": "light"
     },
     "output_type": "display_data"
    }
   ],
   "source": [
    "plt.imshow(dmapper.deltaR[4])"
   ]
  },
  {
   "cell_type": "code",
   "execution_count": null,
   "id": "3b502afd-e5fd-45d2-92bd-6a3db74e9cec",
   "metadata": {},
   "outputs": [],
   "source": []
  }
 ],
 "metadata": {
  "kernelspec": {
   "display_name": "Python 3 (ipykernel)",
   "language": "python",
   "name": "python3"
  },
  "language_info": {
   "codemirror_mode": {
    "name": "ipython",
    "version": 3
   },
   "file_extension": ".py",
   "mimetype": "text/x-python",
   "name": "python",
   "nbconvert_exporter": "python",
   "pygments_lexer": "ipython3",
   "version": "3.7.12"
  }
 },
 "nbformat": 4,
 "nbformat_minor": 5
}
