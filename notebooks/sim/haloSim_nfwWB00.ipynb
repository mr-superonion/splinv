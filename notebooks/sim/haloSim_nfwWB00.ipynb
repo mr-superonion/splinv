{
 "cells": [
  {
   "cell_type": "code",
   "execution_count": 2,
   "metadata": {
    "slideshow": {
     "slide_type": "skip"
    }
   },
   "outputs": [
    {
     "name": "stdout",
     "output_type": "stream",
     "text": [
      "Populating the interactive namespace from numpy and matplotlib\n"
     ]
    }
   ],
   "source": [
    "import cosmology\n",
    "import galsim\n",
    "%pylab inline"
   ]
  },
  {
   "cell_type": "markdown",
   "metadata": {
    "slideshow": {
     "slide_type": "slide"
    }
   },
   "source": [
    "# NFW Lensing Simulator\n",
    "A module to create NFW lens Surface Density ($\\Sigma$),\n",
    "\n",
    "density contrast ($\\delta$),\n",
    "\n",
    "and lensing kappa ($\\kappa$).\n",
    "\n",
    "Based on the integral functions of a spherical NFW profile: \n",
    "\n",
    "Wright & Brainerd(2000, ApJ, 534, 34)"
   ]
  },
  {
   "cell_type": "markdown",
   "metadata": {
    "slideshow": {
     "slide_type": "subslide"
    }
   },
   "source": [
    "## Evolution of average density\n",
    "$$\\rho_M(z)=\\frac{\\rho_c(0)\\Omega_M(0)}{a^3}$$\n",
    "\n",
    "$$H(z)=H_0 E(z)$$\n",
    "\n",
    "$$\\rho_c(z)=\\rho_c(0)*E(z)^2$$\n",
    "\n",
    "$$\\Omega_M(z)=\\frac{\\Omega_M(0)}{E(z)^{2} a^3}$$"
   ]
  },
  {
   "cell_type": "markdown",
   "metadata": {
    "slideshow": {
     "slide_type": "slide"
    }
   },
   "source": [
    "## Surface density to Kappa\n",
    "$$\\kappa=\\frac{\\Sigma}{\\Sigma_{cr}}$$\n",
    "$\\Sigma$ is termed surface density, which is the intergration of the forground density distribution along the line-of-sight.\n",
    "Given that the forground matter is located at distance $[D_l,D_l+dD_l]$, the surface density is \n",
    "$$d\\Sigma(\\vec{\\theta}) = \\rho(D_l)\\delta(\\vec{\\theta} D_l,D_l) dD_l$$\n",
    "$$d\\Sigma(\\vec{\\theta}) = \\frac{\\rho_0 \\Omega_M}{a^3(D_l)} \\delta(\\vec{\\theta} D_l,D_l) dD_l$$\n",
    "\n",
    "$\\Sigma_{cr}$ is the critical surface density where\n",
    "$$\\frac{1}{\\Sigma_{cr}}(D_l,D_s)=\\frac{4 \\pi G}{c^2}\\frac{D_{ls} D_{l}}{D_{s}}$$\n",
    "$$\\frac{1}{\\Sigma_{cr}}(D_l,D_s)=\\frac{3H_0^2}{2c^2 \\rho_0}\\frac{D_{ls} D_{l}}{D_{s}}$$"
   ]
  },
  {
   "cell_type": "markdown",
   "metadata": {
    "slideshow": {
     "slide_type": "slide"
    }
   },
   "source": [
    "## Density Contrast to Kappa\n",
    "The kappa caused by the such foreground mass distribution to the source at redshift $z_s(D_s)$ is\n",
    "$$d\\kappa(\\vec{\\theta},\\chi_s)= \\frac{3H_0^2\\Omega_M}{2 c^2} \\frac{\\chi_l \\chi_{sl}}{\\chi_s} \\frac{\\delta(\\chi_l \\vec{\\theta},\\chi_l)}{a(\\chi_l)} d\\chi_l $$\n",
    "\n",
    "Intergration of the contributions of foreground matter along the ling-of-sight and we can get Equation (1) in Leonard et al. (2013, GLIMPSE)\n",
    "\n",
    "$$\\kappa(\\vec{\\theta},\\chi_s)=\\frac{3H_0^2\\Omega_M}{2 c^2} \\int_0^{\\chi_s} d\\chi_l \\frac{\\chi_l \\chi_{sl}}{\\chi_s} \\frac{\\delta(\\chi_l \\vec{\\theta},\\chi_l)}{a(\\chi_l)} $$\n",
    "\n",
    "Express with redshift (z)\n",
    "$$\\kappa(\\vec{\\theta},z_s)=\\frac{3H_0\\Omega_M}{2 c} \\int_0^{z_s} dz_l \\frac{\\chi_l \\chi_{sl}}{\\chi_s} \\frac{\\delta(\\vec{\\theta},z_l) (1+z_l)}{E(z_l)} $$\n",
    "If with redshift uncerntainty\n",
    "$$\\kappa(\\vec{\\theta},z)=\\frac{3H_0\\Omega_M}{2 c} \\int dz_s P(z_s|z,\\vec{\\theta}) \\int_0^{z_s} dz_l \\frac{\\chi_l \\chi_{sl}}{\\chi_s} \\frac{\\delta(\\vec{\\theta},z_l) (1+z_l)}{E(z_l)} $$"
   ]
  },
  {
   "cell_type": "markdown",
   "metadata": {
    "slideshow": {
     "slide_type": "subslide"
    }
   },
   "source": [
    "## Geometric Equations\n",
    "$$dt = \\frac{da}{a H(a)}$$\n",
    "$$d\\chi = \\frac{c}{a} dt$$\n",
    "$$d \\chi   = \\frac{c da}{a^2 H(a)} $$\n",
    "$$d z   = -\\frac{ da}{a^2} $$\n",
    "$$d \\chi   = -\\frac{c dz}{H(a)} $$\n",
    "$$ \\chi_l = \\chi_0 - \\chi$$\n",
    "$$d \\chi_l   = \\frac{c dz}{H(z)} $$"
   ]
  },
  {
   "cell_type": "markdown",
   "metadata": {
    "slideshow": {
     "slide_type": "slide"
    }
   },
   "source": [
    "## Density Contrast to Kappa\n",
    "$$\\kappa(\\vec{\\theta},z_s)=\\frac{3H_0\\Omega_M}{2 c} \\int_0^{z_s} dz_l \\frac{\\chi_l \\chi_{sl}}{\\chi_s} \\frac{\\delta(\\vec{\\theta},z_l) (1+z_l)}{E(z_l)} $$\n",
    "## Pixelization along line-of-sight\n",
    "$$\\kappa(\\vec{\\theta},z_s)=\\frac{3H_0\\Omega_M}{2 c} \\sum_i  \\int_{z_i-\\Delta z/2}^{z_i+\\Delta z/2} dz_l \\frac{\\chi_l \\chi_{sl}}{\\chi_s} \\frac{\\delta(\\vec{\\theta},z_l) (1+z_l)}{E(z_l)} $$\n",
    "$$\\kappa(\\vec{\\theta},z_s)=\\frac{3H_0\\Omega_M}{2 c} \\sum_i \\delta(\\vec{\\theta},z_i) \\frac{\\chi_l \\chi_{sl}}{\\chi_s} \\frac{ (1+z_i)}{E(z_i)} \\Delta z $$"
   ]
  },
  {
   "cell_type": "code",
   "execution_count": 6,
   "metadata": {
    "slideshow": {
     "slide_type": "skip"
    }
   },
   "outputs": [],
   "source": [
    "#important constant\n",
    "C_LIGHT=2.99792458e8        # m/s\n",
    "GNEWTON=6.67428e-11         # m^3/kg/s^2\n",
    "KG_PER_SUN=1.98892e30       # kg/M_solar\n",
    "M_PER_PARSEC=3.08568025e16  # m/pc\n",
    "def four_pi_G_over_c_squared():\n",
    "    # = 1.5*H0^2/roh_0/c^2\n",
    "    # We want it return 4piG/c^2 in unit of Mpc/M_solar \n",
    "    # in unit of m/kg\n",
    "    fourpiGoverc2 = 4.0*np.pi*GNEWTON/(C_LIGHT**2)\n",
    "    # in unit of pc/M_solar \n",
    "    fourpiGoverc2 *= KG_PER_SUN/M_PER_PARSEC\n",
    "    # in unit of Mpc/M_solar\n",
    "    fourpiGoverc2 /= 1.e6\n",
    "    return fourpiGoverc2   \n",
    "\n",
    "\n",
    "class nfw_lensWB00():\n",
    "    \"\"\"\n",
    "    Based on the integral functions of a spherical NFW profile: \n",
    "    Wright & Brainerd(2000, ApJ, 534, 34)\n",
    "    \n",
    "    @param mass         Mass defined using a spherical overdensity of 200 times the critical density\n",
    "                        of the universe, in units of M_solar/h.\n",
    "    @param conc         Concentration parameter, i.e., ratio of virial radius to NFW scale radius.\n",
    "    @param redshift     Redshift of the halo.\n",
    "    @param ra           ra of halo center  [arcsec].\n",
    "    @param dec          dec of halo center [arcsec].\n",
    "    @param omega_m      Omega_matter to pass to Cosmology constructor. [default: 0.3]\n",
    "                        omega_lam is set to 1-omega_matter.\n",
    "    \"\"\"\n",
    "    def __init__(self,mass,conc,redshift,ra,dec,omega_m=0.3):\n",
    "        self.cosmo=cosmology.Cosmo(h=1,omega_m=omega_m)\n",
    "        self.M = float(mass)\n",
    "        self.c = float(conc)\n",
    "        # \\delta_c in equation (2)\n",
    "        self.delta_nfw  =200./3*self.c**3/(np.log(1+self.c)-(1.*self.c)/(1+self.c))\n",
    "        self.z = float(redshift)\n",
    "        # E(z)^{-1}\n",
    "        self.ezInv=self.cosmo.Ez_inverse(self.z)\n",
    "        # critical density \n",
    "        # in unit of M_solar / Mpc^3\n",
    "        rho_cZ   = self.cosmo.rho0()/self.ezInv**2\n",
    "        # charateristic matter density within R200 at redshift z\n",
    "        # \\delta_c \\times \\rho_c in equation (1),(11)\n",
    "        self.rho_s=   rho_cZ*self.delta_nfw\n",
    "        # scale radius\n",
    "        self.a = 1./(1.+self.z)\n",
    "        self.DaLens=self.cosmo.Da(0.,self.z)\n",
    "        # ra_l,dec_l\n",
    "        self.ra=ra\n",
    "        self.dec=dec\n",
    "        \n",
    "        # First we get the virial radius, which is defined for some spherical overdensity as\n",
    "        # 3 M / [4 pi (r_vir)^3] = overdensity\n",
    "        # Here we have overdensity = 200 * rhocrit, to determine R200 (angular distance). \n",
    "        # The factor of 1.63e-5 comes from the following set of prefactors: \n",
    "        # (3 / (4 pi * 200 * rhocrit))^(1/3), where rhocrit = 2.8e11 h^2 M_solar / Mpc^3. \n",
    "        #(H0=100.\n",
    "        #DH=C_LIGHT/1e3/H0\n",
    "        #rho_crit0=1.5/four_pi_G_over_c_squared()/(DH)**2.)\n",
    "        # The mass in the equation below is in M_solar/h, \n",
    "        # which is how the final units are Mpc/h.\n",
    "        R200 = 1.63e-5*(self.M*self.ezInv**2)**(1./3.) # in Mpc/h\n",
    "        self.rs = R200/self.c\n",
    "\n",
    "        # convert scale radius in arcsec\n",
    "        dl = self.cosmo.Da(0.,self.z) # in Mpc/h\n",
    "        scale = self.rs / dl\n",
    "        arcsec2rad = np.pi/180./3600\n",
    "        self.rs_arcsec = scale/arcsec2rad\n",
    "        return\n",
    "    \n",
    "    \n",
    "    \n",
    "    def __DdRs(self,ra_s,dec_s):\n",
    "        \"\"\"Calculate 'x' the radius r in units of the NFW scale\n",
    "        radius, r_s.\n",
    "        @param ra_s       ra of sources [arcsec].\n",
    "        @param dec_s      dec of sources [arcsec].\n",
    "        \"\"\"\n",
    "        \n",
    "        \n",
    "        x = ((ra_s - self.ra)**2 + (dec_s - self.dec)**2)**0.5/self.rs_arcsec\n",
    "        return x\n",
    "    \n",
    "    def __sin2phi(self,ra_s,dec_s):\n",
    "        \"\"\"Calculate cos2phi and sin2phi with reference to the halo center\n",
    "        @param ra_s       ra of sources [arcsec].\n",
    "        @param dec_s      dec of sources [arcsec].\n",
    "        \"\"\"\n",
    "        \n",
    "        # pure tangential shear, no cross component\n",
    "        dx = ra_s - self.ra\n",
    "        dy = dec_s - self.dec\n",
    "        drsq = dx*dx+dy*dy\n",
    "        \n",
    "        return np.divide(2*dx*dy, drsq, where=(drsq != 0.))\n",
    "    \n",
    "    \n",
    "    def __cos2phi(self,ra_s,dec_s):\n",
    "        \"\"\"Calculate cos2phi and sin2phi with reference to the halo center\n",
    "        @param ra_s       ra of sources [arcsec].\n",
    "        @param dec_s      dec of sources [arcsec].\n",
    "        \"\"\"\n",
    "        \n",
    "        # pure tangential shear, no cross component\n",
    "        dx = ra_s - self.ra\n",
    "        dy = dec_s - self.dec\n",
    "        drsq = dx*dx+dy*dy\n",
    "        \n",
    "        return np.divide(dx*dx-dy*dy, drsq, where=(drsq != 0.))\n",
    "    \n",
    "    \n",
    "    def __Sigma(self,x):\n",
    "        out = np.zeros_like(x, dtype=float)\n",
    "\n",
    "        # 3 cases: x < 1, x > 1, and |x-1| < 0.001\n",
    "        mask = np.where(x < 0.999)[0]\n",
    "        a = ((1 - x[mask])/(x[mask] + 1))**0.5\n",
    "        out[mask] = 2/(x[mask]**2 - 1) * (1 - 2*np.arctanh(a)/(1-x[mask]**2)**0.5)\n",
    "\n",
    "        mask = np.where(x > 1.001)[0]\n",
    "        a = ((x[mask] - 1)/(x[mask] + 1))**0.5\n",
    "        out[mask] = 2/(x[mask]**2 - 1) * (1 - 2*np.arctan(a)/(x[mask]**2- 1)**0.5)\n",
    "\n",
    "        # the approximation below has a maximum fractional error of 7.4e-7\n",
    "        mask = np.where((x >= 0.999) & (x <= 1.001))[0]\n",
    "        out[mask] = (22./15. - 0.8*x[mask])\n",
    "        \n",
    "        return out* self.rs * self.rho_s\n",
    "    \n",
    "    \n",
    "    \n",
    "    def Sigma(self,ra_s,dec_s):\n",
    "        \"\"\"Calculate Surface Density (Sigma) of halo.\n",
    "        Equation (11) in Wright & Brainerd (2000, ApJ, 534, 34).\n",
    "        @param ra_s       ra of sources [arcsec].\n",
    "        @param dec_s      dec of sources [arcsec].\n",
    "        \"\"\"\n",
    "        \n",
    "        # convenience: call with single number\n",
    "        assert isinstance(ra_s,np.ndarray)==isinstance(dec_s,np.ndarray),\\\n",
    "            'ra_s and dec_s do not have same type'\n",
    "        if not isinstance(ra_s,np.ndarray):\n",
    "            ra_sA=np.array([ra_s], dtype='float')\n",
    "            dec_sA=np.array([dec_s], dtype='float')\n",
    "            return self.Sigma(ra_sA,dec_sA)[0]\n",
    "        assert len(ra_s)==len(dec_s),\\\n",
    "            'input ra and dec have different length '\n",
    "        x=self.__DdRs(ra_s,dec_s)\n",
    "        return self.__Sigma(x)\n",
    "        \n",
    "    def __DeltaSigma(self,x):\n",
    "        out = np.zeros_like(x, dtype=float)\n",
    "\n",
    "        # 4 cases:\n",
    "        # x > 1,0.01< x < 1,|x-1| < 0.001\n",
    "        # x<0.01\n",
    "\n",
    "        mask = np.where(x > 1.001)[0]\n",
    "        a = ((x[mask]-1.)/(x[mask]+1.))**0.5\n",
    "        out[mask] = x[mask]**(-2)*(4.*np.log(x[mask]/2)+8.*np.arctan(a)/(x[mask]**2 - 1)**0.5)*self.rs * self.rho_s\\\n",
    "                    -self.__Sigma(x[mask])\n",
    "        \n",
    "        mask = np.where((x < 0.999) & (x> 0.01))[0]  # Equivalent but usually faster than `mask = (x < 0.999)`\n",
    "        a = ((1.-x[mask])/(x[mask]+1.))**0.5\n",
    "        out[mask] = x[mask]**(-2)*(4.*np.log(x[mask]/2)+8.*np.arctanh(a)/(1-x[mask]**2)**0.5)*self.rs * self.rho_s\\\n",
    "                    -self.__Sigma(x[mask])\n",
    "\n",
    "        # the approximation below has a maximum fractional error of 2.3e-7\n",
    "        mask = np.where((x >= 0.999) & (x <= 1.001))[0]\n",
    "        out[mask] = (4.*np.log(x[mask]/2)+40./6. - 8.*x[mask]/3.)*self.rs * self.rho_s\\\n",
    "                    -self.__Sigma(x[mask])\n",
    "        \n",
    "        # the approximation below has a maximum fractional error of 1.1e-7\n",
    "        mask = np.where(x <= 0.01)[0]\n",
    "        out[mask] = 4*(0.25 + 0.125 * x[mask]**2 * (3.25 + 3.0*np.log(x[mask]/2)))*self.rs * self.rho_s\n",
    "        return out\n",
    "    \n",
    "    def DeltaSigma(self,ra_s,dec_s):\n",
    "        \"\"\"Calculate excess surface density of halo.\n",
    "        @param ra_s       ra of sources [arcsec].\n",
    "        @param dec_s      dec of sources [arcsec].\n",
    "        \"\"\"\n",
    "        \n",
    "        # convenience: call with single number\n",
    "        assert isinstance(ra_s,np.ndarray)==isinstance(dec_s,np.ndarray),\\\n",
    "            'ra_s and dec_s do not have same type'\n",
    "        if not isinstance(ra_s,np.ndarray):\n",
    "            ra_sA=np.array([ra_s], dtype='float')\n",
    "            dec_sA=np.array([dec_s], dtype='float')\n",
    "            return self.DeltaSigma(ra_sA,dec_sA)[0]\n",
    "        assert len(ra_s)==len(dec_s),\\\n",
    "            'input ra and dec have different length '\n",
    "        x=self.__DdRs(ra_s,dec_s)\n",
    "        return self.__DeltaSigma(x)\n",
    "    \n",
    "    \n",
    "    def DeltaSigmaComplex(self,ra_s,dec_s):\n",
    "        \"\"\"Calculate excess surface density of halo.\n",
    "        return a complex array \\Delta \\Sigma_1+ i \\Delta \\Sigma_2\n",
    "        @param ra_s       ra of sources [arcsec].\n",
    "        @param dec_s      dec of sources [arcsec].\n",
    "        \"\"\"\n",
    "        # convenience: call with single number\n",
    "        assert isinstance(ra_s,np.ndarray)==isinstance(dec_s,np.ndarray),\\\n",
    "            'ra_s and dec_s do not have same type'\n",
    "        if not isinstance(ra_s,np.ndarray):\n",
    "            ra_sA=np.array([ra_s], dtype='float')\n",
    "            dec_sA=np.array([dec_s], dtype='float')\n",
    "            return self.DeltaSigmaComplex(ra_sA,dec_sA)[0]\n",
    "        assert len(ra_s)==len(dec_s),\\\n",
    "            'input ra and dec have different length '\n",
    "        x=self.__DdRs(ra_s,dec_s)\n",
    "        DeltaSigma=self.__DeltaSigma(x)\n",
    "        DeltaSigma1 = -DeltaSigma*self.__cos2phi(ra_s,dec_s)\n",
    "        DeltaSigma2 = -DeltaSigma*self.__sin2phi(ra_s,dec_s)\n",
    "        return DeltaSigma1+1j*DeltaSigma2\n",
    "        \n",
    "        \n",
    "        \n",
    "    def lensKernel(self,z_s):\n",
    "        \"\"\"Lensing kernel of halo as function of source redshift.\n",
    "        @param z_s        redshift of sources.\n",
    "        \"\"\"\n",
    "        \n",
    "        # convenience: call with single number\n",
    "        if not isinstance(z_s, np.ndarray):\n",
    "            return self.lensKernel(np.array([z_s], dtype='float'))[0]\n",
    "        # lensing weights: the only thing that depends on z_s\n",
    "        # First mask the data with z<z_l\n",
    "        k_s =   np.zeros(len(z_s))\n",
    "        mask=   z_s>self.z\n",
    "        k_s[mask] =   self.cosmo.Da(self.z,z_s[mask])*self.DaLens/self.cosmo.Da(0.,z_s[mask])*four_pi_G_over_c_squared()\n",
    "        return k_s\n",
    "    \n",
    "    \n",
    "    def Sigma_M_bin(self,z_bin_min,z_bin_max):\n",
    "        \"\"\"Zero-order Surface mass density\n",
    "        within redshift bin [z_bin_min,z_bin_max].\n",
    "        @param z_bin_min   minimum of redshift bin.\n",
    "        @param z_bin_max   maximum of redshift bin.\n",
    "        \"\"\"\n",
    "        \n",
    "        # convenience: call with single number\n",
    "        assert isinstance(z_bin_min,np.ndarray)==isinstance(z_bin_max,np.ndarray),\\\n",
    "            'z_bin_min and z_bin_max do not have same type'\n",
    "        \n",
    "        if not isinstance(z_bin_min,np.ndarray):\n",
    "            z_bin_minA=np.array([z_bin_min], dtype='float')\n",
    "            z_bin_maxA=np.array([z_bin_max], dtype='float')\n",
    "            return self.Sigma(z_bin_minA,z_bin_maxA)[0]\n",
    "        assert len(z_bin_min)==len(z_bin_max),\\\n",
    "            'input ra and dec have different length '\n",
    "        # Here we approximate the average rho_M for redshif bin\n",
    "        # as the rho_M at the mean redshift\n",
    "        rhoM_ave=self.cosmo.rho_m((z_bin_min+z_bin_max)/2.)\n",
    "        DaBin=self.cosmo.Da(z_bin_min,z_bin_max)\n",
    "        return rhoM_ave*DaBin\n",
    "\n",
    "    \n",
    "    \n",
    "def ksInverse(gMap):\n",
    "    gFouMap =   np.fft.fft2(gMap)\n",
    "    e2phiF  =   e2phiFou(gFouMap.shape)\n",
    "    kFouMap =   gFouMap/e2phiF*np.pi\n",
    "    kMap    =   np.fft.ifft2(kFouMap)\n",
    "    return kMap\n",
    "\n",
    "def ksForward(kMap):\n",
    "    kFouMap =   np.fft.fft2(kMap)\n",
    "    e2phiF  =   e2phiFou(gFouMap.shape)\n",
    "    gFouMap =   kFouMap*e2phiF/np.pi\n",
    "    gMap    =   np.fft.ifft2(gFouMap)\n",
    "    return gMap\n",
    "\n",
    "def e2phiFou(shape):\n",
    "    ny1,nx1 =   shape\n",
    "    e2phiF  =   np.zeros(shape,dtype=complex)\n",
    "    for j in range(ny1):\n",
    "        jy  =   (j+ny1//2)%ny1-ny1//2\n",
    "        jy  =   jy/ny1\n",
    "        for i in range(nx1):\n",
    "            ix  =   (i+nx1//2)%nx1-nx1//2\n",
    "            ix  =   ix/nx1\n",
    "            if (i**2+j**2)>0:\n",
    "                e2phiF[j,i]    =   np.complex((ix**2.-jy**2.),2.*ix*jy)/(ix**2.+jy**2.)\n",
    "            else:\n",
    "                e2phiF[j,i]    =   1.\n",
    "    return e2phiF*np.pi"
   ]
  },
  {
   "cell_type": "markdown",
   "metadata": {
    "slideshow": {
     "slide_type": "slide"
    }
   },
   "source": [
    "# NFW Halolet $\\Delta \\Sigma$"
   ]
  },
  {
   "cell_type": "code",
   "execution_count": 9,
   "metadata": {
    "slideshow": {
     "slide_type": "fragment"
    }
   },
   "outputs": [
    {
     "data": {
      "text/plain": [
       "Text(0, 0.5, '$\\\\Delta \\\\Sigma_r$')"
      ]
     },
     "execution_count": 9,
     "metadata": {},
     "output_type": "execute_result"
    },
    {
     "data": {
      "image/png": "[encoded data removed]",
      "text/plain": [
       "<Figure size 432x288 with 1 Axes>"
      ]
     },
     "metadata": {
      "needs_background": "light"
     },
     "output_type": "display_data"
    }
   ],
   "source": [
    "halo=nfw_lensWB00(mass=1e15,conc=0.1,redshift=0.3,ra=0.,dec=0.)\n",
    "x=np.linspace(0.001,30.,3000)\n",
    "y=np.zeros(3000)\n",
    "DeltaSigma=halo.DeltaSigma(x*halo.rs_arcsec,y*halo.rs_arcsec)\n",
    "plt.loglog(x,DeltaSigma/DeltaSigma[0])\n",
    "plt.grid()\n",
    "plt.title(r'$\\Delta \\Sigma_r - x$',fontsize=20)\n",
    "plt.xlabel(r'$r/r_s$')\n",
    "plt.ylabel(r'$\\Delta \\Sigma_r$')"
   ]
  },
  {
   "cell_type": "markdown",
   "metadata": {
    "slideshow": {
     "slide_type": "slide"
    }
   },
   "source": [
    "# NFW Halolet $\\Sigma$"
   ]
  },
  {
   "cell_type": "code",
   "execution_count": 10,
   "metadata": {
    "slideshow": {
     "slide_type": "fragment"
    }
   },
   "outputs": [
    {
     "data": {
      "text/plain": [
       "Text(0, 0.5, '$ \\\\Sigma_r$')"
      ]
     },
     "execution_count": 10,
     "metadata": {},
     "output_type": "execute_result"
    },
    {
     "data": {
      "image/png": "[encoded data removed]",
      "text/plain": [
       "<Figure size 432x288 with 1 Axes>"
      ]
     },
     "metadata": {
      "needs_background": "light"
     },
     "output_type": "display_data"
    }
   ],
   "source": [
    "Sigma=halo.Sigma(x*halo.rs_arcsec,y*halo.rs_arcsec)\n",
    "plt.loglog(x,Sigma/Sigma[0])\n",
    "plt.grid()\n",
    "plt.title(r'$\\Sigma_r - x$',fontsize=20)\n",
    "plt.xlabel(r'$r/r_s$')\n",
    "plt.ylabel(r'$ \\Sigma_r$')"
   ]
  }
 ],
 "metadata": {
  "celltoolbar": "Slideshow",
  "kernelspec": {
   "display_name": "Python 3",
   "language": "python",
   "name": "python3"
  },
  "language_info": {
   "codemirror_mode": {
    "name": "ipython",
    "version": 3
   },
   "file_extension": ".py",
   "mimetype": "text/x-python",
   "name": "python",
   "nbconvert_exporter": "python",
   "pygments_lexer": "ipython3",
   "version": "3.7.8"
  },
  "widgets": {
   "application/vnd.jupyter.widget-state+json": {
    "state": {},
    "version_major": 2,
    "version_minor": 0
   }
  }
 },
 "nbformat": 4,
 "nbformat_minor": 4
}
